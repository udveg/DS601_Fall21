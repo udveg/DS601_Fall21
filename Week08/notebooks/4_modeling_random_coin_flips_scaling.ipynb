{
 "cells": [
  {
   "cell_type": "code",
   "execution_count": 1,
   "metadata": {},
   "outputs": [],
   "source": [
    "import random\n",
    "import timeit\n",
    "import time"
   ]
  },
  {
   "cell_type": "code",
   "execution_count": 2,
   "metadata": {},
   "outputs": [],
   "source": [
    "def create_sequence_of_interest(length_of_seq):\n",
    "    \"\"\"\n",
    "    create a sequence of given length containing integer values, either 0 or 1\n",
    "\n",
    "    this is intended to represent the outcome of a sequence of coin flips\n",
    "    \"\"\"\n",
    "    list_of_flips=[]\n",
    "    for this_flip in range(length_of_seq):\n",
    "        list_of_flips.append(random.randint(0, 1))\n",
    "    return list_of_flips\n",
    "\n"
   ]
  },
  {
   "cell_type": "code",
   "execution_count": 3,
   "metadata": {},
   "outputs": [],
   "source": [
    "# create_sequence_of_interest(10)"
   ]
  },
  {
   "cell_type": "code",
   "execution_count": 4,
   "metadata": {},
   "outputs": [],
   "source": [
    "def find_match(sequence_of_interest):\n",
    "    \"\"\"\n",
    "    given a sequence of integers (either 1 or 2), flip a coin until that sequence is found\n",
    "    \"\"\"\n",
    "    interested_seq = list(sequence_of_interest)\n",
    "    seq = []\n",
    "    while True:\n",
    "        if len(interested_seq) == 0:\n",
    "            # print(seq)\n",
    "            break\n",
    "\n",
    "        flip_result = random.choice([0,1])\n",
    "        seq.append(flip_result)\n",
    "\n",
    "        if interested_seq[0] == flip_result:\n",
    "            interested_seq.pop(0)\n",
    "        else:\n",
    "            interested_seq = list(sequence_of_interest)\n",
    "\n",
    "    #print(\"number of coin flips:\",number_of_coin_flips)\n",
    "#     elapsed = timeit.default_timer() - start_time\n",
    "    #print(str(elapsed) + \" seconds\")\n",
    "#     return elapsed, number_of_coin_flips\n",
    "\n",
    "    return seq\n",
    "    "
   ]
  },
  {
   "cell_type": "code",
   "execution_count": 5,
   "metadata": {},
   "outputs": [],
   "source": [
    "number_of_tries_per_loop=1000\n",
    "start_length=3\n",
    "end_length=10"
   ]
  },
  {
   "cell_type": "code",
   "execution_count": 6,
   "metadata": {},
   "outputs": [
    {
     "name": "stdout",
     "output_type": "stream",
     "text": [
      "elapsed: 1634771758.6687207 seconds\n"
     ]
    }
   ],
   "source": [
    "list_of_result_dicts=[] \n",
    "\n",
    "main_start_time = timeit.default_timer()\n",
    "for length_of_seq in range(3,10):\n",
    "    for this_try in range(number_of_tries_per_loop):\n",
    "        start_time = timeit.default_timer()\n",
    "        \n",
    "        sequence_of_interest = create_sequence_of_interest(length_of_seq)\n",
    "        # print(sequence_of_interest)\n",
    "        \n",
    "        seq = find_match(sequence_of_interest)\n",
    "        \n",
    "        elapsed = timeit.default_timer() - start_time\n",
    "        \n",
    "        number_of_coin_flips = len(seq)\n",
    "        # print(elapsed,\"seconds\")\n",
    "        # print(number_of_coin_flips)\n",
    "        this_result={}\n",
    "        this_result['elapsed time in seconds'] = elapsed\n",
    "        this_result['number of flips'] = number_of_coin_flips\n",
    "        this_result['sequence length'] = length_of_seq\n",
    "        list_of_result_dicts.append(this_result)\n",
    "        \n",
    "print('elapsed:',time.time()-main_start_time,'seconds')"
   ]
  },
  {
   "cell_type": "code",
   "execution_count": 7,
   "metadata": {},
   "outputs": [
    {
     "data": {
      "text/plain": [
       "'1.2.4'"
      ]
     },
     "execution_count": 7,
     "metadata": {},
     "output_type": "execute_result"
    }
   ],
   "source": [
    "import pandas\n",
    "pandas.__version__"
   ]
  },
  {
   "cell_type": "code",
   "execution_count": 8,
   "metadata": {},
   "outputs": [
    {
     "data": {
      "text/html": [
       "<div>\n",
       "<style scoped>\n",
       "    .dataframe tbody tr th:only-of-type {\n",
       "        vertical-align: middle;\n",
       "    }\n",
       "\n",
       "    .dataframe tbody tr th {\n",
       "        vertical-align: top;\n",
       "    }\n",
       "\n",
       "    .dataframe thead th {\n",
       "        text-align: right;\n",
       "    }\n",
       "</style>\n",
       "<table border=\"1\" class=\"dataframe\">\n",
       "  <thead>\n",
       "    <tr style=\"text-align: right;\">\n",
       "      <th></th>\n",
       "      <th>elapsed time in seconds</th>\n",
       "      <th>number of flips</th>\n",
       "      <th>sequence length</th>\n",
       "    </tr>\n",
       "  </thead>\n",
       "  <tbody>\n",
       "    <tr>\n",
       "      <th>0</th>\n",
       "      <td>0.000041</td>\n",
       "      <td>20</td>\n",
       "      <td>3</td>\n",
       "    </tr>\n",
       "    <tr>\n",
       "      <th>1</th>\n",
       "      <td>0.000014</td>\n",
       "      <td>9</td>\n",
       "      <td>3</td>\n",
       "    </tr>\n",
       "    <tr>\n",
       "      <th>2</th>\n",
       "      <td>0.000007</td>\n",
       "      <td>3</td>\n",
       "      <td>3</td>\n",
       "    </tr>\n",
       "    <tr>\n",
       "      <th>3</th>\n",
       "      <td>0.000012</td>\n",
       "      <td>9</td>\n",
       "      <td>3</td>\n",
       "    </tr>\n",
       "    <tr>\n",
       "      <th>4</th>\n",
       "      <td>0.000108</td>\n",
       "      <td>17</td>\n",
       "      <td>3</td>\n",
       "    </tr>\n",
       "    <tr>\n",
       "      <th>5</th>\n",
       "      <td>0.000021</td>\n",
       "      <td>19</td>\n",
       "      <td>3</td>\n",
       "    </tr>\n",
       "    <tr>\n",
       "      <th>6</th>\n",
       "      <td>0.000009</td>\n",
       "      <td>5</td>\n",
       "      <td>3</td>\n",
       "    </tr>\n",
       "    <tr>\n",
       "      <th>7</th>\n",
       "      <td>0.000037</td>\n",
       "      <td>40</td>\n",
       "      <td>3</td>\n",
       "    </tr>\n",
       "    <tr>\n",
       "      <th>8</th>\n",
       "      <td>0.000012</td>\n",
       "      <td>9</td>\n",
       "      <td>3</td>\n",
       "    </tr>\n",
       "    <tr>\n",
       "      <th>9</th>\n",
       "      <td>0.000020</td>\n",
       "      <td>3</td>\n",
       "      <td>3</td>\n",
       "    </tr>\n",
       "  </tbody>\n",
       "</table>\n",
       "</div>"
      ],
      "text/plain": [
       "   elapsed time in seconds  number of flips  sequence length\n",
       "0                 0.000041               20                3\n",
       "1                 0.000014                9                3\n",
       "2                 0.000007                3                3\n",
       "3                 0.000012                9                3\n",
       "4                 0.000108               17                3\n",
       "5                 0.000021               19                3\n",
       "6                 0.000009                5                3\n",
       "7                 0.000037               40                3\n",
       "8                 0.000012                9                3\n",
       "9                 0.000020                3                3"
      ]
     },
     "execution_count": 8,
     "metadata": {},
     "output_type": "execute_result"
    }
   ],
   "source": [
    "results_df = pandas.DataFrame(list_of_result_dicts)\n",
    "results_df.head(10)"
   ]
  },
  {
   "cell_type": "code",
   "execution_count": 9,
   "metadata": {},
   "outputs": [
    {
     "data": {
      "text/plain": [
       "'3.3.4'"
      ]
     },
     "execution_count": 9,
     "metadata": {},
     "output_type": "execute_result"
    }
   ],
   "source": [
    "import matplotlib\n",
    "import matplotlib.pyplot as plt\n",
    "matplotlib.__version__"
   ]
  },
  {
   "cell_type": "code",
   "execution_count": 10,
   "metadata": {},
   "outputs": [
    {
     "data": {
      "image/png": "[encoded data removed]",
      "text/plain": [
       "<Figure size 432x288 with 1 Axes>"
      ]
     },
     "metadata": {
      "needs_background": "light"
     },
     "output_type": "display_data"
    }
   ],
   "source": [
    "results_df.plot.scatter(x='sequence length',y='elapsed time in seconds')\n",
    "plt.show()"
   ]
  },
  {
   "cell_type": "code",
   "execution_count": 11,
   "metadata": {},
   "outputs": [
    {
     "data": {
      "image/png": "[encoded data removed]",
      "text/plain": [
       "<Figure size 432x288 with 1 Axes>"
      ]
     },
     "metadata": {
      "needs_background": "light"
     },
     "output_type": "display_data"
    }
   ],
   "source": [
    "results_df.plot.scatter(x='sequence length',y='number of flips')\n",
    "plt.show()"
   ]
  },
  {
   "cell_type": "code",
   "execution_count": 12,
   "metadata": {},
   "outputs": [
    {
     "data": {
      "text/html": [
       "<div>\n",
       "<style scoped>\n",
       "    .dataframe tbody tr th:only-of-type {\n",
       "        vertical-align: middle;\n",
       "    }\n",
       "\n",
       "    .dataframe tbody tr th {\n",
       "        vertical-align: top;\n",
       "    }\n",
       "\n",
       "    .dataframe thead tr th {\n",
       "        text-align: left;\n",
       "    }\n",
       "\n",
       "    .dataframe thead tr:last-of-type th {\n",
       "        text-align: right;\n",
       "    }\n",
       "</style>\n",
       "<table border=\"1\" class=\"dataframe\">\n",
       "  <thead>\n",
       "    <tr>\n",
       "      <th></th>\n",
       "      <th colspan=\"8\" halign=\"left\">elapsed time in seconds</th>\n",
       "      <th colspan=\"8\" halign=\"left\">number of flips</th>\n",
       "    </tr>\n",
       "    <tr>\n",
       "      <th></th>\n",
       "      <th>count</th>\n",
       "      <th>mean</th>\n",
       "      <th>std</th>\n",
       "      <th>min</th>\n",
       "      <th>25%</th>\n",
       "      <th>50%</th>\n",
       "      <th>75%</th>\n",
       "      <th>max</th>\n",
       "      <th>count</th>\n",
       "      <th>mean</th>\n",
       "      <th>std</th>\n",
       "      <th>min</th>\n",
       "      <th>25%</th>\n",
       "      <th>50%</th>\n",
       "      <th>75%</th>\n",
       "      <th>max</th>\n",
       "    </tr>\n",
       "    <tr>\n",
       "      <th>sequence length</th>\n",
       "      <th></th>\n",
       "      <th></th>\n",
       "      <th></th>\n",
       "      <th></th>\n",
       "      <th></th>\n",
       "      <th></th>\n",
       "      <th></th>\n",
       "      <th></th>\n",
       "      <th></th>\n",
       "      <th></th>\n",
       "      <th></th>\n",
       "      <th></th>\n",
       "      <th></th>\n",
       "      <th></th>\n",
       "      <th></th>\n",
       "      <th></th>\n",
       "    </tr>\n",
       "  </thead>\n",
       "  <tbody>\n",
       "    <tr>\n",
       "      <th>3</th>\n",
       "      <td>1000.0</td>\n",
       "      <td>0.000015</td>\n",
       "      <td>0.000017</td>\n",
       "      <td>0.000004</td>\n",
       "      <td>0.000007</td>\n",
       "      <td>0.000011</td>\n",
       "      <td>0.000018</td>\n",
       "      <td>0.000253</td>\n",
       "      <td>1000.0</td>\n",
       "      <td>14.396</td>\n",
       "      <td>11.875951</td>\n",
       "      <td>3.0</td>\n",
       "      <td>6.0</td>\n",
       "      <td>11.0</td>\n",
       "      <td>19.00</td>\n",
       "      <td>82.0</td>\n",
       "    </tr>\n",
       "    <tr>\n",
       "      <th>4</th>\n",
       "      <td>1000.0</td>\n",
       "      <td>0.000023</td>\n",
       "      <td>0.000031</td>\n",
       "      <td>0.000005</td>\n",
       "      <td>0.000009</td>\n",
       "      <td>0.000015</td>\n",
       "      <td>0.000028</td>\n",
       "      <td>0.000757</td>\n",
       "      <td>1000.0</td>\n",
       "      <td>29.931</td>\n",
       "      <td>29.504623</td>\n",
       "      <td>4.0</td>\n",
       "      <td>10.0</td>\n",
       "      <td>21.0</td>\n",
       "      <td>39.00</td>\n",
       "      <td>257.0</td>\n",
       "    </tr>\n",
       "    <tr>\n",
       "      <th>5</th>\n",
       "      <td>1000.0</td>\n",
       "      <td>0.000041</td>\n",
       "      <td>0.000044</td>\n",
       "      <td>0.000006</td>\n",
       "      <td>0.000015</td>\n",
       "      <td>0.000028</td>\n",
       "      <td>0.000049</td>\n",
       "      <td>0.000512</td>\n",
       "      <td>1000.0</td>\n",
       "      <td>58.604</td>\n",
       "      <td>58.175644</td>\n",
       "      <td>5.0</td>\n",
       "      <td>19.0</td>\n",
       "      <td>41.0</td>\n",
       "      <td>77.00</td>\n",
       "      <td>464.0</td>\n",
       "    </tr>\n",
       "    <tr>\n",
       "      <th>6</th>\n",
       "      <td>1000.0</td>\n",
       "      <td>0.000079</td>\n",
       "      <td>0.000075</td>\n",
       "      <td>0.000008</td>\n",
       "      <td>0.000028</td>\n",
       "      <td>0.000056</td>\n",
       "      <td>0.000104</td>\n",
       "      <td>0.000609</td>\n",
       "      <td>1000.0</td>\n",
       "      <td>122.697</td>\n",
       "      <td>118.828016</td>\n",
       "      <td>6.0</td>\n",
       "      <td>40.0</td>\n",
       "      <td>85.5</td>\n",
       "      <td>169.00</td>\n",
       "      <td>858.0</td>\n",
       "    </tr>\n",
       "    <tr>\n",
       "      <th>7</th>\n",
       "      <td>1000.0</td>\n",
       "      <td>0.000150</td>\n",
       "      <td>0.000142</td>\n",
       "      <td>0.000010</td>\n",
       "      <td>0.000046</td>\n",
       "      <td>0.000106</td>\n",
       "      <td>0.000210</td>\n",
       "      <td>0.000936</td>\n",
       "      <td>1000.0</td>\n",
       "      <td>253.371</td>\n",
       "      <td>246.824086</td>\n",
       "      <td>7.0</td>\n",
       "      <td>72.0</td>\n",
       "      <td>178.5</td>\n",
       "      <td>360.25</td>\n",
       "      <td>1463.0</td>\n",
       "    </tr>\n",
       "    <tr>\n",
       "      <th>8</th>\n",
       "      <td>1000.0</td>\n",
       "      <td>0.000288</td>\n",
       "      <td>0.000272</td>\n",
       "      <td>0.000010</td>\n",
       "      <td>0.000088</td>\n",
       "      <td>0.000212</td>\n",
       "      <td>0.000398</td>\n",
       "      <td>0.002531</td>\n",
       "      <td>1000.0</td>\n",
       "      <td>500.075</td>\n",
       "      <td>472.495133</td>\n",
       "      <td>8.0</td>\n",
       "      <td>147.5</td>\n",
       "      <td>367.0</td>\n",
       "      <td>706.25</td>\n",
       "      <td>3671.0</td>\n",
       "    </tr>\n",
       "    <tr>\n",
       "      <th>9</th>\n",
       "      <td>1000.0</td>\n",
       "      <td>0.000575</td>\n",
       "      <td>0.000562</td>\n",
       "      <td>0.000011</td>\n",
       "      <td>0.000167</td>\n",
       "      <td>0.000398</td>\n",
       "      <td>0.000836</td>\n",
       "      <td>0.003844</td>\n",
       "      <td>1000.0</td>\n",
       "      <td>992.592</td>\n",
       "      <td>961.625570</td>\n",
       "      <td>9.0</td>\n",
       "      <td>274.0</td>\n",
       "      <td>707.0</td>\n",
       "      <td>1453.75</td>\n",
       "      <td>6892.0</td>\n",
       "    </tr>\n",
       "  </tbody>\n",
       "</table>\n",
       "</div>"
      ],
      "text/plain": [
       "                elapsed time in seconds                                \\\n",
       "                                  count      mean       std       min   \n",
       "sequence length                                                         \n",
       "3                                1000.0  0.000015  0.000017  0.000004   \n",
       "4                                1000.0  0.000023  0.000031  0.000005   \n",
       "5                                1000.0  0.000041  0.000044  0.000006   \n",
       "6                                1000.0  0.000079  0.000075  0.000008   \n",
       "7                                1000.0  0.000150  0.000142  0.000010   \n",
       "8                                1000.0  0.000288  0.000272  0.000010   \n",
       "9                                1000.0  0.000575  0.000562  0.000011   \n",
       "\n",
       "                                                        number of flips  \\\n",
       "                      25%       50%       75%       max           count   \n",
       "sequence length                                                           \n",
       "3                0.000007  0.000011  0.000018  0.000253          1000.0   \n",
       "4                0.000009  0.000015  0.000028  0.000757          1000.0   \n",
       "5                0.000015  0.000028  0.000049  0.000512          1000.0   \n",
       "6                0.000028  0.000056  0.000104  0.000609          1000.0   \n",
       "7                0.000046  0.000106  0.000210  0.000936          1000.0   \n",
       "8                0.000088  0.000212  0.000398  0.002531          1000.0   \n",
       "9                0.000167  0.000398  0.000836  0.003844          1000.0   \n",
       "\n",
       "                                                                          \n",
       "                    mean         std  min    25%    50%      75%     max  \n",
       "sequence length                                                           \n",
       "3                 14.396   11.875951  3.0    6.0   11.0    19.00    82.0  \n",
       "4                 29.931   29.504623  4.0   10.0   21.0    39.00   257.0  \n",
       "5                 58.604   58.175644  5.0   19.0   41.0    77.00   464.0  \n",
       "6                122.697  118.828016  6.0   40.0   85.5   169.00   858.0  \n",
       "7                253.371  246.824086  7.0   72.0  178.5   360.25  1463.0  \n",
       "8                500.075  472.495133  8.0  147.5  367.0   706.25  3671.0  \n",
       "9                992.592  961.625570  9.0  274.0  707.0  1453.75  6892.0  "
      ]
     },
     "execution_count": 12,
     "metadata": {},
     "output_type": "execute_result"
    }
   ],
   "source": [
    "results_df.groupby('sequence length').describe()"
   ]
  },
  {
   "cell_type": "markdown",
   "metadata": {},
   "source": [
    "We can add error bars to the plot for each sequence length\n",
    "\n",
    "https://matplotlib.org/api/_as_gen/matplotlib.pyplot.errorbar.html\n",
    "\n",
    "https://matplotlib.org/1.2.1/examples/pylab_examples/errorbar_demo.html\n",
    "\n",
    "https://matplotlib.org/gallery/statistics/errorbar_features.html\n",
    "\n",
    "or use a violin plot"
   ]
  },
  {
   "cell_type": "code",
   "execution_count": null,
   "metadata": {},
   "outputs": [],
   "source": [
    "import seaborn\n",
    "seaborn.__version__"
   ]
  },
  {
   "cell_type": "code",
   "execution_count": null,
   "metadata": {},
   "outputs": [],
   "source": [
    "ax = seaborn.violinplot(x=\"sequence length\", \n",
    "                        y=\"number of flips\", \n",
    "                        data=results_df,\n",
    "                        showmeans=True,\n",
    "                        showextrema=True,\n",
    "                        showmedians=True)"
   ]
  },
  {
   "cell_type": "code",
   "execution_count": null,
   "metadata": {},
   "outputs": [],
   "source": []
  }
 ],
 "metadata": {
  "kernelspec": {
   "display_name": "Python 3",
   "language": "python",
   "name": "python3"
  },
  "language_info": {
   "codemirror_mode": {
    "name": "ipython",
    "version": 3
   },
   "file_extension": ".py",
   "mimetype": "text/x-python",
   "name": "python",
   "nbconvert_exporter": "python",
   "pygments_lexer": "ipython3",
   "version": "3.8.8"
  },
  "toc": {
   "base_numbering": 1,
   "nav_menu": {},
   "number_sections": true,
   "sideBar": true,
   "skip_h1_title": false,
   "title_cell": "Table of Contents",
   "title_sidebar": "Contents",
   "toc_cell": false,
   "toc_position": {},
   "toc_section_display": true,
   "toc_window_display": false
  },
  "varInspector": {
   "cols": {
    "lenName": 16,
    "lenType": 16,
    "lenVar": 40
   },
   "kernels_config": {
    "python": {
     "delete_cmd_postfix": "",
     "delete_cmd_prefix": "del ",
     "library": "var_list.py",
     "varRefreshCmd": "print(var_dic_list())"
    },
    "r": {
     "delete_cmd_postfix": ") ",
     "delete_cmd_prefix": "rm(",
     "library": "var_list.r",
     "varRefreshCmd": "cat(var_dic_list()) "
    }
   },
   "types_to_exclude": [
    "module",
    "function",
    "builtin_function_or_method",
    "instance",
    "_Feature"
   ],
   "window_display": false
  }
 },
 "nbformat": 4,
 "nbformat_minor": 2
}
