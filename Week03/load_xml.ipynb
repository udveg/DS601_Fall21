{
 "cells": [
  {
   "cell_type": "markdown",
   "metadata": {},
   "source": [
    "multiple ways to read XML files"
   ]
  },
  {
   "cell_type": "code",
   "execution_count": 1,
   "metadata": {},
   "outputs": [
    {
     "name": "stdout",
     "output_type": "stream",
     "text": [
      "Requirement already satisfied: xmltodict in /Users/msarica/opt/anaconda3/lib/python3.8/site-packages (0.12.0)\r\n"
     ]
    }
   ],
   "source": [
    "!pip install xmltodict"
   ]
  },
  {
   "cell_type": "code",
   "execution_count": null,
   "metadata": {},
   "outputs": [],
   "source": []
  },
  {
   "cell_type": "code",
   "execution_count": 2,
   "metadata": {},
   "outputs": [],
   "source": [
    "import xmltodict\n",
    "with open('data/sample_menu.xml') as fd:\n",
    "    doc = xmltodict.parse(fd.read())"
   ]
  },
  {
   "cell_type": "code",
   "execution_count": 3,
   "metadata": {},
   "outputs": [
    {
     "data": {
      "text/plain": [
       "OrderedDict([('menu',\n",
       "              OrderedDict([('@id', 'file'),\n",
       "                           ('@value', 'File'),\n",
       "                           ('popup',\n",
       "                            OrderedDict([('menuitem',\n",
       "                                          [OrderedDict([('@value', 'New'),\n",
       "                                                        ('@onclick',\n",
       "                                                         'CreateNewDoc()')]),\n",
       "                                           OrderedDict([('@value', 'Open'),\n",
       "                                                        ('@onclick',\n",
       "                                                         'OpenDoc()')]),\n",
       "                                           OrderedDict([('@value', 'Close'),\n",
       "                                                        ('@onclick',\n",
       "                                                         'CloseDoc()')])])]))]))])"
      ]
     },
     "execution_count": 3,
     "metadata": {},
     "output_type": "execute_result"
    }
   ],
   "source": [
    "doc"
   ]
  },
  {
   "cell_type": "code",
   "execution_count": 4,
   "metadata": {},
   "outputs": [
    {
     "data": {
      "text/plain": [
       "[OrderedDict([('@value', 'New'), ('@onclick', 'CreateNewDoc()')]),\n",
       " OrderedDict([('@value', 'Open'), ('@onclick', 'OpenDoc()')]),\n",
       " OrderedDict([('@value', 'Close'), ('@onclick', 'CloseDoc()')])]"
      ]
     },
     "execution_count": 4,
     "metadata": {},
     "output_type": "execute_result"
    }
   ],
   "source": [
    "doc['menu']['popup']['menuitem']"
   ]
  },
  {
   "cell_type": "markdown",
   "metadata": {},
   "source": [
    "OrderedDict = order of keys matters. We can replace that with a normal dictionary"
   ]
  },
  {
   "cell_type": "code",
   "execution_count": 5,
   "metadata": {},
   "outputs": [],
   "source": [
    "#https://stackoverflow.com/questions/20166749/how-to-convert-an-ordereddict-into-a-regular-dict-in-python3\n",
    "import json\n",
    "from collections import OrderedDict\n",
    "output_dict = json.loads(json.dumps(doc))"
   ]
  },
  {
   "cell_type": "code",
   "execution_count": 6,
   "metadata": {},
   "outputs": [
    {
     "data": {
      "text/plain": [
       "{'menu': {'@id': 'file',\n",
       "  '@value': 'File',\n",
       "  'popup': {'menuitem': [{'@value': 'New', '@onclick': 'CreateNewDoc()'},\n",
       "    {'@value': 'Open', '@onclick': 'OpenDoc()'},\n",
       "    {'@value': 'Close', '@onclick': 'CloseDoc()'}]}}}"
      ]
     },
     "execution_count": 6,
     "metadata": {},
     "output_type": "execute_result"
    }
   ],
   "source": [
    "output_dict"
   ]
  },
  {
   "cell_type": "code",
   "execution_count": 7,
   "metadata": {},
   "outputs": [
    {
     "data": {
      "text/plain": [
       "{'menuitem': [{'@value': 'New', '@onclick': 'CreateNewDoc()'},\n",
       "  {'@value': 'Open', '@onclick': 'OpenDoc()'},\n",
       "  {'@value': 'Close', '@onclick': 'CloseDoc()'}]}"
      ]
     },
     "execution_count": 7,
     "metadata": {},
     "output_type": "execute_result"
    }
   ],
   "source": [
    "output_dict['menu']['popup']"
   ]
  },
  {
   "cell_type": "markdown",
   "metadata": {},
   "source": [
    "<BR>\n",
    "<BR>\n",
    "<BR>\n",
    "<BR>\n",
    "<BR>\n",
    "<BR>\n",
    "<BR>\n",
    "<BR>\n",
    "<BR>\n",
    "<BR>\n"
   ]
  },
  {
   "cell_type": "markdown",
   "metadata": {},
   "source": [
    "more libraries to explore"
   ]
  },
  {
   "cell_type": "code",
   "execution_count": 8,
   "metadata": {},
   "outputs": [
    {
     "name": "stdout",
     "output_type": "stream",
     "text": [
      "[<DOM Element: menuitem at 0x7ff80be21790>, <DOM Element: menuitem at 0x7ff80be21820>, <DOM Element: menuitem at 0x7ff80be218b0>]\n"
     ]
    }
   ],
   "source": [
    "from xml.dom import minidom\n",
    "xmldoc = minidom.parse('data/sample_menu.xml')\n",
    "itemlist = xmldoc.getElementsByTagName('menuitem')\n",
    "print(itemlist)"
   ]
  },
  {
   "cell_type": "code",
   "execution_count": 9,
   "metadata": {},
   "outputs": [
    {
     "data": {
      "text/plain": [
       "<Element 'menu' at 0x7ff80be3d900>"
      ]
     },
     "execution_count": 9,
     "metadata": {},
     "output_type": "execute_result"
    }
   ],
   "source": [
    "import xml.etree.ElementTree\n",
    "menu = xml.etree.ElementTree.parse('data/sample_menu.xml').getroot()\n",
    "menu"
   ]
  },
  {
   "cell_type": "code",
   "execution_count": 10,
   "metadata": {},
   "outputs": [
    {
     "name": "stdout",
     "output_type": "stream",
     "text": [
      "<Element 'menu' at 0x7ff80be3d900>\n"
     ]
    }
   ],
   "source": [
    "print(menu)"
   ]
  },
  {
   "cell_type": "code",
   "execution_count": 11,
   "metadata": {},
   "outputs": [
    {
     "data": {
      "text/plain": [
       "b'<menu id=\"file\" value=\"File\">\\n  <popup>\\n    <menuitem value=\"New\" onclick=\"CreateNewDoc()\" />\\n    <menuitem value=\"Open\" onclick=\"OpenDoc()\" />\\n    <menuitem value=\"Close\" onclick=\"CloseDoc()\" />\\n  </popup>\\n</menu>'"
      ]
     },
     "execution_count": 11,
     "metadata": {},
     "output_type": "execute_result"
    }
   ],
   "source": [
    "xml.etree.ElementTree.tostring(menu)"
   ]
  },
  {
   "cell_type": "code",
   "execution_count": 14,
   "metadata": {},
   "outputs": [
    {
     "data": {
      "text/plain": [
       "'1.2.4'"
      ]
     },
     "execution_count": 14,
     "metadata": {},
     "output_type": "execute_result"
    }
   ],
   "source": [
    "import pandas \n",
    "\n",
    "pandas.__version__"
   ]
  },
  {
   "cell_type": "code",
   "execution_count": 15,
   "metadata": {},
   "outputs": [],
   "source": [
    "# pandas.read_xml()"
   ]
  },
  {
   "cell_type": "code",
   "execution_count": null,
   "metadata": {},
   "outputs": [],
   "source": []
  }
 ],
 "metadata": {
  "kernelspec": {
   "display_name": "Python 3",
   "language": "python",
   "name": "python3"
  },
  "language_info": {
   "codemirror_mode": {
    "name": "ipython",
    "version": 3
   },
   "file_extension": ".py",
   "mimetype": "text/x-python",
   "name": "python",
   "nbconvert_exporter": "python",
   "pygments_lexer": "ipython3",
   "version": "3.8.8"
  },
  "toc": {
   "base_numbering": 1,
   "nav_menu": {},
   "number_sections": true,
   "sideBar": true,
   "skip_h1_title": false,
   "title_cell": "Table of Contents",
   "title_sidebar": "Contents",
   "toc_cell": false,
   "toc_position": {},
   "toc_section_display": true,
   "toc_window_display": false
  },
  "varInspector": {
   "cols": {
    "lenName": 16,
    "lenType": 16,
    "lenVar": 40
   },
   "kernels_config": {
    "python": {
     "delete_cmd_postfix": "",
     "delete_cmd_prefix": "del ",
     "library": "var_list.py",
     "varRefreshCmd": "print(var_dic_list())"
    },
    "r": {
     "delete_cmd_postfix": ") ",
     "delete_cmd_prefix": "rm(",
     "library": "var_list.r",
     "varRefreshCmd": "cat(var_dic_list()) "
    }
   },
   "types_to_exclude": [
    "module",
    "function",
    "builtin_function_or_method",
    "instance",
    "_Feature"
   ],
   "window_display": false
  }
 },
 "nbformat": 4,
 "nbformat_minor": 2
}
