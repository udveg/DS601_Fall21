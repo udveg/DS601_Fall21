{
 "cells": [
  {
   "cell_type": "markdown",
   "id": "992db56b",
   "metadata": {
    "id": "Av5g6G0kOd0o"
   },
   "source": [
    "# Lab"
   ]
  },
  {
   "cell_type": "markdown",
   "id": "4528f995",
   "metadata": {
    "id": "R12lK4GoPCpv"
   },
   "source": [
    "Using the flights dataframe answer the following questions"
   ]
  },
  {
   "cell_type": "markdown",
   "id": "5ea50c04",
   "metadata": {
    "id": "UvXkVk7Iji0l"
   },
   "source": [
    "1. When do the first and last flights leave each day?\n",
    "\n",
    "2. When there is a missing value in `dep_time` then this is an indication of canceled flight. Find the number of cancelled flights for each (`carrier`, `origin`) combination.\n",
    "\n",
    "3. Which carrier has the worst `dep_delay`s? \n",
    "\n",
    "4. Which plane (`tailnum`) has the worst on-time record?\n",
    "\n",
    "5. For each plane, count the number of flights before the first delay of greater than 1 hour."
   ]
  },
  {
   "cell_type": "code",
   "execution_count": null,
   "id": "dfd5e8be",
   "metadata": {},
   "outputs": [],
   "source": []
  }
 ],
 "metadata": {
  "kernelspec": {
   "display_name": "Python 3",
   "language": "python",
   "name": "python3"
  },
  "language_info": {
   "codemirror_mode": {
    "name": "ipython",
    "version": 3
   },
   "file_extension": ".py",
   "mimetype": "text/x-python",
   "name": "python",
   "nbconvert_exporter": "python",
   "pygments_lexer": "ipython3",
   "version": "3.8.8"
  },
  "toc": {
   "base_numbering": 1,
   "nav_menu": {},
   "number_sections": true,
   "sideBar": true,
   "skip_h1_title": false,
   "title_cell": "Table of Contents",
   "title_sidebar": "Contents",
   "toc_cell": false,
   "toc_position": {},
   "toc_section_display": true,
   "toc_window_display": false
  }
 },
 "nbformat": 4,
 "nbformat_minor": 5
}
