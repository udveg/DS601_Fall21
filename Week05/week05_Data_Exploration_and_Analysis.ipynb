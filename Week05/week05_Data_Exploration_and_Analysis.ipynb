{
 "cells": [
  {
   "cell_type": "markdown",
   "metadata": {
    "id": "6BmbVy8gxIze"
   },
   "source": [
    "# Agenda\n",
    " "
   ]
  },
  {
   "cell_type": "markdown",
   "metadata": {
    "id": "XwdPxFElT4_q"
   },
   "source": [
    "- PART-I:\n",
    "    \n",
    "    - What is data exploration?\n",
    "    - Why data exploration is important?\n",
    "    - Questions to answer with EDA \n",
    "\n",
    "- PART-II:\n",
    "\n",
    "    - Using Pandas for exploratory data analysis\n",
    "    - Using visualization libraries for exploratory data analysis\n",
    "\n",
    "- PART-III:\n",
    "\n",
    "    - Exploratory data analysis with housing data."
   ]
  },
  {
   "cell_type": "markdown",
   "metadata": {
    "id": "dNRPqKmiVG0a"
   },
   "source": [
    "# PART-I"
   ]
  },
  {
   "cell_type": "markdown",
   "metadata": {
    "id": "mB2cnytdVUZ2"
   },
   "source": [
    "## What is data exploration?\n"
   ]
  },
  {
   "cell_type": "markdown",
   "metadata": {
    "id": "myoWxRxabeDo"
   },
   "source": [
    "> \"Exploratory data analysis is a detective work: Numerical detective work or counting detective work or graphical detective work.\" John Tukey"
   ]
  },
  {
   "cell_type": "markdown",
   "metadata": {
    "id": "d94tWzocVvmz"
   },
   "source": [
    "__Exploratory Data Analysis__ (EDA) is an approach for data analysis to:\n",
    "\n",
    "- Gain insight,\n",
    "\n",
    "- Detect Anomalies,\n",
    "\n",
    "- Understand variables and their relations,\n",
    "\n",
    "- Inspect more informative features,\n",
    "\n",
    "- Check/test assumptions.\n",
    "\n"
   ]
  },
  {
   "cell_type": "markdown",
   "metadata": {
    "id": "DrvjGQevdFlL"
   },
   "source": [
    "## Why is EDA is important?"
   ]
  },
  {
   "cell_type": "markdown",
   "metadata": {
    "id": "qZ7DhkOtdPpF"
   },
   "source": [
    "\"To get a \"feel\" for the data, it is not enough for the analyst to know what is in the data; the analyst also must know what is not in the data, and the only way to do that is to draw on our own human pattern-recognition and comparative abilities in the context of a series of judicious graphical techniques applied to the data.\"\" \n",
    "\n",
    "[Source](https://www.itl.nist.gov/div898/handbook/eda/section1/eda14.htm)\n"
   ]
  },
  {
   "cell_type": "markdown",
   "metadata": {
    "id": "g2iNcnF7eK6U"
   },
   "source": [
    "## Questions to Answer\n"
   ]
  },
  {
   "cell_type": "markdown",
   "metadata": {
    "id": "Djj7mv7ceQ_p"
   },
   "source": [
    "1. What is a typical value?\n",
    "\n",
    "2. What is a good distributional fit for a set of numbers?\n",
    "\n",
    "3. What are the most important factors?\n",
    "\n",
    "4. Is the measurements from different categories are equivalent?\n",
    "\n",
    "5. Does the data have outliers?\n",
    "\n",
    "[For a bigger list of questions and more details](https://www.itl.nist.gov/div898/handbook/eda/section3/eda32.htm)"
   ]
  },
  {
   "cell_type": "markdown",
   "metadata": {
    "id": "kgbJ8DrPh16X"
   },
   "source": [
    "## Steps of EDA\n",
    "\n",
    "\n",
    "\n"
   ]
  },
  {
   "cell_type": "markdown",
   "metadata": {
    "id": "SypwKkNIh-8A"
   },
   "source": [
    "__Variable Identification__\n",
    "\n",
    "- Identify input features (independent features, inputs) and target features (dependent features, outputs)\n",
    "\n",
    "- Check whether any input feature is exact copy of the output feature or not.\n",
    "\n",
    "- Check the data types of the input and output. \n",
    "\n",
    "- Check whether the variables are categorical, ordinal or continuous.\n"
   ]
  },
  {
   "cell_type": "markdown",
   "metadata": {
    "id": "rAop8qPGjGfm"
   },
   "source": [
    "__Univariate Analysis__\n",
    "\n",
    "Focus on individual variables. Possible techniques: \n",
    "\n",
    "- Mean, Median, Mode, variance, box-plots, histograms, range, counts, bar plots etc."
   ]
  },
  {
   "cell_type": "markdown",
   "metadata": {
    "id": "gUo7j-tDjk2T"
   },
   "source": [
    "__Bivariate Analysis__"
   ]
  },
  {
   "cell_type": "markdown",
   "metadata": {
    "id": "j8B4kEenjyjC"
   },
   "source": [
    "Focus on relations between two variables. Possible techniques:\n",
    "\n",
    "- Scatter plots, heatmaps, [correlation statistics](https://en.wikipedia.org/wiki/Correlation_and_dependence#Rank_correlation_coefficients), Chi-square tests, stacked column plots etc."
   ]
  },
  {
   "cell_type": "markdown",
   "metadata": {
    "id": "-Uqo7bN7lNVJ"
   },
   "source": [
    "__Missing Value Treatment__\n",
    "\n",
    "Possible Techniques\n",
    "\n",
    "- Deletion\n",
    "\n",
    "- Mean-Median-Mode Imputation\n",
    "\n",
    "- Prediction\n",
    "\n",
    "- Similarity Based imputations\n"
   ]
  },
  {
   "cell_type": "markdown",
   "metadata": {
    "id": "XSkTtlzZjyHW"
   },
   "source": [
    "__Outlier Treatment__\n",
    "\n",
    "An outlier is a data point that differs significantly from other observations. \n",
    "\n",
    "- Model based  methods to detect outliers\n",
    "\n",
    "- Graph-based methods for detecting outliers.\n",
    "\n",
    "- Hybrid methods"
   ]
  },
  {
   "cell_type": "markdown",
   "metadata": {
    "id": "0c1hD3_dnFSW"
   },
   "source": [
    "__Variable Transformation__\n",
    "\n",
    "Possible situations where variable transformation might be needed:\n",
    "\n",
    "- Change of scale\n",
    "- Converting non-linear relationship to linear one. \n",
    "- Changing the distribution\n",
    "\n",
    "\n",
    "__Possible methods for variable transformation__\n",
    "\n",
    "- Applying a certain function (logarithm, square root, exponential etc.)\n",
    "\n",
    "- Binning\n",
    "\n",
    "- Hand made modifications\n",
    "\n",
    "- Creating dummy-variables\n",
    "\n"
   ]
  },
  {
   "cell_type": "markdown",
   "metadata": {
    "id": "kz6gBPrbXAPl"
   },
   "source": [
    "## Resources\n",
    "\n",
    "[NIST: Exploratory Data Analysis](https://www.itl.nist.gov/div898/handbook/eda/eda.htm)\n",
    "[Tukey - Exploratory Data Analysis](http://www.ru.ac.bd/wp-content/uploads/sites/25/2019/03/102_05_01_Tukey-Exploratory-Data-Analysis-1977.pdf)\n",
    "\n",
    "[IBM - Exploratory Data Analysis](https://www.ibm.com/cloud/learn/exploratory-data-analysis)\n",
    "\n",
    "[Analytics Vidhya - Data Exploration](https://www.analyticsvidhya.com/blog/2016/01/guide-data-exploration/)\n",
    "\n",
    "[Omnisci -EDA](https://www.omnisci.com/learn/data-exploration)"
   ]
  },
  {
   "cell_type": "markdown",
   "metadata": {
    "id": "JfvzT1ewoRHo"
   },
   "source": [
    "# Part-II"
   ]
  },
  {
   "cell_type": "markdown",
   "metadata": {
    "id": "HSLUgQJtqdWU"
   },
   "source": [
    "## Loading Data"
   ]
  },
  {
   "cell_type": "code",
   "execution_count": null,
   "metadata": {
    "id": "tb45DxFeO6GS"
   },
   "outputs": [],
   "source": []
  },
  {
   "cell_type": "code",
   "execution_count": 1,
   "metadata": {
    "id": "MwqunHIUo7ta"
   },
   "outputs": [],
   "source": [
    "import requests # for loading data from an online resource\n",
    "from io import StringIO # for reading inputs\n",
    "import pandas as pd # for manipulating data\n"
   ]
  },
  {
   "cell_type": "markdown",
   "metadata": {
    "id": "_7x34H5ttr0u"
   },
   "source": [
    "[Baseball  Hitters Dataset - Kaggle](https://www.kaggle.com/floser/hitters)"
   ]
  },
  {
   "cell_type": "code",
   "execution_count": 2,
   "metadata": {
    "id": "kIBHBPEmro7Z"
   },
   "outputs": [],
   "source": [
    "df = pd.read_csv('https://raw.githubusercontent.com/msaricaumbc/DS601_Fall21/main/Week05/data/Hitters.csv', index_col= 0).reset_index()"
   ]
  },
  {
   "cell_type": "code",
   "execution_count": 3,
   "metadata": {
    "colab": {
     "base_uri": "https://localhost:8080/",
     "height": 195
    },
    "id": "hgOgwzHKpqVh",
    "outputId": "1d972c86-0bd5-4448-ad70-b8acdbb07ea1"
   },
   "outputs": [
    {
     "data": {
      "text/html": [
       "<div>\n",
       "<style scoped>\n",
       "    .dataframe tbody tr th:only-of-type {\n",
       "        vertical-align: middle;\n",
       "    }\n",
       "\n",
       "    .dataframe tbody tr th {\n",
       "        vertical-align: top;\n",
       "    }\n",
       "\n",
       "    .dataframe thead th {\n",
       "        text-align: right;\n",
       "    }\n",
       "</style>\n",
       "<table border=\"1\" class=\"dataframe\">\n",
       "  <thead>\n",
       "    <tr style=\"text-align: right;\">\n",
       "      <th></th>\n",
       "      <th>AtBat</th>\n",
       "      <th>Hits</th>\n",
       "      <th>HmRun</th>\n",
       "      <th>Runs</th>\n",
       "      <th>RBI</th>\n",
       "      <th>Walks</th>\n",
       "      <th>Years</th>\n",
       "      <th>CAtBat</th>\n",
       "      <th>CHits</th>\n",
       "      <th>CHmRun</th>\n",
       "      <th>CRuns</th>\n",
       "      <th>CRBI</th>\n",
       "      <th>CWalks</th>\n",
       "      <th>League</th>\n",
       "      <th>Division</th>\n",
       "      <th>PutOuts</th>\n",
       "      <th>Assists</th>\n",
       "      <th>Errors</th>\n",
       "      <th>Salary</th>\n",
       "      <th>NewLeague</th>\n",
       "    </tr>\n",
       "  </thead>\n",
       "  <tbody>\n",
       "    <tr>\n",
       "      <th>0</th>\n",
       "      <td>293</td>\n",
       "      <td>66</td>\n",
       "      <td>1</td>\n",
       "      <td>30</td>\n",
       "      <td>29</td>\n",
       "      <td>14</td>\n",
       "      <td>1</td>\n",
       "      <td>293</td>\n",
       "      <td>66</td>\n",
       "      <td>1</td>\n",
       "      <td>30</td>\n",
       "      <td>29</td>\n",
       "      <td>14</td>\n",
       "      <td>A</td>\n",
       "      <td>E</td>\n",
       "      <td>446</td>\n",
       "      <td>33</td>\n",
       "      <td>20</td>\n",
       "      <td>NaN</td>\n",
       "      <td>A</td>\n",
       "    </tr>\n",
       "    <tr>\n",
       "      <th>1</th>\n",
       "      <td>315</td>\n",
       "      <td>81</td>\n",
       "      <td>7</td>\n",
       "      <td>24</td>\n",
       "      <td>38</td>\n",
       "      <td>39</td>\n",
       "      <td>14</td>\n",
       "      <td>3449</td>\n",
       "      <td>835</td>\n",
       "      <td>69</td>\n",
       "      <td>321</td>\n",
       "      <td>414</td>\n",
       "      <td>375</td>\n",
       "      <td>N</td>\n",
       "      <td>W</td>\n",
       "      <td>632</td>\n",
       "      <td>43</td>\n",
       "      <td>10</td>\n",
       "      <td>475.0</td>\n",
       "      <td>N</td>\n",
       "    </tr>\n",
       "    <tr>\n",
       "      <th>2</th>\n",
       "      <td>479</td>\n",
       "      <td>130</td>\n",
       "      <td>18</td>\n",
       "      <td>66</td>\n",
       "      <td>72</td>\n",
       "      <td>76</td>\n",
       "      <td>3</td>\n",
       "      <td>1624</td>\n",
       "      <td>457</td>\n",
       "      <td>63</td>\n",
       "      <td>224</td>\n",
       "      <td>266</td>\n",
       "      <td>263</td>\n",
       "      <td>A</td>\n",
       "      <td>W</td>\n",
       "      <td>880</td>\n",
       "      <td>82</td>\n",
       "      <td>14</td>\n",
       "      <td>480.0</td>\n",
       "      <td>A</td>\n",
       "    </tr>\n",
       "    <tr>\n",
       "      <th>3</th>\n",
       "      <td>496</td>\n",
       "      <td>141</td>\n",
       "      <td>20</td>\n",
       "      <td>65</td>\n",
       "      <td>78</td>\n",
       "      <td>37</td>\n",
       "      <td>11</td>\n",
       "      <td>5628</td>\n",
       "      <td>1575</td>\n",
       "      <td>225</td>\n",
       "      <td>828</td>\n",
       "      <td>838</td>\n",
       "      <td>354</td>\n",
       "      <td>N</td>\n",
       "      <td>E</td>\n",
       "      <td>200</td>\n",
       "      <td>11</td>\n",
       "      <td>3</td>\n",
       "      <td>500.0</td>\n",
       "      <td>N</td>\n",
       "    </tr>\n",
       "    <tr>\n",
       "      <th>4</th>\n",
       "      <td>321</td>\n",
       "      <td>87</td>\n",
       "      <td>10</td>\n",
       "      <td>39</td>\n",
       "      <td>42</td>\n",
       "      <td>30</td>\n",
       "      <td>2</td>\n",
       "      <td>396</td>\n",
       "      <td>101</td>\n",
       "      <td>12</td>\n",
       "      <td>48</td>\n",
       "      <td>46</td>\n",
       "      <td>33</td>\n",
       "      <td>N</td>\n",
       "      <td>E</td>\n",
       "      <td>805</td>\n",
       "      <td>40</td>\n",
       "      <td>4</td>\n",
       "      <td>91.5</td>\n",
       "      <td>N</td>\n",
       "    </tr>\n",
       "  </tbody>\n",
       "</table>\n",
       "</div>"
      ],
      "text/plain": [
       "   AtBat  Hits  HmRun  Runs  RBI  Walks  Years  CAtBat  CHits  CHmRun  CRuns  \\\n",
       "0    293    66      1    30   29     14      1     293     66       1     30   \n",
       "1    315    81      7    24   38     39     14    3449    835      69    321   \n",
       "2    479   130     18    66   72     76      3    1624    457      63    224   \n",
       "3    496   141     20    65   78     37     11    5628   1575     225    828   \n",
       "4    321    87     10    39   42     30      2     396    101      12     48   \n",
       "\n",
       "   CRBI  CWalks League Division  PutOuts  Assists  Errors  Salary NewLeague  \n",
       "0    29      14      A        E      446       33      20     NaN         A  \n",
       "1   414     375      N        W      632       43      10   475.0         N  \n",
       "2   266     263      A        W      880       82      14   480.0         A  \n",
       "3   838     354      N        E      200       11       3   500.0         N  \n",
       "4    46      33      N        E      805       40       4    91.5         N  "
      ]
     },
     "execution_count": 3,
     "metadata": {},
     "output_type": "execute_result"
    }
   ],
   "source": [
    "df.head()"
   ]
  },
  {
   "cell_type": "markdown",
   "metadata": {
    "id": "FKGATokGs_9Y"
   },
   "source": [
    "## Variable Identification"
   ]
  },
  {
   "cell_type": "code",
   "execution_count": 4,
   "metadata": {
    "colab": {
     "base_uri": "https://localhost:8080/"
    },
    "id": "YupRZOnitEra",
    "outputId": "b5bfb4c0-c012-48c8-ac4b-610178dffda2"
   },
   "outputs": [
    {
     "name": "stdout",
     "output_type": "stream",
     "text": [
      "<class 'pandas.core.frame.DataFrame'>\n",
      "RangeIndex: 322 entries, 0 to 321\n",
      "Data columns (total 20 columns):\n",
      " #   Column     Non-Null Count  Dtype  \n",
      "---  ------     --------------  -----  \n",
      " 0   AtBat      322 non-null    int64  \n",
      " 1   Hits       322 non-null    int64  \n",
      " 2   HmRun      322 non-null    int64  \n",
      " 3   Runs       322 non-null    int64  \n",
      " 4   RBI        322 non-null    int64  \n",
      " 5   Walks      322 non-null    int64  \n",
      " 6   Years      322 non-null    int64  \n",
      " 7   CAtBat     322 non-null    int64  \n",
      " 8   CHits      322 non-null    int64  \n",
      " 9   CHmRun     322 non-null    int64  \n",
      " 10  CRuns      322 non-null    int64  \n",
      " 11  CRBI       322 non-null    int64  \n",
      " 12  CWalks     322 non-null    int64  \n",
      " 13  League     322 non-null    object \n",
      " 14  Division   322 non-null    object \n",
      " 15  PutOuts    322 non-null    int64  \n",
      " 16  Assists    322 non-null    int64  \n",
      " 17  Errors     322 non-null    int64  \n",
      " 18  Salary     263 non-null    float64\n",
      " 19  NewLeague  322 non-null    object \n",
      "dtypes: float64(1), int64(16), object(3)\n",
      "memory usage: 50.4+ KB\n"
     ]
    }
   ],
   "source": [
    "## we can check object types\n",
    "df.info()"
   ]
  },
  {
   "cell_type": "markdown",
   "metadata": {
    "id": "pmCU29vRRBa5"
   },
   "source": [
    "Target Variable: Salary\n",
    "\n",
    "Input variables: AtBats, Hits, Years, ..."
   ]
  },
  {
   "cell_type": "code",
   "execution_count": 5,
   "metadata": {
    "colab": {
     "base_uri": "https://localhost:8080/"
    },
    "id": "vBImu2HhRZ57",
    "outputId": "825c4689-32e0-4e5b-b6b0-96c5ddc1e3b2"
   },
   "outputs": [
    {
     "data": {
      "text/plain": [
       "59"
      ]
     },
     "execution_count": 5,
     "metadata": {},
     "output_type": "execute_result"
    }
   ],
   "source": [
    "df.Salary.isnull().sum()"
   ]
  },
  {
   "cell_type": "markdown",
   "metadata": {
    "id": "fp63RvSHp-Eb"
   },
   "source": [
    "## Univariate Analysis"
   ]
  },
  {
   "cell_type": "markdown",
   "metadata": {
    "id": "PohH1G1TxCEe"
   },
   "source": [
    "__Descriptive Statistics__"
   ]
  },
  {
   "cell_type": "code",
   "execution_count": 6,
   "metadata": {
    "colab": {
     "base_uri": "https://localhost:8080/",
     "height": 304
    },
    "id": "McHSyyBju8O2",
    "outputId": "ad2d558b-23c7-4dd6-d1c0-8f1bd71e74a6"
   },
   "outputs": [
    {
     "data": {
      "text/html": [
       "<div>\n",
       "<style scoped>\n",
       "    .dataframe tbody tr th:only-of-type {\n",
       "        vertical-align: middle;\n",
       "    }\n",
       "\n",
       "    .dataframe tbody tr th {\n",
       "        vertical-align: top;\n",
       "    }\n",
       "\n",
       "    .dataframe thead th {\n",
       "        text-align: right;\n",
       "    }\n",
       "</style>\n",
       "<table border=\"1\" class=\"dataframe\">\n",
       "  <thead>\n",
       "    <tr style=\"text-align: right;\">\n",
       "      <th></th>\n",
       "      <th>AtBat</th>\n",
       "      <th>Hits</th>\n",
       "      <th>HmRun</th>\n",
       "      <th>Runs</th>\n",
       "      <th>RBI</th>\n",
       "      <th>Walks</th>\n",
       "      <th>Years</th>\n",
       "      <th>CAtBat</th>\n",
       "      <th>CHits</th>\n",
       "      <th>CHmRun</th>\n",
       "      <th>CRuns</th>\n",
       "      <th>CRBI</th>\n",
       "      <th>CWalks</th>\n",
       "      <th>PutOuts</th>\n",
       "      <th>Assists</th>\n",
       "      <th>Errors</th>\n",
       "      <th>Salary</th>\n",
       "    </tr>\n",
       "  </thead>\n",
       "  <tbody>\n",
       "    <tr>\n",
       "      <th>count</th>\n",
       "      <td>322.000000</td>\n",
       "      <td>322.000000</td>\n",
       "      <td>322.000000</td>\n",
       "      <td>322.000000</td>\n",
       "      <td>322.000000</td>\n",
       "      <td>322.000000</td>\n",
       "      <td>322.000000</td>\n",
       "      <td>322.00000</td>\n",
       "      <td>322.000000</td>\n",
       "      <td>322.000000</td>\n",
       "      <td>322.000000</td>\n",
       "      <td>322.000000</td>\n",
       "      <td>322.000000</td>\n",
       "      <td>322.000000</td>\n",
       "      <td>322.000000</td>\n",
       "      <td>322.000000</td>\n",
       "      <td>263.000000</td>\n",
       "    </tr>\n",
       "    <tr>\n",
       "      <th>mean</th>\n",
       "      <td>380.928571</td>\n",
       "      <td>101.024845</td>\n",
       "      <td>10.770186</td>\n",
       "      <td>50.909938</td>\n",
       "      <td>48.027950</td>\n",
       "      <td>38.742236</td>\n",
       "      <td>7.444099</td>\n",
       "      <td>2648.68323</td>\n",
       "      <td>717.571429</td>\n",
       "      <td>69.490683</td>\n",
       "      <td>358.795031</td>\n",
       "      <td>330.118012</td>\n",
       "      <td>260.239130</td>\n",
       "      <td>288.937888</td>\n",
       "      <td>106.913043</td>\n",
       "      <td>8.040373</td>\n",
       "      <td>535.925882</td>\n",
       "    </tr>\n",
       "    <tr>\n",
       "      <th>std</th>\n",
       "      <td>153.404981</td>\n",
       "      <td>46.454741</td>\n",
       "      <td>8.709037</td>\n",
       "      <td>26.024095</td>\n",
       "      <td>26.166895</td>\n",
       "      <td>21.639327</td>\n",
       "      <td>4.926087</td>\n",
       "      <td>2324.20587</td>\n",
       "      <td>654.472627</td>\n",
       "      <td>86.266061</td>\n",
       "      <td>334.105886</td>\n",
       "      <td>333.219617</td>\n",
       "      <td>267.058085</td>\n",
       "      <td>280.704614</td>\n",
       "      <td>136.854876</td>\n",
       "      <td>6.368359</td>\n",
       "      <td>451.118681</td>\n",
       "    </tr>\n",
       "    <tr>\n",
       "      <th>min</th>\n",
       "      <td>16.000000</td>\n",
       "      <td>1.000000</td>\n",
       "      <td>0.000000</td>\n",
       "      <td>0.000000</td>\n",
       "      <td>0.000000</td>\n",
       "      <td>0.000000</td>\n",
       "      <td>1.000000</td>\n",
       "      <td>19.00000</td>\n",
       "      <td>4.000000</td>\n",
       "      <td>0.000000</td>\n",
       "      <td>1.000000</td>\n",
       "      <td>0.000000</td>\n",
       "      <td>0.000000</td>\n",
       "      <td>0.000000</td>\n",
       "      <td>0.000000</td>\n",
       "      <td>0.000000</td>\n",
       "      <td>67.500000</td>\n",
       "    </tr>\n",
       "    <tr>\n",
       "      <th>25%</th>\n",
       "      <td>255.250000</td>\n",
       "      <td>64.000000</td>\n",
       "      <td>4.000000</td>\n",
       "      <td>30.250000</td>\n",
       "      <td>28.000000</td>\n",
       "      <td>22.000000</td>\n",
       "      <td>4.000000</td>\n",
       "      <td>816.75000</td>\n",
       "      <td>209.000000</td>\n",
       "      <td>14.000000</td>\n",
       "      <td>100.250000</td>\n",
       "      <td>88.750000</td>\n",
       "      <td>67.250000</td>\n",
       "      <td>109.250000</td>\n",
       "      <td>7.000000</td>\n",
       "      <td>3.000000</td>\n",
       "      <td>190.000000</td>\n",
       "    </tr>\n",
       "    <tr>\n",
       "      <th>50%</th>\n",
       "      <td>379.500000</td>\n",
       "      <td>96.000000</td>\n",
       "      <td>8.000000</td>\n",
       "      <td>48.000000</td>\n",
       "      <td>44.000000</td>\n",
       "      <td>35.000000</td>\n",
       "      <td>6.000000</td>\n",
       "      <td>1928.00000</td>\n",
       "      <td>508.000000</td>\n",
       "      <td>37.500000</td>\n",
       "      <td>247.000000</td>\n",
       "      <td>220.500000</td>\n",
       "      <td>170.500000</td>\n",
       "      <td>212.000000</td>\n",
       "      <td>39.500000</td>\n",
       "      <td>6.000000</td>\n",
       "      <td>425.000000</td>\n",
       "    </tr>\n",
       "    <tr>\n",
       "      <th>75%</th>\n",
       "      <td>512.000000</td>\n",
       "      <td>137.000000</td>\n",
       "      <td>16.000000</td>\n",
       "      <td>69.000000</td>\n",
       "      <td>64.750000</td>\n",
       "      <td>53.000000</td>\n",
       "      <td>11.000000</td>\n",
       "      <td>3924.25000</td>\n",
       "      <td>1059.250000</td>\n",
       "      <td>90.000000</td>\n",
       "      <td>526.250000</td>\n",
       "      <td>426.250000</td>\n",
       "      <td>339.250000</td>\n",
       "      <td>325.000000</td>\n",
       "      <td>166.000000</td>\n",
       "      <td>11.000000</td>\n",
       "      <td>750.000000</td>\n",
       "    </tr>\n",
       "    <tr>\n",
       "      <th>max</th>\n",
       "      <td>687.000000</td>\n",
       "      <td>238.000000</td>\n",
       "      <td>40.000000</td>\n",
       "      <td>130.000000</td>\n",
       "      <td>121.000000</td>\n",
       "      <td>105.000000</td>\n",
       "      <td>24.000000</td>\n",
       "      <td>14053.00000</td>\n",
       "      <td>4256.000000</td>\n",
       "      <td>548.000000</td>\n",
       "      <td>2165.000000</td>\n",
       "      <td>1659.000000</td>\n",
       "      <td>1566.000000</td>\n",
       "      <td>1378.000000</td>\n",
       "      <td>492.000000</td>\n",
       "      <td>32.000000</td>\n",
       "      <td>2460.000000</td>\n",
       "    </tr>\n",
       "  </tbody>\n",
       "</table>\n",
       "</div>"
      ],
      "text/plain": [
       "            AtBat        Hits       HmRun        Runs         RBI       Walks  \\\n",
       "count  322.000000  322.000000  322.000000  322.000000  322.000000  322.000000   \n",
       "mean   380.928571  101.024845   10.770186   50.909938   48.027950   38.742236   \n",
       "std    153.404981   46.454741    8.709037   26.024095   26.166895   21.639327   \n",
       "min     16.000000    1.000000    0.000000    0.000000    0.000000    0.000000   \n",
       "25%    255.250000   64.000000    4.000000   30.250000   28.000000   22.000000   \n",
       "50%    379.500000   96.000000    8.000000   48.000000   44.000000   35.000000   \n",
       "75%    512.000000  137.000000   16.000000   69.000000   64.750000   53.000000   \n",
       "max    687.000000  238.000000   40.000000  130.000000  121.000000  105.000000   \n",
       "\n",
       "            Years       CAtBat        CHits      CHmRun        CRuns  \\\n",
       "count  322.000000    322.00000   322.000000  322.000000   322.000000   \n",
       "mean     7.444099   2648.68323   717.571429   69.490683   358.795031   \n",
       "std      4.926087   2324.20587   654.472627   86.266061   334.105886   \n",
       "min      1.000000     19.00000     4.000000    0.000000     1.000000   \n",
       "25%      4.000000    816.75000   209.000000   14.000000   100.250000   \n",
       "50%      6.000000   1928.00000   508.000000   37.500000   247.000000   \n",
       "75%     11.000000   3924.25000  1059.250000   90.000000   526.250000   \n",
       "max     24.000000  14053.00000  4256.000000  548.000000  2165.000000   \n",
       "\n",
       "              CRBI       CWalks      PutOuts     Assists      Errors  \\\n",
       "count   322.000000   322.000000   322.000000  322.000000  322.000000   \n",
       "mean    330.118012   260.239130   288.937888  106.913043    8.040373   \n",
       "std     333.219617   267.058085   280.704614  136.854876    6.368359   \n",
       "min       0.000000     0.000000     0.000000    0.000000    0.000000   \n",
       "25%      88.750000    67.250000   109.250000    7.000000    3.000000   \n",
       "50%     220.500000   170.500000   212.000000   39.500000    6.000000   \n",
       "75%     426.250000   339.250000   325.000000  166.000000   11.000000   \n",
       "max    1659.000000  1566.000000  1378.000000  492.000000   32.000000   \n",
       "\n",
       "            Salary  \n",
       "count   263.000000  \n",
       "mean    535.925882  \n",
       "std     451.118681  \n",
       "min      67.500000  \n",
       "25%     190.000000  \n",
       "50%     425.000000  \n",
       "75%     750.000000  \n",
       "max    2460.000000  "
      ]
     },
     "execution_count": 6,
     "metadata": {},
     "output_type": "execute_result"
    }
   ],
   "source": [
    "## pandas has a vey handy method to return for descriptive stats\n",
    "\n",
    "df.describe()"
   ]
  },
  {
   "cell_type": "code",
   "execution_count": 7,
   "metadata": {
    "colab": {
     "base_uri": "https://localhost:8080/",
     "height": 77
    },
    "id": "EESZlYgbS5yZ",
    "outputId": "94a78281-e797-4950-97c7-fc97a7499662"
   },
   "outputs": [
    {
     "data": {
      "text/html": [
       "<div>\n",
       "<style scoped>\n",
       "    .dataframe tbody tr th:only-of-type {\n",
       "        vertical-align: middle;\n",
       "    }\n",
       "\n",
       "    .dataframe tbody tr th {\n",
       "        vertical-align: top;\n",
       "    }\n",
       "\n",
       "    .dataframe thead th {\n",
       "        text-align: right;\n",
       "    }\n",
       "</style>\n",
       "<table border=\"1\" class=\"dataframe\">\n",
       "  <thead>\n",
       "    <tr style=\"text-align: right;\">\n",
       "      <th></th>\n",
       "      <th>AtBat</th>\n",
       "      <th>Hits</th>\n",
       "      <th>HmRun</th>\n",
       "      <th>Runs</th>\n",
       "      <th>RBI</th>\n",
       "      <th>Walks</th>\n",
       "      <th>Years</th>\n",
       "      <th>CAtBat</th>\n",
       "      <th>CHits</th>\n",
       "      <th>CHmRun</th>\n",
       "      <th>CRuns</th>\n",
       "      <th>CRBI</th>\n",
       "      <th>CWalks</th>\n",
       "      <th>League</th>\n",
       "      <th>Division</th>\n",
       "      <th>PutOuts</th>\n",
       "      <th>Assists</th>\n",
       "      <th>Errors</th>\n",
       "      <th>Salary</th>\n",
       "      <th>NewLeague</th>\n",
       "    </tr>\n",
       "  </thead>\n",
       "  <tbody>\n",
       "    <tr>\n",
       "      <th>217</th>\n",
       "      <td>20</td>\n",
       "      <td>1</td>\n",
       "      <td>0</td>\n",
       "      <td>0</td>\n",
       "      <td>0</td>\n",
       "      <td>0</td>\n",
       "      <td>2</td>\n",
       "      <td>41</td>\n",
       "      <td>9</td>\n",
       "      <td>2</td>\n",
       "      <td>6</td>\n",
       "      <td>7</td>\n",
       "      <td>4</td>\n",
       "      <td>N</td>\n",
       "      <td>E</td>\n",
       "      <td>78</td>\n",
       "      <td>220</td>\n",
       "      <td>6</td>\n",
       "      <td>2127.333</td>\n",
       "      <td>N</td>\n",
       "    </tr>\n",
       "  </tbody>\n",
       "</table>\n",
       "</div>"
      ],
      "text/plain": [
       "     AtBat  Hits  HmRun  Runs  RBI  Walks  Years  CAtBat  CHits  CHmRun  \\\n",
       "217     20     1      0     0    0      0      2      41      9       2   \n",
       "\n",
       "     CRuns  CRBI  CWalks League Division  PutOuts  Assists  Errors    Salary  \\\n",
       "217      6     7       4      N        E       78      220       6  2127.333   \n",
       "\n",
       "    NewLeague  \n",
       "217         N  "
      ]
     },
     "execution_count": 7,
     "metadata": {},
     "output_type": "execute_result"
    }
   ],
   "source": [
    "df[df.Hits == 1]"
   ]
  },
  {
   "cell_type": "markdown",
   "metadata": {
    "id": "5dcj16aGu2L4"
   },
   "source": [
    "Let's choose a variable, say `Hits` and examine it."
   ]
  },
  {
   "cell_type": "markdown",
   "metadata": {
    "id": "mb40Mripw-f3"
   },
   "source": [
    "__Histograms__"
   ]
  },
  {
   "cell_type": "code",
   "execution_count": 8,
   "metadata": {
    "id": "vnuMANwyqKpM"
   },
   "outputs": [],
   "source": [
    "## Histograms are very useful tools to understand the distribution of a variable\n",
    "import matplotlib.pyplot as plt\n",
    "import seaborn as sns"
   ]
  },
  {
   "cell_type": "code",
   "execution_count": 9,
   "metadata": {
    "colab": {
     "base_uri": "https://localhost:8080/",
     "height": 312
    },
    "id": "EdZubkEFuS_T",
    "outputId": "9e78d821-b4e7-49f7-f83b-048a6084232e"
   },
   "outputs": [
    {
     "data": {
      "image/png": "[encoded data removed]",
      "text/plain": [
       "<Figure size 432x288 with 1 Axes>"
      ]
     },
     "metadata": {
      "needs_background": "light"
     },
     "output_type": "display_data"
    }
   ],
   "source": [
    "## let's use seaborns histplot method for creating a histogram for Hits\n",
    "sns.histplot(data= df.Hits)\n",
    "plt.xticks(range(df.Hits.min(), df.Hits.max(), 10), rotation= 90)\n",
    "plt.title('Hits Counts')\n",
    "plt.show()"
   ]
  },
  {
   "cell_type": "code",
   "execution_count": 10,
   "metadata": {
    "colab": {
     "base_uri": "https://localhost:8080/",
     "height": 225
    },
    "id": "oQHptw26U6Hw",
    "outputId": "5958fe0f-7b4f-420c-86bc-3fa18b2b1728"
   },
   "outputs": [
    {
     "data": {
      "text/html": [
       "<div>\n",
       "<style scoped>\n",
       "    .dataframe tbody tr th:only-of-type {\n",
       "        vertical-align: middle;\n",
       "    }\n",
       "\n",
       "    .dataframe tbody tr th {\n",
       "        vertical-align: top;\n",
       "    }\n",
       "\n",
       "    .dataframe thead th {\n",
       "        text-align: right;\n",
       "    }\n",
       "</style>\n",
       "<table border=\"1\" class=\"dataframe\">\n",
       "  <thead>\n",
       "    <tr style=\"text-align: right;\">\n",
       "      <th></th>\n",
       "      <th>AtBat</th>\n",
       "      <th>Hits</th>\n",
       "      <th>HmRun</th>\n",
       "      <th>Runs</th>\n",
       "      <th>RBI</th>\n",
       "      <th>Walks</th>\n",
       "      <th>Years</th>\n",
       "      <th>CAtBat</th>\n",
       "      <th>CHits</th>\n",
       "      <th>CHmRun</th>\n",
       "      <th>CRuns</th>\n",
       "      <th>CRBI</th>\n",
       "      <th>CWalks</th>\n",
       "      <th>League</th>\n",
       "      <th>Division</th>\n",
       "      <th>PutOuts</th>\n",
       "      <th>Assists</th>\n",
       "      <th>Errors</th>\n",
       "      <th>Salary</th>\n",
       "      <th>NewLeague</th>\n",
       "    </tr>\n",
       "  </thead>\n",
       "  <tbody>\n",
       "    <tr>\n",
       "      <th>52</th>\n",
       "      <td>19</td>\n",
       "      <td>7</td>\n",
       "      <td>0</td>\n",
       "      <td>1</td>\n",
       "      <td>2</td>\n",
       "      <td>1</td>\n",
       "      <td>4</td>\n",
       "      <td>41</td>\n",
       "      <td>13</td>\n",
       "      <td>1</td>\n",
       "      <td>3</td>\n",
       "      <td>4</td>\n",
       "      <td>4</td>\n",
       "      <td>A</td>\n",
       "      <td>E</td>\n",
       "      <td>0</td>\n",
       "      <td>0</td>\n",
       "      <td>0</td>\n",
       "      <td>NaN</td>\n",
       "      <td>A</td>\n",
       "    </tr>\n",
       "    <tr>\n",
       "      <th>64</th>\n",
       "      <td>24</td>\n",
       "      <td>3</td>\n",
       "      <td>0</td>\n",
       "      <td>1</td>\n",
       "      <td>0</td>\n",
       "      <td>2</td>\n",
       "      <td>3</td>\n",
       "      <td>159</td>\n",
       "      <td>28</td>\n",
       "      <td>0</td>\n",
       "      <td>20</td>\n",
       "      <td>12</td>\n",
       "      <td>9</td>\n",
       "      <td>A</td>\n",
       "      <td>W</td>\n",
       "      <td>80</td>\n",
       "      <td>4</td>\n",
       "      <td>0</td>\n",
       "      <td>NaN</td>\n",
       "      <td>A</td>\n",
       "    </tr>\n",
       "    <tr>\n",
       "      <th>217</th>\n",
       "      <td>20</td>\n",
       "      <td>1</td>\n",
       "      <td>0</td>\n",
       "      <td>0</td>\n",
       "      <td>0</td>\n",
       "      <td>0</td>\n",
       "      <td>2</td>\n",
       "      <td>41</td>\n",
       "      <td>9</td>\n",
       "      <td>2</td>\n",
       "      <td>6</td>\n",
       "      <td>7</td>\n",
       "      <td>4</td>\n",
       "      <td>N</td>\n",
       "      <td>E</td>\n",
       "      <td>78</td>\n",
       "      <td>220</td>\n",
       "      <td>6</td>\n",
       "      <td>2127.333</td>\n",
       "      <td>N</td>\n",
       "    </tr>\n",
       "    <tr>\n",
       "      <th>250</th>\n",
       "      <td>33</td>\n",
       "      <td>6</td>\n",
       "      <td>0</td>\n",
       "      <td>2</td>\n",
       "      <td>4</td>\n",
       "      <td>7</td>\n",
       "      <td>1</td>\n",
       "      <td>33</td>\n",
       "      <td>6</td>\n",
       "      <td>0</td>\n",
       "      <td>2</td>\n",
       "      <td>4</td>\n",
       "      <td>7</td>\n",
       "      <td>A</td>\n",
       "      <td>W</td>\n",
       "      <td>205</td>\n",
       "      <td>5</td>\n",
       "      <td>4</td>\n",
       "      <td>NaN</td>\n",
       "      <td>A</td>\n",
       "    </tr>\n",
       "    <tr>\n",
       "      <th>283</th>\n",
       "      <td>16</td>\n",
       "      <td>2</td>\n",
       "      <td>0</td>\n",
       "      <td>1</td>\n",
       "      <td>0</td>\n",
       "      <td>0</td>\n",
       "      <td>2</td>\n",
       "      <td>28</td>\n",
       "      <td>4</td>\n",
       "      <td>0</td>\n",
       "      <td>1</td>\n",
       "      <td>0</td>\n",
       "      <td>0</td>\n",
       "      <td>A</td>\n",
       "      <td>E</td>\n",
       "      <td>247</td>\n",
       "      <td>4</td>\n",
       "      <td>8</td>\n",
       "      <td>NaN</td>\n",
       "      <td>A</td>\n",
       "    </tr>\n",
       "    <tr>\n",
       "      <th>295</th>\n",
       "      <td>19</td>\n",
       "      <td>4</td>\n",
       "      <td>1</td>\n",
       "      <td>2</td>\n",
       "      <td>3</td>\n",
       "      <td>1</td>\n",
       "      <td>1</td>\n",
       "      <td>19</td>\n",
       "      <td>4</td>\n",
       "      <td>1</td>\n",
       "      <td>2</td>\n",
       "      <td>3</td>\n",
       "      <td>1</td>\n",
       "      <td>N</td>\n",
       "      <td>W</td>\n",
       "      <td>692</td>\n",
       "      <td>70</td>\n",
       "      <td>8</td>\n",
       "      <td>920.000</td>\n",
       "      <td>A</td>\n",
       "    </tr>\n",
       "  </tbody>\n",
       "</table>\n",
       "</div>"
      ],
      "text/plain": [
       "     AtBat  Hits  HmRun  Runs  RBI  Walks  Years  CAtBat  CHits  CHmRun  \\\n",
       "52      19     7      0     1    2      1      4      41     13       1   \n",
       "64      24     3      0     1    0      2      3     159     28       0   \n",
       "217     20     1      0     0    0      0      2      41      9       2   \n",
       "250     33     6      0     2    4      7      1      33      6       0   \n",
       "283     16     2      0     1    0      0      2      28      4       0   \n",
       "295     19     4      1     2    3      1      1      19      4       1   \n",
       "\n",
       "     CRuns  CRBI  CWalks League Division  PutOuts  Assists  Errors    Salary  \\\n",
       "52       3     4       4      A        E        0        0       0       NaN   \n",
       "64      20    12       9      A        W       80        4       0       NaN   \n",
       "217      6     7       4      N        E       78      220       6  2127.333   \n",
       "250      2     4       7      A        W      205        5       4       NaN   \n",
       "283      1     0       0      A        E      247        4       8       NaN   \n",
       "295      2     3       1      N        W      692       70       8   920.000   \n",
       "\n",
       "    NewLeague  \n",
       "52          A  \n",
       "64          A  \n",
       "217         N  \n",
       "250         A  \n",
       "283         A  \n",
       "295         A  "
      ]
     },
     "execution_count": 10,
     "metadata": {},
     "output_type": "execute_result"
    }
   ],
   "source": [
    "df[df.Hits < 10]"
   ]
  },
  {
   "cell_type": "code",
   "execution_count": 11,
   "metadata": {
    "colab": {
     "base_uri": "https://localhost:8080/",
     "height": 77
    },
    "id": "uVUKxWcRVFYR",
    "outputId": "98a04448-5619-48a2-cd92-f603807e60f2"
   },
   "outputs": [
    {
     "data": {
      "text/html": [
       "<div>\n",
       "<style scoped>\n",
       "    .dataframe tbody tr th:only-of-type {\n",
       "        vertical-align: middle;\n",
       "    }\n",
       "\n",
       "    .dataframe tbody tr th {\n",
       "        vertical-align: top;\n",
       "    }\n",
       "\n",
       "    .dataframe thead th {\n",
       "        text-align: right;\n",
       "    }\n",
       "</style>\n",
       "<table border=\"1\" class=\"dataframe\">\n",
       "  <thead>\n",
       "    <tr style=\"text-align: right;\">\n",
       "      <th></th>\n",
       "      <th>AtBat</th>\n",
       "      <th>Hits</th>\n",
       "      <th>HmRun</th>\n",
       "      <th>Runs</th>\n",
       "      <th>RBI</th>\n",
       "      <th>Walks</th>\n",
       "      <th>Years</th>\n",
       "      <th>CAtBat</th>\n",
       "      <th>CHits</th>\n",
       "      <th>CHmRun</th>\n",
       "      <th>CRuns</th>\n",
       "      <th>CRBI</th>\n",
       "      <th>CWalks</th>\n",
       "      <th>League</th>\n",
       "      <th>Division</th>\n",
       "      <th>PutOuts</th>\n",
       "      <th>Assists</th>\n",
       "      <th>Errors</th>\n",
       "      <th>Salary</th>\n",
       "      <th>NewLeague</th>\n",
       "    </tr>\n",
       "  </thead>\n",
       "  <tbody>\n",
       "    <tr>\n",
       "      <th>261</th>\n",
       "      <td>126</td>\n",
       "      <td>27</td>\n",
       "      <td>3</td>\n",
       "      <td>8</td>\n",
       "      <td>10</td>\n",
       "      <td>5</td>\n",
       "      <td>4</td>\n",
       "      <td>239</td>\n",
       "      <td>49</td>\n",
       "      <td>3</td>\n",
       "      <td>16</td>\n",
       "      <td>13</td>\n",
       "      <td>14</td>\n",
       "      <td>N</td>\n",
       "      <td>E</td>\n",
       "      <td>190</td>\n",
       "      <td>2</td>\n",
       "      <td>9</td>\n",
       "      <td>190.0</td>\n",
       "      <td>N</td>\n",
       "    </tr>\n",
       "  </tbody>\n",
       "</table>\n",
       "</div>"
      ],
      "text/plain": [
       "     AtBat  Hits  HmRun  Runs  RBI  Walks  Years  CAtBat  CHits  CHmRun  \\\n",
       "261    126    27      3     8   10      5      4     239     49       3   \n",
       "\n",
       "     CRuns  CRBI  CWalks League Division  PutOuts  Assists  Errors  Salary  \\\n",
       "261     16    13      14      N        E      190        2       9   190.0   \n",
       "\n",
       "    NewLeague  \n",
       "261         N  "
      ]
     },
     "execution_count": 11,
     "metadata": {},
     "output_type": "execute_result"
    }
   ],
   "source": [
    "df[(df.Hits > 21) & (df.Hits < 31)]"
   ]
  },
  {
   "cell_type": "code",
   "execution_count": null,
   "metadata": {
    "id": "JMfMwyJJwVd3"
   },
   "outputs": [],
   "source": [
    "## Let's investigate histogram more"
   ]
  },
  {
   "cell_type": "code",
   "execution_count": 12,
   "metadata": {
    "colab": {
     "base_uri": "https://localhost:8080/"
    },
    "id": "lz03S5Yivrjb",
    "outputId": "423493d3-6611-48da-e900-936e86ae1440"
   },
   "outputs": [
    {
     "data": {
      "text/plain": [
       "0.01     4.42\n",
       "0.03    32.00\n",
       "Name: Hits, dtype: float64"
      ]
     },
     "execution_count": 12,
     "metadata": {},
     "output_type": "execute_result"
    }
   ],
   "source": [
    "## Also note that pandas series has an quantile method\n",
    "\n",
    "\n",
    "df.Hits.quantile((0.01, 0.03))"
   ]
  },
  {
   "cell_type": "code",
   "execution_count": 13,
   "metadata": {
    "colab": {
     "base_uri": "https://localhost:8080/"
    },
    "id": "yiNTvTflW1L_",
    "outputId": "3944df4a-2641-40f7-f89a-24c0cf9c9a8b"
   },
   "outputs": [
    {
     "data": {
      "text/plain": [
       "0.027950310559006212"
      ]
     },
     "execution_count": 13,
     "metadata": {},
     "output_type": "execute_result"
    }
   ],
   "source": [
    "9/322"
   ]
  },
  {
   "cell_type": "code",
   "execution_count": 14,
   "metadata": {
    "colab": {
     "base_uri": "https://localhost:8080/"
    },
    "id": "f9WWGxhSWP9U",
    "outputId": "b0a465d8-e44f-4ecc-8753-f0e39f309730"
   },
   "outputs": [
    {
     "data": {
      "text/plain": [
       "[1,\n",
       " 2,\n",
       " 3,\n",
       " 4,\n",
       " 6,\n",
       " 7,\n",
       " 10,\n",
       " 27,\n",
       " 31,\n",
       " 32,\n",
       " 32,\n",
       " 34,\n",
       " 36,\n",
       " 37,\n",
       " 37,\n",
       " 37,\n",
       " 39,\n",
       " 39,\n",
       " 39,\n",
       " 39,\n",
       " 40,\n",
       " 40,\n",
       " 41,\n",
       " 41,\n",
       " 41,\n",
       " 42,\n",
       " 43,\n",
       " 43,\n",
       " 43,\n",
       " 43,\n",
       " 44,\n",
       " 44,\n",
       " 45,\n",
       " 46,\n",
       " 46,\n",
       " 46,\n",
       " 46,\n",
       " 47,\n",
       " 47,\n",
       " 47,\n",
       " 49,\n",
       " 49,\n",
       " 51,\n",
       " 51,\n",
       " 52,\n",
       " 52,\n",
       " 52,\n",
       " 53,\n",
       " 53,\n",
       " 53,\n",
       " 53,\n",
       " 53,\n",
       " 53,\n",
       " 54,\n",
       " 54,\n",
       " 54,\n",
       " 54,\n",
       " 54,\n",
       " 55,\n",
       " 55,\n",
       " 56,\n",
       " 56,\n",
       " 56,\n",
       " 56,\n",
       " 57,\n",
       " 57,\n",
       " 57,\n",
       " 58,\n",
       " 58,\n",
       " 59,\n",
       " 59,\n",
       " 60,\n",
       " 60,\n",
       " 60,\n",
       " 61,\n",
       " 61,\n",
       " 61,\n",
       " 61,\n",
       " 63,\n",
       " 63,\n",
       " 64,\n",
       " 64,\n",
       " 65,\n",
       " 66,\n",
       " 66,\n",
       " 66,\n",
       " 68,\n",
       " 68,\n",
       " 68,\n",
       " 68,\n",
       " 68,\n",
       " 69,\n",
       " 69,\n",
       " 69,\n",
       " 69,\n",
       " 70,\n",
       " 70,\n",
       " 70,\n",
       " 70,\n",
       " 70,\n",
       " 70,\n",
       " 71,\n",
       " 71,\n",
       " 72,\n",
       " 73,\n",
       " 73,\n",
       " 73,\n",
       " 74,\n",
       " 75,\n",
       " 76,\n",
       " 76,\n",
       " 76,\n",
       " 76,\n",
       " 76,\n",
       " 76,\n",
       " 77,\n",
       " 77,\n",
       " 77,\n",
       " 77,\n",
       " 78,\n",
       " 78,\n",
       " 78,\n",
       " 80,\n",
       " 80,\n",
       " 81,\n",
       " 81,\n",
       " 81,\n",
       " 81,\n",
       " 82,\n",
       " 82,\n",
       " 83,\n",
       " 83,\n",
       " 83,\n",
       " 84,\n",
       " 84,\n",
       " 84,\n",
       " 84,\n",
       " 84,\n",
       " 85,\n",
       " 85,\n",
       " 86,\n",
       " 86,\n",
       " 87,\n",
       " 88,\n",
       " 90,\n",
       " 91,\n",
       " 91,\n",
       " 92,\n",
       " 92,\n",
       " 92,\n",
       " 92,\n",
       " 93,\n",
       " 93,\n",
       " 93,\n",
       " 94,\n",
       " 94,\n",
       " 94,\n",
       " 95,\n",
       " 95,\n",
       " 96,\n",
       " 96,\n",
       " 96,\n",
       " 96,\n",
       " 97,\n",
       " 98,\n",
       " 99,\n",
       " 100,\n",
       " 101,\n",
       " 101,\n",
       " 101,\n",
       " 101,\n",
       " 101,\n",
       " 102,\n",
       " 102,\n",
       " 103,\n",
       " 103,\n",
       " 103,\n",
       " 103,\n",
       " 103,\n",
       " 104,\n",
       " 104,\n",
       " 106,\n",
       " 106,\n",
       " 108,\n",
       " 108,\n",
       " 109,\n",
       " 110,\n",
       " 110,\n",
       " 110,\n",
       " 112,\n",
       " 112,\n",
       " 113,\n",
       " 113,\n",
       " 113,\n",
       " 113,\n",
       " 113,\n",
       " 114,\n",
       " 114,\n",
       " 115,\n",
       " 116,\n",
       " 117,\n",
       " 117,\n",
       " 118,\n",
       " 118,\n",
       " 118,\n",
       " 119,\n",
       " 119,\n",
       " 119,\n",
       " 119,\n",
       " 120,\n",
       " 120,\n",
       " 120,\n",
       " 122,\n",
       " 122,\n",
       " 123,\n",
       " 123,\n",
       " 124,\n",
       " 125,\n",
       " 126,\n",
       " 126,\n",
       " 127,\n",
       " 127,\n",
       " 127,\n",
       " 128,\n",
       " 128,\n",
       " 129,\n",
       " 130,\n",
       " 131,\n",
       " 131,\n",
       " 131,\n",
       " 132,\n",
       " 132,\n",
       " 132,\n",
       " 133,\n",
       " 135,\n",
       " 135,\n",
       " 136,\n",
       " 136,\n",
       " 136,\n",
       " 137,\n",
       " 137,\n",
       " 137,\n",
       " 138,\n",
       " 138,\n",
       " 139,\n",
       " 139,\n",
       " 139,\n",
       " 140,\n",
       " 140,\n",
       " 141,\n",
       " 141,\n",
       " 141,\n",
       " 141,\n",
       " 142,\n",
       " 142,\n",
       " 144,\n",
       " 144,\n",
       " 144,\n",
       " 145,\n",
       " 145,\n",
       " 146,\n",
       " 146,\n",
       " 147,\n",
       " 147,\n",
       " 147,\n",
       " 148,\n",
       " 148,\n",
       " 149,\n",
       " 149,\n",
       " 150,\n",
       " 151,\n",
       " 152,\n",
       " 152,\n",
       " 152,\n",
       " 152,\n",
       " 154,\n",
       " 154,\n",
       " 157,\n",
       " 157,\n",
       " 158,\n",
       " 158,\n",
       " 159,\n",
       " 159,\n",
       " 159,\n",
       " 160,\n",
       " 160,\n",
       " 161,\n",
       " 163,\n",
       " 163,\n",
       " 163,\n",
       " 163,\n",
       " 163,\n",
       " 167,\n",
       " 168,\n",
       " 168,\n",
       " 168,\n",
       " 169,\n",
       " 169,\n",
       " 169,\n",
       " 170,\n",
       " 170,\n",
       " 171,\n",
       " 171,\n",
       " 172,\n",
       " 174,\n",
       " 174,\n",
       " 177,\n",
       " 178,\n",
       " 179,\n",
       " 183,\n",
       " 184,\n",
       " 186,\n",
       " 194,\n",
       " 198,\n",
       " 200,\n",
       " 200,\n",
       " 207,\n",
       " 210,\n",
       " 211,\n",
       " 213,\n",
       " 223,\n",
       " 238]"
      ]
     },
     "execution_count": 14,
     "metadata": {},
     "output_type": "execute_result"
    }
   ],
   "source": [
    "sorted(df.Hits.values)"
   ]
  },
  {
   "cell_type": "markdown",
   "metadata": {
    "id": "KsXV42jrxQ9E"
   },
   "source": [
    "__Box Plots__"
   ]
  },
  {
   "cell_type": "markdown",
   "metadata": {
    "id": "u1tzYr3Wx3oF"
   },
   "source": [
    "[Box Plots Explained](https://towardsdatascience.com/understanding-boxplots-5e2df7bcbd51)"
   ]
  },
  {
   "cell_type": "code",
   "execution_count": 15,
   "metadata": {
    "colab": {
     "base_uri": "https://localhost:8080/",
     "height": 264
    },
    "id": "_ZnRrZjIvQG4",
    "outputId": "60cced5b-8dbb-460e-f2b3-f635ff835028"
   },
   "outputs": [
    {
     "data": {
      "image/png": "[encoded data removed]",
      "text/plain": [
       "<Figure size 432x288 with 1 Axes>"
      ]
     },
     "metadata": {},
     "output_type": "display_data"
    }
   ],
   "source": [
    "## another very useful visual method is boxplots. \n",
    "## By default they also try to get outliers.\n",
    "\n",
    "sns.set_theme(style=\"whitegrid\")\n",
    "sns.boxplot(y = df.Hits)\n",
    "plt.title('Boxplot for Hits')\n",
    "plt.show()\n",
    "## seaborn has a very easy to use method `boxplot` for creating boxplots"
   ]
  },
  {
   "cell_type": "markdown",
   "metadata": {
    "id": "kHY9PhsbxWS6"
   },
   "source": [
    "__Violin Plots__"
   ]
  },
  {
   "cell_type": "markdown",
   "metadata": {
    "id": "Z7jlzbf8y_uT"
   },
   "source": [
    "[Violin Plots Explained](https://towardsdatascience.com/violin-plots-explained-fb1d115e023d)"
   ]
  },
  {
   "cell_type": "code",
   "execution_count": 16,
   "metadata": {
    "colab": {
     "base_uri": "https://localhost:8080/",
     "height": 264
    },
    "id": "1bEuLynSxhlk",
    "outputId": "ccd2550d-fff7-469b-e370-03a418412b31"
   },
   "outputs": [
    {
     "data": {
      "image/png": "[encoded data removed]",
      "text/plain": [
       "<Figure size 432x288 with 1 Axes>"
      ]
     },
     "metadata": {},
     "output_type": "display_data"
    }
   ],
   "source": [
    "sns.set_theme(style=\"whitegrid\")\n",
    "## Note that even if boxplots tell us median and min-max \n",
    "## they don't give whole distribution.\n",
    "\n",
    "## seaborn has a handy method `violinplot` to create such plots\n",
    "\n",
    "\n",
    "sns.violinplot(y = df.Salary)\n",
    "\n",
    "plt.title('Salary Violin Plot')\n",
    "plt.show()"
   ]
  },
  {
   "cell_type": "markdown",
   "metadata": {
    "id": "-ruulZA12zwY"
   },
   "source": [
    "__Working with categorical variables__"
   ]
  },
  {
   "cell_type": "code",
   "execution_count": 17,
   "metadata": {
    "colab": {
     "base_uri": "https://localhost:8080/"
    },
    "id": "TjVne8MM0SN0",
    "outputId": "37c059ef-5fc7-4f7c-8284-db6ce86da4b5"
   },
   "outputs": [
    {
     "data": {
      "text/plain": [
       "A    175\n",
       "N    147\n",
       "Name: League, dtype: int64"
      ]
     },
     "execution_count": 17,
     "metadata": {},
     "output_type": "execute_result"
    }
   ],
   "source": [
    "## note that if we are working with categorical variables \n",
    "\n",
    "## histplots are very straightforward.\n",
    "\n",
    "df.League.value_counts()"
   ]
  },
  {
   "cell_type": "code",
   "execution_count": 18,
   "metadata": {
    "colab": {
     "base_uri": "https://localhost:8080/",
     "height": 301
    },
    "id": "ueDSYEE-Yrnq",
    "outputId": "69ac1ca2-6ff0-4013-8fb6-635aff9f9f10"
   },
   "outputs": [
    {
     "data": {
      "image/png": "[encoded data removed]",
      "text/plain": [
       "<Figure size 432x288 with 1 Axes>"
      ]
     },
     "metadata": {},
     "output_type": "display_data"
    }
   ],
   "source": [
    "sns.histplot(x = df.League)\n",
    "plt.title('\"Counts for Different Leagues')\n",
    "plt.show()"
   ]
  },
  {
   "cell_type": "markdown",
   "metadata": {
    "id": "BaQ9iukSzS82"
   },
   "source": [
    "## Bivariate Analysis"
   ]
  },
  {
   "cell_type": "markdown",
   "metadata": {
    "id": "6DczrdSB3CPl"
   },
   "source": [
    "Continuous variable vs Continuous variable"
   ]
  },
  {
   "cell_type": "code",
   "execution_count": 19,
   "metadata": {
    "id": "v9iHZGOtzW5y"
   },
   "outputs": [],
   "source": [
    "## scatterplots are one of the most popular and useful methods \n",
    "## to see the relationship between two variables\n",
    "\n",
    "## Let's check Walks vs RBI's"
   ]
  },
  {
   "cell_type": "code",
   "execution_count": 20,
   "metadata": {
    "colab": {
     "base_uri": "https://localhost:8080/",
     "height": 302
    },
    "id": "_oZwTPcUZEMY",
    "outputId": "7fd1d9a5-b15c-4dec-9288-7f9ef72d408b"
   },
   "outputs": [
    {
     "data": {
      "text/plain": [
       "<AxesSubplot:xlabel='AtBat', ylabel='RBI'>"
      ]
     },
     "execution_count": 20,
     "metadata": {},
     "output_type": "execute_result"
    },
    {
     "data": {
      "image/png": "[encoded data removed]",
      "text/plain": [
       "<Figure size 432x288 with 1 Axes>"
      ]
     },
     "metadata": {},
     "output_type": "display_data"
    }
   ],
   "source": [
    "sns.scatterplot(x = df.AtBat, y = df.RBI)"
   ]
  },
  {
   "cell_type": "markdown",
   "metadata": {
    "id": "NeWMCBTX3Syj"
   },
   "source": [
    "Categorical variable vs Continuous variable"
   ]
  },
  {
   "cell_type": "code",
   "execution_count": 21,
   "metadata": {
    "id": "zIVl523d007R"
   },
   "outputs": [],
   "source": [
    "## sometimes we might want to compare a categorical variable wrt a continuous one.\n",
    "\n",
    "## seaborn has a `catplot` method for this kind of plots."
   ]
  },
  {
   "cell_type": "code",
   "execution_count": 22,
   "metadata": {
    "colab": {
     "base_uri": "https://localhost:8080/",
     "height": 399
    },
    "id": "0F2bmgMRZbec",
    "outputId": "426779c7-bcc3-41c5-8d82-c6d92a100f6f"
   },
   "outputs": [
    {
     "data": {
      "text/plain": [
       "<seaborn.axisgrid.FacetGrid at 0x7fc1463dc8b0>"
      ]
     },
     "execution_count": 22,
     "metadata": {},
     "output_type": "execute_result"
    },
    {
     "data": {
      "image/png": "[encoded data removed]",
      "text/plain": [
       "<Figure size 360x360 with 1 Axes>"
      ]
     },
     "metadata": {},
     "output_type": "display_data"
    }
   ],
   "source": [
    "sns.catplot(y = 'Hits', x = 'Division', data = df, kind = 'violin')"
   ]
  },
  {
   "cell_type": "markdown",
   "metadata": {
    "id": "6UVy9SGbQis_"
   },
   "source": [
    "# PART-III\n",
    "\n",
    "## Lab"
   ]
  },
  {
   "cell_type": "markdown",
   "metadata": {
    "id": "2jm5St8fQ5Lx"
   },
   "source": [
    "This part of the notebook is inspired by [Hands on Machine Learning with Scikit-Learn & TensorFlow- ch2](https://github.com/ageron/handson-ml2/blob/master/02_end_to_end_machine_learning_project.ipynb)\n"
   ]
  },
  {
   "cell_type": "markdown",
   "metadata": {
    "id": "uluT8MSJ3tO3"
   },
   "source": [
    "Use the EDA techniques we learned above to get better insight about the California Housing dataset.\n"
   ]
  },
  {
   "cell_type": "markdown",
   "metadata": {
    "id": "1riu8MbwWkPy"
   },
   "source": [
    "# Readings before working on your midterm\n",
    "\n",
    "From [R for data science book](https://r4ds.had.co.nz/exploratory-data-analysis.html) read chapter-7. (skip all the coding parts.)\n",
    "\n",
    "Some of the questions you can ask to yourself as you are reading are:\n",
    "\n",
    "From 7.1:\n",
    "\n",
    "- What are the steps of EDA cycle?\n",
    "- What is EDA?\n",
    "- Tools of EDA?\n",
    "\n",
    "From 7.2:\n",
    "\n",
    "- What is the key to generating good questions?\n",
    "- What are the two types of questions that might be helpful to make discoveries within your data?\n",
    "- Definitions: Variable, variation, value, observation, etc.\n",
    "\n",
    "From 7.3:\n",
    "\n",
    "- When you can get variation?\n",
    "- Why do you think even constant quantities might have variation when they are measured multiple times?\n",
    "- What is a categorical variable?\n",
    "- What is a continuous variable?\n",
    "- What are the ways to visualize categorical and continuous variables?\n",
    "- How do you identify `typical values` in a categorical and numerical values?\n",
    "- What are the outliers?\n",
    "\n",
    "From 7.4:\n",
    "\n",
    "- What are the two ways of dealing with unusual values?\n",
    "\n",
    "From 7.5:\n",
    "\n",
    "- What is covariation?\n",
    "\n",
    "- Explain density, box plot and IQR"
   ]
  },
  {
   "cell_type": "code",
   "execution_count": null,
   "metadata": {},
   "outputs": [],
   "source": []
  }
 ],
 "metadata": {
  "colab": {
   "collapsed_sections": [],
   "name": "Instructor_Copy_Data Exploration and Analysis.ipynb",
   "provenance": []
  },
  "kernelspec": {
   "display_name": "Python 3",
   "language": "python",
   "name": "python3"
  },
  "language_info": {
   "codemirror_mode": {
    "name": "ipython",
    "version": 3
   },
   "file_extension": ".py",
   "mimetype": "text/x-python",
   "name": "python",
   "nbconvert_exporter": "python",
   "pygments_lexer": "ipython3",
   "version": "3.8.8"
  },
  "toc": {
   "base_numbering": 1,
   "nav_menu": {},
   "number_sections": false,
   "sideBar": true,
   "skip_h1_title": false,
   "title_cell": "Table of Contents",
   "title_sidebar": "Contents",
   "toc_cell": false,
   "toc_position": {},
   "toc_section_display": true,
   "toc_window_display": true
  }
 },
 "nbformat": 4,
 "nbformat_minor": 1
}
