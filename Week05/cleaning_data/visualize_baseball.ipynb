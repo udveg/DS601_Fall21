{
 "cells": [
  {
   "cell_type": "markdown",
   "metadata": {
    "colab_type": "text",
    "id": "zQA_1MJKxgcb"
   },
   "source": [
    "source: http://www.seanlahman.com/baseball-archive/statistics/\n",
    "\n",
    "see also https://sabr.org/sabermetrics/data"
   ]
  },
  {
   "cell_type": "code",
   "execution_count": 5,
   "metadata": {
    "colab": {},
    "colab_type": "code",
    "id": "cQ8ZUG1zxgcd",
    "outputId": "8469b0ad-bdb5-41cc-ab65-cceef58fd6bf"
   },
   "outputs": [
    {
     "name": "stdout",
     "output_type": "stream",
     "text": [
      "1.2.4\n"
     ]
    }
   ],
   "source": [
    "import time\n",
    "import pandas\n",
    "print(pandas.__version__)\n",
    "import matplotlib.pyplot as plt"
   ]
  },
  {
   "cell_type": "markdown",
   "metadata": {
    "colab_type": "text",
    "id": "AA3oGXYgxgck"
   },
   "source": [
    "Disclaimer: I'm not a sports person, so this data is almost meaningless to me\n",
    "\n",
    "\n",
    "data source: https://github.com/chadwickbureau/baseballdatabank/archive/master.zip\n",
    "\n",
    "Extract folder > core > Teams.csv"
   ]
  },
  {
   "cell_type": "code",
   "execution_count": 6,
   "metadata": {
    "colab": {},
    "colab_type": "code",
    "id": "6hlWHqeqxgcm",
    "outputId": "301d0c97-ebd7-46d5-930d-131e486fdc66"
   },
   "outputs": [
    {
     "data": {
      "text/plain": [
       "(2955, 48)"
      ]
     },
     "execution_count": 6,
     "metadata": {},
     "output_type": "execute_result"
    }
   ],
   "source": [
    "\n",
    "df = pandas.read_csv('../data/Teams.csv')\n",
    "\n",
    "df.shape"
   ]
  },
  {
   "cell_type": "code",
   "execution_count": 9,
   "metadata": {
    "colab": {},
    "colab_type": "code",
    "id": "EW2mDqYWxgcq",
    "outputId": "f9887085-8b9a-4dfc-c4d0-7497dafef3e0"
   },
   "outputs": [
    {
     "data": {
      "text/html": [
       "<div>\n",
       "<style scoped>\n",
       "    .dataframe tbody tr th:only-of-type {\n",
       "        vertical-align: middle;\n",
       "    }\n",
       "\n",
       "    .dataframe tbody tr th {\n",
       "        vertical-align: top;\n",
       "    }\n",
       "\n",
       "    .dataframe thead th {\n",
       "        text-align: right;\n",
       "    }\n",
       "</style>\n",
       "<table border=\"1\" class=\"dataframe\">\n",
       "  <thead>\n",
       "    <tr style=\"text-align: right;\">\n",
       "      <th></th>\n",
       "      <th>0</th>\n",
       "      <th>1</th>\n",
       "      <th>2</th>\n",
       "      <th>3</th>\n",
       "      <th>4</th>\n",
       "    </tr>\n",
       "  </thead>\n",
       "  <tbody>\n",
       "    <tr>\n",
       "      <th>yearID</th>\n",
       "      <td>1871</td>\n",
       "      <td>1871</td>\n",
       "      <td>1871</td>\n",
       "      <td>1871</td>\n",
       "      <td>1871</td>\n",
       "    </tr>\n",
       "    <tr>\n",
       "      <th>lgID</th>\n",
       "      <td>NaN</td>\n",
       "      <td>NaN</td>\n",
       "      <td>NaN</td>\n",
       "      <td>NaN</td>\n",
       "      <td>NaN</td>\n",
       "    </tr>\n",
       "    <tr>\n",
       "      <th>teamID</th>\n",
       "      <td>BS1</td>\n",
       "      <td>CH1</td>\n",
       "      <td>CL1</td>\n",
       "      <td>FW1</td>\n",
       "      <td>NY2</td>\n",
       "    </tr>\n",
       "    <tr>\n",
       "      <th>franchID</th>\n",
       "      <td>BNA</td>\n",
       "      <td>CNA</td>\n",
       "      <td>CFC</td>\n",
       "      <td>KEK</td>\n",
       "      <td>NNA</td>\n",
       "    </tr>\n",
       "    <tr>\n",
       "      <th>divID</th>\n",
       "      <td>NaN</td>\n",
       "      <td>NaN</td>\n",
       "      <td>NaN</td>\n",
       "      <td>NaN</td>\n",
       "      <td>NaN</td>\n",
       "    </tr>\n",
       "    <tr>\n",
       "      <th>Rank</th>\n",
       "      <td>3</td>\n",
       "      <td>2</td>\n",
       "      <td>8</td>\n",
       "      <td>7</td>\n",
       "      <td>5</td>\n",
       "    </tr>\n",
       "    <tr>\n",
       "      <th>G</th>\n",
       "      <td>31</td>\n",
       "      <td>28</td>\n",
       "      <td>29</td>\n",
       "      <td>19</td>\n",
       "      <td>33</td>\n",
       "    </tr>\n",
       "    <tr>\n",
       "      <th>Ghome</th>\n",
       "      <td>NaN</td>\n",
       "      <td>NaN</td>\n",
       "      <td>NaN</td>\n",
       "      <td>NaN</td>\n",
       "      <td>NaN</td>\n",
       "    </tr>\n",
       "    <tr>\n",
       "      <th>W</th>\n",
       "      <td>20</td>\n",
       "      <td>19</td>\n",
       "      <td>10</td>\n",
       "      <td>7</td>\n",
       "      <td>16</td>\n",
       "    </tr>\n",
       "    <tr>\n",
       "      <th>L</th>\n",
       "      <td>10</td>\n",
       "      <td>9</td>\n",
       "      <td>19</td>\n",
       "      <td>12</td>\n",
       "      <td>17</td>\n",
       "    </tr>\n",
       "    <tr>\n",
       "      <th>DivWin</th>\n",
       "      <td>NaN</td>\n",
       "      <td>NaN</td>\n",
       "      <td>NaN</td>\n",
       "      <td>NaN</td>\n",
       "      <td>NaN</td>\n",
       "    </tr>\n",
       "    <tr>\n",
       "      <th>WCWin</th>\n",
       "      <td>NaN</td>\n",
       "      <td>NaN</td>\n",
       "      <td>NaN</td>\n",
       "      <td>NaN</td>\n",
       "      <td>NaN</td>\n",
       "    </tr>\n",
       "    <tr>\n",
       "      <th>LgWin</th>\n",
       "      <td>N</td>\n",
       "      <td>N</td>\n",
       "      <td>N</td>\n",
       "      <td>N</td>\n",
       "      <td>N</td>\n",
       "    </tr>\n",
       "    <tr>\n",
       "      <th>WSWin</th>\n",
       "      <td>NaN</td>\n",
       "      <td>NaN</td>\n",
       "      <td>NaN</td>\n",
       "      <td>NaN</td>\n",
       "      <td>NaN</td>\n",
       "    </tr>\n",
       "    <tr>\n",
       "      <th>R</th>\n",
       "      <td>401</td>\n",
       "      <td>302</td>\n",
       "      <td>249</td>\n",
       "      <td>137</td>\n",
       "      <td>302</td>\n",
       "    </tr>\n",
       "    <tr>\n",
       "      <th>AB</th>\n",
       "      <td>1372</td>\n",
       "      <td>1196</td>\n",
       "      <td>1186</td>\n",
       "      <td>746</td>\n",
       "      <td>1404</td>\n",
       "    </tr>\n",
       "    <tr>\n",
       "      <th>H</th>\n",
       "      <td>426</td>\n",
       "      <td>323</td>\n",
       "      <td>328</td>\n",
       "      <td>178</td>\n",
       "      <td>403</td>\n",
       "    </tr>\n",
       "    <tr>\n",
       "      <th>2B</th>\n",
       "      <td>70</td>\n",
       "      <td>52</td>\n",
       "      <td>35</td>\n",
       "      <td>19</td>\n",
       "      <td>43</td>\n",
       "    </tr>\n",
       "    <tr>\n",
       "      <th>3B</th>\n",
       "      <td>37</td>\n",
       "      <td>21</td>\n",
       "      <td>40</td>\n",
       "      <td>8</td>\n",
       "      <td>21</td>\n",
       "    </tr>\n",
       "    <tr>\n",
       "      <th>HR</th>\n",
       "      <td>3</td>\n",
       "      <td>10</td>\n",
       "      <td>7</td>\n",
       "      <td>2</td>\n",
       "      <td>1</td>\n",
       "    </tr>\n",
       "    <tr>\n",
       "      <th>BB</th>\n",
       "      <td>60.0</td>\n",
       "      <td>60.0</td>\n",
       "      <td>26.0</td>\n",
       "      <td>33.0</td>\n",
       "      <td>33.0</td>\n",
       "    </tr>\n",
       "    <tr>\n",
       "      <th>SO</th>\n",
       "      <td>19.0</td>\n",
       "      <td>22.0</td>\n",
       "      <td>25.0</td>\n",
       "      <td>9.0</td>\n",
       "      <td>15.0</td>\n",
       "    </tr>\n",
       "    <tr>\n",
       "      <th>SB</th>\n",
       "      <td>73.0</td>\n",
       "      <td>69.0</td>\n",
       "      <td>18.0</td>\n",
       "      <td>16.0</td>\n",
       "      <td>46.0</td>\n",
       "    </tr>\n",
       "    <tr>\n",
       "      <th>CS</th>\n",
       "      <td>16.0</td>\n",
       "      <td>21.0</td>\n",
       "      <td>8.0</td>\n",
       "      <td>4.0</td>\n",
       "      <td>15.0</td>\n",
       "    </tr>\n",
       "    <tr>\n",
       "      <th>HBP</th>\n",
       "      <td>NaN</td>\n",
       "      <td>NaN</td>\n",
       "      <td>NaN</td>\n",
       "      <td>NaN</td>\n",
       "      <td>NaN</td>\n",
       "    </tr>\n",
       "    <tr>\n",
       "      <th>SF</th>\n",
       "      <td>NaN</td>\n",
       "      <td>NaN</td>\n",
       "      <td>NaN</td>\n",
       "      <td>NaN</td>\n",
       "      <td>NaN</td>\n",
       "    </tr>\n",
       "    <tr>\n",
       "      <th>RA</th>\n",
       "      <td>303</td>\n",
       "      <td>241</td>\n",
       "      <td>341</td>\n",
       "      <td>243</td>\n",
       "      <td>313</td>\n",
       "    </tr>\n",
       "    <tr>\n",
       "      <th>ER</th>\n",
       "      <td>109</td>\n",
       "      <td>77</td>\n",
       "      <td>116</td>\n",
       "      <td>97</td>\n",
       "      <td>121</td>\n",
       "    </tr>\n",
       "    <tr>\n",
       "      <th>ERA</th>\n",
       "      <td>3.55</td>\n",
       "      <td>2.76</td>\n",
       "      <td>4.11</td>\n",
       "      <td>5.17</td>\n",
       "      <td>3.72</td>\n",
       "    </tr>\n",
       "    <tr>\n",
       "      <th>CG</th>\n",
       "      <td>22</td>\n",
       "      <td>25</td>\n",
       "      <td>23</td>\n",
       "      <td>19</td>\n",
       "      <td>32</td>\n",
       "    </tr>\n",
       "    <tr>\n",
       "      <th>SHO</th>\n",
       "      <td>1</td>\n",
       "      <td>0</td>\n",
       "      <td>0</td>\n",
       "      <td>1</td>\n",
       "      <td>1</td>\n",
       "    </tr>\n",
       "    <tr>\n",
       "      <th>SV</th>\n",
       "      <td>3</td>\n",
       "      <td>1</td>\n",
       "      <td>0</td>\n",
       "      <td>0</td>\n",
       "      <td>0</td>\n",
       "    </tr>\n",
       "    <tr>\n",
       "      <th>IPouts</th>\n",
       "      <td>828</td>\n",
       "      <td>753</td>\n",
       "      <td>762</td>\n",
       "      <td>507</td>\n",
       "      <td>879</td>\n",
       "    </tr>\n",
       "    <tr>\n",
       "      <th>HA</th>\n",
       "      <td>367</td>\n",
       "      <td>308</td>\n",
       "      <td>346</td>\n",
       "      <td>261</td>\n",
       "      <td>373</td>\n",
       "    </tr>\n",
       "    <tr>\n",
       "      <th>HRA</th>\n",
       "      <td>2</td>\n",
       "      <td>6</td>\n",
       "      <td>13</td>\n",
       "      <td>5</td>\n",
       "      <td>7</td>\n",
       "    </tr>\n",
       "    <tr>\n",
       "      <th>BBA</th>\n",
       "      <td>42</td>\n",
       "      <td>28</td>\n",
       "      <td>53</td>\n",
       "      <td>21</td>\n",
       "      <td>42</td>\n",
       "    </tr>\n",
       "    <tr>\n",
       "      <th>SOA</th>\n",
       "      <td>23</td>\n",
       "      <td>22</td>\n",
       "      <td>34</td>\n",
       "      <td>17</td>\n",
       "      <td>22</td>\n",
       "    </tr>\n",
       "    <tr>\n",
       "      <th>E</th>\n",
       "      <td>243</td>\n",
       "      <td>229</td>\n",
       "      <td>234</td>\n",
       "      <td>163</td>\n",
       "      <td>235</td>\n",
       "    </tr>\n",
       "    <tr>\n",
       "      <th>DP</th>\n",
       "      <td>24</td>\n",
       "      <td>16</td>\n",
       "      <td>15</td>\n",
       "      <td>8</td>\n",
       "      <td>14</td>\n",
       "    </tr>\n",
       "    <tr>\n",
       "      <th>FP</th>\n",
       "      <td>0.834</td>\n",
       "      <td>0.829</td>\n",
       "      <td>0.818</td>\n",
       "      <td>0.803</td>\n",
       "      <td>0.84</td>\n",
       "    </tr>\n",
       "    <tr>\n",
       "      <th>name</th>\n",
       "      <td>Boston Red Stockings</td>\n",
       "      <td>Chicago White Stockings</td>\n",
       "      <td>Cleveland Forest Citys</td>\n",
       "      <td>Fort Wayne Kekiongas</td>\n",
       "      <td>New York Mutuals</td>\n",
       "    </tr>\n",
       "    <tr>\n",
       "      <th>park</th>\n",
       "      <td>South End Grounds I</td>\n",
       "      <td>Union Base-Ball Grounds</td>\n",
       "      <td>National Association Grounds</td>\n",
       "      <td>Hamilton Field</td>\n",
       "      <td>Union Grounds (Brooklyn)</td>\n",
       "    </tr>\n",
       "    <tr>\n",
       "      <th>attendance</th>\n",
       "      <td>NaN</td>\n",
       "      <td>NaN</td>\n",
       "      <td>NaN</td>\n",
       "      <td>NaN</td>\n",
       "      <td>NaN</td>\n",
       "    </tr>\n",
       "    <tr>\n",
       "      <th>BPF</th>\n",
       "      <td>103</td>\n",
       "      <td>104</td>\n",
       "      <td>96</td>\n",
       "      <td>101</td>\n",
       "      <td>90</td>\n",
       "    </tr>\n",
       "    <tr>\n",
       "      <th>PPF</th>\n",
       "      <td>98</td>\n",
       "      <td>102</td>\n",
       "      <td>100</td>\n",
       "      <td>107</td>\n",
       "      <td>88</td>\n",
       "    </tr>\n",
       "    <tr>\n",
       "      <th>teamIDBR</th>\n",
       "      <td>BOS</td>\n",
       "      <td>CHI</td>\n",
       "      <td>CLE</td>\n",
       "      <td>KEK</td>\n",
       "      <td>NYU</td>\n",
       "    </tr>\n",
       "    <tr>\n",
       "      <th>teamIDlahman45</th>\n",
       "      <td>BS1</td>\n",
       "      <td>CH1</td>\n",
       "      <td>CL1</td>\n",
       "      <td>FW1</td>\n",
       "      <td>NY2</td>\n",
       "    </tr>\n",
       "    <tr>\n",
       "      <th>teamIDretro</th>\n",
       "      <td>BS1</td>\n",
       "      <td>CH1</td>\n",
       "      <td>CL1</td>\n",
       "      <td>FW1</td>\n",
       "      <td>NY2</td>\n",
       "    </tr>\n",
       "  </tbody>\n",
       "</table>\n",
       "</div>"
      ],
      "text/plain": [
       "                                   0                        1  \\\n",
       "yearID                          1871                     1871   \n",
       "lgID                             NaN                      NaN   \n",
       "teamID                           BS1                      CH1   \n",
       "franchID                         BNA                      CNA   \n",
       "divID                            NaN                      NaN   \n",
       "Rank                               3                        2   \n",
       "G                                 31                       28   \n",
       "Ghome                            NaN                      NaN   \n",
       "W                                 20                       19   \n",
       "L                                 10                        9   \n",
       "DivWin                           NaN                      NaN   \n",
       "WCWin                            NaN                      NaN   \n",
       "LgWin                              N                        N   \n",
       "WSWin                            NaN                      NaN   \n",
       "R                                401                      302   \n",
       "AB                              1372                     1196   \n",
       "H                                426                      323   \n",
       "2B                                70                       52   \n",
       "3B                                37                       21   \n",
       "HR                                 3                       10   \n",
       "BB                              60.0                     60.0   \n",
       "SO                              19.0                     22.0   \n",
       "SB                              73.0                     69.0   \n",
       "CS                              16.0                     21.0   \n",
       "HBP                              NaN                      NaN   \n",
       "SF                               NaN                      NaN   \n",
       "RA                               303                      241   \n",
       "ER                               109                       77   \n",
       "ERA                             3.55                     2.76   \n",
       "CG                                22                       25   \n",
       "SHO                                1                        0   \n",
       "SV                                 3                        1   \n",
       "IPouts                           828                      753   \n",
       "HA                               367                      308   \n",
       "HRA                                2                        6   \n",
       "BBA                               42                       28   \n",
       "SOA                               23                       22   \n",
       "E                                243                      229   \n",
       "DP                                24                       16   \n",
       "FP                             0.834                    0.829   \n",
       "name            Boston Red Stockings  Chicago White Stockings   \n",
       "park             South End Grounds I  Union Base-Ball Grounds   \n",
       "attendance                       NaN                      NaN   \n",
       "BPF                              103                      104   \n",
       "PPF                               98                      102   \n",
       "teamIDBR                         BOS                      CHI   \n",
       "teamIDlahman45                   BS1                      CH1   \n",
       "teamIDretro                      BS1                      CH1   \n",
       "\n",
       "                                           2                     3  \\\n",
       "yearID                                  1871                  1871   \n",
       "lgID                                     NaN                   NaN   \n",
       "teamID                                   CL1                   FW1   \n",
       "franchID                                 CFC                   KEK   \n",
       "divID                                    NaN                   NaN   \n",
       "Rank                                       8                     7   \n",
       "G                                         29                    19   \n",
       "Ghome                                    NaN                   NaN   \n",
       "W                                         10                     7   \n",
       "L                                         19                    12   \n",
       "DivWin                                   NaN                   NaN   \n",
       "WCWin                                    NaN                   NaN   \n",
       "LgWin                                      N                     N   \n",
       "WSWin                                    NaN                   NaN   \n",
       "R                                        249                   137   \n",
       "AB                                      1186                   746   \n",
       "H                                        328                   178   \n",
       "2B                                        35                    19   \n",
       "3B                                        40                     8   \n",
       "HR                                         7                     2   \n",
       "BB                                      26.0                  33.0   \n",
       "SO                                      25.0                   9.0   \n",
       "SB                                      18.0                  16.0   \n",
       "CS                                       8.0                   4.0   \n",
       "HBP                                      NaN                   NaN   \n",
       "SF                                       NaN                   NaN   \n",
       "RA                                       341                   243   \n",
       "ER                                       116                    97   \n",
       "ERA                                     4.11                  5.17   \n",
       "CG                                        23                    19   \n",
       "SHO                                        0                     1   \n",
       "SV                                         0                     0   \n",
       "IPouts                                   762                   507   \n",
       "HA                                       346                   261   \n",
       "HRA                                       13                     5   \n",
       "BBA                                       53                    21   \n",
       "SOA                                       34                    17   \n",
       "E                                        234                   163   \n",
       "DP                                        15                     8   \n",
       "FP                                     0.818                 0.803   \n",
       "name                  Cleveland Forest Citys  Fort Wayne Kekiongas   \n",
       "park            National Association Grounds        Hamilton Field   \n",
       "attendance                               NaN                   NaN   \n",
       "BPF                                       96                   101   \n",
       "PPF                                      100                   107   \n",
       "teamIDBR                                 CLE                   KEK   \n",
       "teamIDlahman45                           CL1                   FW1   \n",
       "teamIDretro                              CL1                   FW1   \n",
       "\n",
       "                                       4  \n",
       "yearID                              1871  \n",
       "lgID                                 NaN  \n",
       "teamID                               NY2  \n",
       "franchID                             NNA  \n",
       "divID                                NaN  \n",
       "Rank                                   5  \n",
       "G                                     33  \n",
       "Ghome                                NaN  \n",
       "W                                     16  \n",
       "L                                     17  \n",
       "DivWin                               NaN  \n",
       "WCWin                                NaN  \n",
       "LgWin                                  N  \n",
       "WSWin                                NaN  \n",
       "R                                    302  \n",
       "AB                                  1404  \n",
       "H                                    403  \n",
       "2B                                    43  \n",
       "3B                                    21  \n",
       "HR                                     1  \n",
       "BB                                  33.0  \n",
       "SO                                  15.0  \n",
       "SB                                  46.0  \n",
       "CS                                  15.0  \n",
       "HBP                                  NaN  \n",
       "SF                                   NaN  \n",
       "RA                                   313  \n",
       "ER                                   121  \n",
       "ERA                                 3.72  \n",
       "CG                                    32  \n",
       "SHO                                    1  \n",
       "SV                                     0  \n",
       "IPouts                               879  \n",
       "HA                                   373  \n",
       "HRA                                    7  \n",
       "BBA                                   42  \n",
       "SOA                                   22  \n",
       "E                                    235  \n",
       "DP                                    14  \n",
       "FP                                  0.84  \n",
       "name                    New York Mutuals  \n",
       "park            Union Grounds (Brooklyn)  \n",
       "attendance                           NaN  \n",
       "BPF                                   90  \n",
       "PPF                                   88  \n",
       "teamIDBR                             NYU  \n",
       "teamIDlahman45                       NY2  \n",
       "teamIDretro                          NY2  "
      ]
     },
     "execution_count": 9,
     "metadata": {},
     "output_type": "execute_result"
    }
   ],
   "source": [
    "df.head().T"
   ]
  },
  {
   "cell_type": "markdown",
   "metadata": {
    "colab_type": "text",
    "id": "7ElTCQ3Lxgcu"
   },
   "source": [
    "## plots\n",
    "\n",
    "Let's plot a column of numeric data using Panda's \"plot()\" (which uses <a href=\"https://matplotlib.org/\">matplotlib</a>)\n",
    "\n",
    "https://pandas.pydata.org/pandas-docs/stable/reference/api/pandas.Series.plot.html"
   ]
  },
  {
   "cell_type": "code",
   "execution_count": 10,
   "metadata": {
    "colab": {},
    "colab_type": "code",
    "id": "4lKCIeCRxgcv",
    "outputId": "85c95cfb-d4c1-4ab1-8081-ff1da701acbc"
   },
   "outputs": [
    {
     "data": {
      "text/plain": [
       "<AxesSubplot:>"
      ]
     },
     "execution_count": 10,
     "metadata": {},
     "output_type": "execute_result"
    },
    {
     "data": {
      "image/png": "[encoded data removed]",
      "text/plain": [
       "<Figure size 432x288 with 1 Axes>"
      ]
     },
     "metadata": {
      "needs_background": "light"
     },
     "output_type": "display_data"
    }
   ],
   "source": [
    "df['Rank'].plot()"
   ]
  },
  {
   "cell_type": "markdown",
   "metadata": {
    "colab_type": "text",
    "id": "OfZgmLTNxgcy"
   },
   "source": [
    "Sometimes the plot doesn't render, so I typically specify the \".show()\" command "
   ]
  },
  {
   "cell_type": "code",
   "execution_count": 11,
   "metadata": {
    "colab": {},
    "colab_type": "code",
    "id": "V-DOtVGsxgcz",
    "outputId": "ffe6094f-fa32-4ffe-94a3-af47a485d709"
   },
   "outputs": [
    {
     "data": {
      "image/png": "[encoded data removed]",
      "text/plain": [
       "<Figure size 432x288 with 1 Axes>"
      ]
     },
     "metadata": {
      "needs_background": "light"
     },
     "output_type": "display_data"
    }
   ],
   "source": [
    "df['Rank'].plot()\n",
    "plt.show()"
   ]
  },
  {
   "cell_type": "markdown",
   "metadata": {
    "colab_type": "text",
    "id": "t6psIoDHxgc1"
   },
   "source": [
    "## scatter plot\n",
    "\n",
    "The plot looks dense, but this is merely because there are lines being drawn between consecutive points.\n",
    "\n",
    "To avoid inserting unnecessary lines, use a scatter plot.\n",
    "\n",
    "Pandas doesn't support a scatter plot for numeric data, so we'll use the series index and series values in a call to matplotlib"
   ]
  },
  {
   "cell_type": "code",
   "execution_count": 12,
   "metadata": {
    "colab": {},
    "colab_type": "code",
    "id": "8LZMkTvWxgc2",
    "outputId": "a1670df6-e002-4dd2-cbfc-b76d5d11d103"
   },
   "outputs": [
    {
     "data": {
      "text/plain": [
       "0    3\n",
       "1    2\n",
       "2    8\n",
       "3    7\n",
       "4    5\n",
       "Name: Rank, dtype: int64"
      ]
     },
     "execution_count": 12,
     "metadata": {},
     "output_type": "execute_result"
    }
   ],
   "source": [
    "ser = df['Rank'] # save the column to a variable\n",
    "ser[0:5]"
   ]
  },
  {
   "cell_type": "code",
   "execution_count": 13,
   "metadata": {
    "colab": {},
    "colab_type": "code",
    "id": "1D9vOuTHxgc5",
    "outputId": "b2525e01-b0bb-441d-d64c-8daae69bdade"
   },
   "outputs": [
    {
     "data": {
      "image/png": "[encoded data removed]",
      "text/plain": [
       "<Figure size 432x288 with 1 Axes>"
      ]
     },
     "metadata": {
      "needs_background": "light"
     },
     "output_type": "display_data"
    }
   ],
   "source": [
    "plt.scatter(ser.index, ser)\n",
    "plt.show()"
   ]
  },
  {
   "cell_type": "markdown",
   "metadata": {
    "colab_type": "text",
    "id": "i5bOShv2xgc7"
   },
   "source": [
    "Observation: there are only integer values present. \n",
    "\n",
    "There's probably not a relation among adjacent rows, so a scatter plot for the series is not a relevant story\n",
    "\n",
    "# histogram\n",
    "\n",
    "Even without knowing what the meaning of the numeric column is, a histogram is a useful way to gain understanding of the values."
   ]
  },
  {
   "cell_type": "code",
   "execution_count": 14,
   "metadata": {
    "colab": {},
    "colab_type": "code",
    "id": "Trd4kwdExgc8",
    "outputId": "6214c4c2-f4ad-4238-bf6d-ec4c9c64aab0"
   },
   "outputs": [
    {
     "data": {
      "text/plain": [
       "<AxesSubplot:>"
      ]
     },
     "execution_count": 14,
     "metadata": {},
     "output_type": "execute_result"
    },
    {
     "data": {
      "image/png": "[encoded data removed]",
      "text/plain": [
       "<Figure size 432x288 with 1 Axes>"
      ]
     },
     "metadata": {
      "needs_background": "light"
     },
     "output_type": "display_data"
    }
   ],
   "source": [
    "df['Rank'].hist()"
   ]
  },
  {
   "cell_type": "markdown",
   "metadata": {
    "colab_type": "text",
    "id": "1r_0lHSfxgc_"
   },
   "source": [
    "I don't like the text output announcing the result, so I write that to an unnamed variable <a href=\"https://stackoverflow.com/questions/5893163/what-is-the-purpose-of-the-single-underscore-variable-in-python\">see this page</a>"
   ]
  },
  {
   "cell_type": "code",
   "execution_count": 15,
   "metadata": {
    "colab": {},
    "colab_type": "code",
    "id": "6aXdM90pxgc_",
    "outputId": "cec0de8b-e5de-4970-8103-d555fc6d2213"
   },
   "outputs": [
    {
     "data": {
      "image/png": "[encoded data removed]",
      "text/plain": [
       "<Figure size 432x288 with 1 Axes>"
      ]
     },
     "metadata": {
      "needs_background": "light"
     },
     "output_type": "display_data"
    }
   ],
   "source": [
    "_=df['Rank'].hist()"
   ]
  },
  {
   "cell_type": "markdown",
   "metadata": {
    "colab_type": "text",
    "id": "ByT127E9xgdB"
   },
   "source": [
    "The default is to have 10 bins; let's see what 100 bins looks like"
   ]
  },
  {
   "cell_type": "code",
   "execution_count": 16,
   "metadata": {
    "colab": {},
    "colab_type": "code",
    "id": "eSKH990MxgdB",
    "outputId": "d76c8dc9-9478-4631-f18c-30cab3c1f9a4"
   },
   "outputs": [
    {
     "data": {
      "image/png": "[encoded data removed]",
      "text/plain": [
       "<Figure size 432x288 with 1 Axes>"
      ]
     },
     "metadata": {
      "needs_background": "light"
     },
     "output_type": "display_data"
    }
   ],
   "source": [
    "_=df['Rank'].hist(bins=100)\n",
    "_=plt.ylabel('count',fontsize=14)"
   ]
  },
  {
   "cell_type": "markdown",
   "metadata": {
    "colab_type": "text",
    "id": "LbsCCE5GxgdD"
   },
   "source": [
    "spacing between the bins indicates there are too many bins. \n",
    "\n",
    "How many unique entries are there in this column?"
   ]
  },
  {
   "cell_type": "code",
   "execution_count": 17,
   "metadata": {
    "colab": {},
    "colab_type": "code",
    "id": "tN6UAWjcxgdD",
    "outputId": "7c3d2e38-92ab-4f83-9f6e-b370430e82b9"
   },
   "outputs": [
    {
     "data": {
      "text/plain": [
       "13"
      ]
     },
     "execution_count": 17,
     "metadata": {},
     "output_type": "execute_result"
    }
   ],
   "source": [
    "df['Rank'].nunique()"
   ]
  },
  {
   "cell_type": "markdown",
   "metadata": {
    "colab_type": "text",
    "id": "55Y4B2v0xgdF"
   },
   "source": [
    "Use the unique number of values to set the bin count in the histogram"
   ]
  },
  {
   "cell_type": "code",
   "execution_count": 18,
   "metadata": {
    "colab": {},
    "colab_type": "code",
    "id": "V6lc6i5ZxgdG",
    "outputId": "fb136f8e-8f9d-4bc8-97db-ea1af92b6eb8"
   },
   "outputs": [
    {
     "data": {
      "image/png": "[encoded data removed]",
      "text/plain": [
       "<Figure size 432x288 with 1 Axes>"
      ]
     },
     "metadata": {
      "needs_background": "light"
     },
     "output_type": "display_data"
    }
   ],
   "source": [
    "_=df['Rank'].hist(bins=df['Rank'].nunique())\n",
    "_=plt.ylabel('count',fontsize=14)"
   ]
  },
  {
   "cell_type": "markdown",
   "metadata": {
    "colab_type": "text",
    "id": "J-NrkLWLxgdI"
   },
   "source": [
    "# bar graph for categorical data \n",
    "\n",
    "Let's look at another column:"
   ]
  },
  {
   "cell_type": "code",
   "execution_count": 19,
   "metadata": {},
   "outputs": [
    {
     "data": {
      "text/plain": [
       "0       1372\n",
       "1       1196\n",
       "2       1186\n",
       "3        746\n",
       "4       1404\n",
       "        ... \n",
       "2950    1752\n",
       "2951    1975\n",
       "2952    1936\n",
       "2953    2023\n",
       "2954    1968\n",
       "Name: AB, Length: 2955, dtype: int64"
      ]
     },
     "execution_count": 19,
     "metadata": {},
     "output_type": "execute_result"
    }
   ],
   "source": [
    "df['AB']"
   ]
  },
  {
   "cell_type": "code",
   "execution_count": 20,
   "metadata": {
    "colab": {},
    "colab_type": "code",
    "id": "9jCUpqfnxgdJ",
    "outputId": "405f10dc-98fb-4a4d-a8a3-c8c099495192"
   },
   "outputs": [
    {
     "data": {
      "text/plain": [
       "1135"
      ]
     },
     "execution_count": 20,
     "metadata": {},
     "output_type": "execute_result"
    }
   ],
   "source": [
    "df['AB'].nunique()"
   ]
  },
  {
   "cell_type": "code",
   "execution_count": 21,
   "metadata": {
    "colab": {},
    "colab_type": "code",
    "id": "du6IZKg0xgdK",
    "outputId": "9629b923-3e57-4398-85b4-7a6ffdf6d34f"
   },
   "outputs": [
    {
     "name": "stdout",
     "output_type": "stream",
     "text": [
      "0.48387813568115234 seconds\n"
     ]
    },
    {
     "data": {
      "image/png": "[encoded data removed]",
      "text/plain": [
       "<Figure size 432x288 with 1 Axes>"
      ]
     },
     "metadata": {
      "needs_background": "light"
     },
     "output_type": "display_data"
    }
   ],
   "source": [
    "start_time = time.time()\n",
    "_=df['AB'].hist(bins=df['AB'].nunique())\n",
    "_=plt.ylabel('count',fontsize=14)\n",
    "print(time.time() - start_time,'seconds')"
   ]
  },
  {
   "cell_type": "markdown",
   "metadata": {
    "colab_type": "text",
    "id": "025dU2gVxgdM"
   },
   "source": [
    "--> It doesn't always make sense to use \"number of unique values\" to set the number of bins.\n",
    "\n",
    "We get a similar result in less time by specifying a lower bin count:"
   ]
  },
  {
   "cell_type": "code",
   "execution_count": 22,
   "metadata": {
    "colab": {},
    "colab_type": "code",
    "id": "Ue36QcrFxgdM",
    "outputId": "3ca61e4d-a90b-4dca-ecb7-3fb63f9a0174"
   },
   "outputs": [
    {
     "name": "stdout",
     "output_type": "stream",
     "text": [
      "0.06391000747680664 seconds\n"
     ]
    },
    {
     "data": {
      "image/png": "[encoded data removed]",
      "text/plain": [
       "<Figure size 432x288 with 1 Axes>"
      ]
     },
     "metadata": {
      "needs_background": "light"
     },
     "output_type": "display_data"
    }
   ],
   "source": [
    "start_time = time.time()\n",
    "_=df['AB'].hist(bins=100)\n",
    "_=plt.ylabel('count',fontsize=14)\n",
    "print(time.time() - start_time,'seconds')"
   ]
  },
  {
   "cell_type": "markdown",
   "metadata": {
    "colab_type": "text",
    "id": "c1dBmnlgxgdO"
   },
   "source": [
    "Finding the \"right\" bin count is a subjective exploration"
   ]
  },
  {
   "cell_type": "code",
   "execution_count": 23,
   "metadata": {
    "colab": {},
    "colab_type": "code",
    "id": "LgAmahmPxgdO",
    "outputId": "131460bd-3906-417c-aa3e-c200d60b79b9"
   },
   "outputs": [
    {
     "name": "stdout",
     "output_type": "stream",
     "text": [
      "0.026376962661743164 seconds\n"
     ]
    },
    {
     "data": {
      "image/png": "[encoded data removed]",
      "text/plain": [
       "<Figure size 432x288 with 1 Axes>"
      ]
     },
     "metadata": {
      "needs_background": "light"
     },
     "output_type": "display_data"
    }
   ],
   "source": [
    "start_time = time.time()\n",
    "_=df['AB'].hist(bins=10)\n",
    "_=plt.ylabel('count',fontsize=14)\n",
    "print(time.time() - start_time,'seconds')"
   ]
  },
  {
   "cell_type": "markdown",
   "metadata": {
    "colab_type": "text",
    "id": "0gdEa-foxgdP"
   },
   "source": [
    "## bar graphs"
   ]
  },
  {
   "cell_type": "code",
   "execution_count": 24,
   "metadata": {
    "colab": {},
    "colab_type": "code",
    "id": "s29mG3rFxgdQ",
    "outputId": "42be06f1-ece0-418f-9a5d-2c3478899143"
   },
   "outputs": [
    {
     "data": {
      "text/plain": [
       "2"
      ]
     },
     "execution_count": 24,
     "metadata": {},
     "output_type": "execute_result"
    }
   ],
   "source": [
    "df['LgWin'].nunique()\n"
   ]
  },
  {
   "cell_type": "code",
   "execution_count": 25,
   "metadata": {
    "colab": {},
    "colab_type": "code",
    "id": "Trtb6xcJxgdR",
    "outputId": "b4a99c4d-a740-46fc-fa0d-c02a26524519"
   },
   "outputs": [
    {
     "data": {
      "text/plain": [
       "N    2645\n",
       "Y     282\n",
       "Name: LgWin, dtype: int64"
      ]
     },
     "execution_count": 25,
     "metadata": {},
     "output_type": "execute_result"
    }
   ],
   "source": [
    "df['LgWin'].value_counts()"
   ]
  },
  {
   "cell_type": "markdown",
   "metadata": {
    "colab_type": "text",
    "id": "jiCVSRHdxgdS"
   },
   "source": [
    "https://pandas.pydata.org/pandas-docs/stable/reference/api/pandas.DataFrame.plot.bar.html\n",
    "    \n",
    "https://stackoverflow.com/questions/37125678/pandas-plot-bar-chart-for-multiple-categories"
   ]
  },
  {
   "cell_type": "code",
   "execution_count": 26,
   "metadata": {
    "colab": {},
    "colab_type": "code",
    "id": "kkYaiEemxgdT",
    "outputId": "9599af8d-7ed9-47d7-a7f3-1fd4071d0407"
   },
   "outputs": [
    {
     "data": {
      "image/png": "[encoded data removed]",
      "text/plain": [
       "<Figure size 432x288 with 1 Axes>"
      ]
     },
     "metadata": {
      "needs_background": "light"
     },
     "output_type": "display_data"
    }
   ],
   "source": [
    "_=df['LgWin'].value_counts().plot(kind=\"bar\")\n",
    "_=plt.ylabel('count',fontsize=14)"
   ]
  },
  {
   "cell_type": "code",
   "execution_count": null,
   "metadata": {
    "colab": {},
    "colab_type": "code",
    "id": "5t6Jd1__xgdU"
   },
   "outputs": [],
   "source": []
  },
  {
   "cell_type": "code",
   "execution_count": null,
   "metadata": {
    "colab": {},
    "colab_type": "code",
    "id": "4mCuLjeBxgdV"
   },
   "outputs": [],
   "source": []
  }
 ],
 "metadata": {
  "colab": {
   "name": "visualize_baseball.ipynb",
   "provenance": []
  },
  "kernelspec": {
   "display_name": "Python 3",
   "language": "python",
   "name": "python3"
  },
  "language_info": {
   "codemirror_mode": {
    "name": "ipython",
    "version": 3
   },
   "file_extension": ".py",
   "mimetype": "text/x-python",
   "name": "python",
   "nbconvert_exporter": "python",
   "pygments_lexer": "ipython3",
   "version": "3.8.8"
  },
  "toc": {
   "base_numbering": 1,
   "nav_menu": {},
   "number_sections": true,
   "sideBar": true,
   "skip_h1_title": false,
   "title_cell": "Table of Contents",
   "title_sidebar": "Contents",
   "toc_cell": false,
   "toc_position": {},
   "toc_section_display": true,
   "toc_window_display": false
  },
  "varInspector": {
   "cols": {
    "lenName": 16,
    "lenType": 16,
    "lenVar": 40
   },
   "kernels_config": {
    "python": {
     "delete_cmd_postfix": "",
     "delete_cmd_prefix": "del ",
     "library": "var_list.py",
     "varRefreshCmd": "print(var_dic_list())"
    },
    "r": {
     "delete_cmd_postfix": ") ",
     "delete_cmd_prefix": "rm(",
     "library": "var_list.r",
     "varRefreshCmd": "cat(var_dic_list()) "
    }
   },
   "types_to_exclude": [
    "module",
    "function",
    "builtin_function_or_method",
    "instance",
    "_Feature"
   ],
   "window_display": false
  }
 },
 "nbformat": 4,
 "nbformat_minor": 1
}
