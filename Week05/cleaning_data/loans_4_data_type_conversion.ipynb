{
 "cells": [
  {
   "cell_type": "markdown",
   "metadata": {
    "colab_type": "text",
    "id": "IoGoHWcpxeEU"
   },
   "source": [
    "data source:<BR>\n",
    "https://www.lendingclub.com/info/download-data.action"
   ]
  },
  {
   "cell_type": "code",
   "execution_count": 1,
   "metadata": {
    "colab": {
     "base_uri": "https://localhost:8080/",
     "height": 35
    },
    "colab_type": "code",
    "executionInfo": {
     "elapsed": 433,
     "status": "ok",
     "timestamp": 1582070962193,
     "user": {
      "displayName": "Donghwa Kim",
      "photoUrl": "https://lh3.googleusercontent.com/a-/AAuE7mCUr_hBxTClFAn6H1reah-7NndGROHTzr4LdV1e2A=s64",
      "userId": "15087115447261542286"
     },
     "user_tz": 300
    },
    "id": "755ttb5WxeEX",
    "outputId": "12fb211a-19d8-4e10-990b-1a7beb02ac9c"
   },
   "outputs": [
    {
     "name": "stdout",
     "output_type": "stream",
     "text": [
      "Pandas 1.2.4\n"
     ]
    }
   ],
   "source": [
    "import time\n",
    "import pandas\n",
    "print('Pandas',pandas.__version__)"
   ]
  },
  {
   "cell_type": "code",
   "execution_count": 2,
   "metadata": {
    "colab": {},
    "colab_type": "code",
    "id": "NuETBuPixeEg"
   },
   "outputs": [
    {
     "name": "stdout",
     "output_type": "stream",
     "text": [
      "0.6775259971618652 seconds\n"
     ]
    },
    {
     "data": {
      "text/plain": [
       "(42538, 145)"
      ]
     },
     "execution_count": 2,
     "metadata": {},
     "output_type": "execute_result"
    }
   ],
   "source": [
    "start_time = time.time()\n",
    "\n",
    "loans_2007 = pandas.read_csv('../data/LoanStats3a.csv', skiprows=1, low_memory=False)\n",
    "print(time.time() - start_time,'seconds')\n",
    "loans_2007.shape"
   ]
  },
  {
   "cell_type": "code",
   "execution_count": 3,
   "metadata": {
    "colab": {},
    "colab_type": "code",
    "id": "ciSPE6H9xeEl"
   },
   "outputs": [],
   "source": [
    "pandas.set_option(\"display.max_rows\", 999)\n",
    "pandas.set_option(\"display.max_columns\", 999)"
   ]
  },
  {
   "cell_type": "code",
   "execution_count": 4,
   "metadata": {
    "colab": {},
    "colab_type": "code",
    "id": "igWUq9ksxeEo",
    "outputId": "8e5e01b6-286d-40b6-f4dc-2ed150ea1a4a"
   },
   "outputs": [
    {
     "data": {
      "text/plain": [
       "id                                             object\n",
       "member_id                                     float64\n",
       "loan_amnt                                     float64\n",
       "funded_amnt                                   float64\n",
       "funded_amnt_inv                               float64\n",
       "term                                           object\n",
       "int_rate                                       object\n",
       "installment                                   float64\n",
       "grade                                          object\n",
       "sub_grade                                      object\n",
       "emp_title                                      object\n",
       "emp_length                                     object\n",
       "home_ownership                                 object\n",
       "annual_inc                                    float64\n",
       "verification_status                            object\n",
       "issue_d                                        object\n",
       "loan_status                                    object\n",
       "pymnt_plan                                     object\n",
       "url                                           float64\n",
       "desc                                           object\n",
       "purpose                                        object\n",
       "title                                          object\n",
       "zip_code                                       object\n",
       "addr_state                                     object\n",
       "dti                                           float64\n",
       "delinq_2yrs                                   float64\n",
       "earliest_cr_line                               object\n",
       "inq_last_6mths                                float64\n",
       "mths_since_last_delinq                        float64\n",
       "mths_since_last_record                        float64\n",
       "open_acc                                      float64\n",
       "pub_rec                                       float64\n",
       "revol_bal                                     float64\n",
       "revol_util                                     object\n",
       "total_acc                                     float64\n",
       "initial_list_status                            object\n",
       "out_prncp                                     float64\n",
       "out_prncp_inv                                 float64\n",
       "total_pymnt                                   float64\n",
       "total_pymnt_inv                               float64\n",
       "total_rec_prncp                               float64\n",
       "total_rec_int                                 float64\n",
       "total_rec_late_fee                            float64\n",
       "recoveries                                    float64\n",
       "collection_recovery_fee                       float64\n",
       "last_pymnt_d                                   object\n",
       "last_pymnt_amnt                               float64\n",
       "next_pymnt_d                                   object\n",
       "last_credit_pull_d                             object\n",
       "collections_12_mths_ex_med                    float64\n",
       "mths_since_last_major_derog                   float64\n",
       "policy_code                                   float64\n",
       "application_type                               object\n",
       "annual_inc_joint                              float64\n",
       "dti_joint                                     float64\n",
       "verification_status_joint                     float64\n",
       "acc_now_delinq                                float64\n",
       "tot_coll_amt                                  float64\n",
       "tot_cur_bal                                   float64\n",
       "open_acc_6m                                   float64\n",
       "open_act_il                                   float64\n",
       "open_il_12m                                   float64\n",
       "open_il_24m                                   float64\n",
       "mths_since_rcnt_il                            float64\n",
       "total_bal_il                                  float64\n",
       "il_util                                       float64\n",
       "open_rv_12m                                   float64\n",
       "open_rv_24m                                   float64\n",
       "max_bal_bc                                    float64\n",
       "all_util                                      float64\n",
       "total_rev_hi_lim                              float64\n",
       "inq_fi                                        float64\n",
       "total_cu_tl                                   float64\n",
       "inq_last_12m                                  float64\n",
       "acc_open_past_24mths                          float64\n",
       "avg_cur_bal                                   float64\n",
       "bc_open_to_buy                                float64\n",
       "bc_util                                       float64\n",
       "chargeoff_within_12_mths                      float64\n",
       "delinq_amnt                                   float64\n",
       "mo_sin_old_il_acct                            float64\n",
       "mo_sin_old_rev_tl_op                          float64\n",
       "mo_sin_rcnt_rev_tl_op                         float64\n",
       "mo_sin_rcnt_tl                                float64\n",
       "mort_acc                                      float64\n",
       "mths_since_recent_bc                          float64\n",
       "mths_since_recent_bc_dlq                      float64\n",
       "mths_since_recent_inq                         float64\n",
       "mths_since_recent_revol_delinq                float64\n",
       "num_accts_ever_120_pd                         float64\n",
       "num_actv_bc_tl                                float64\n",
       "num_actv_rev_tl                               float64\n",
       "num_bc_sats                                   float64\n",
       "num_bc_tl                                     float64\n",
       "num_il_tl                                     float64\n",
       "num_op_rev_tl                                 float64\n",
       "num_rev_accts                                 float64\n",
       "num_rev_tl_bal_gt_0                           float64\n",
       "num_sats                                      float64\n",
       "num_tl_120dpd_2m                              float64\n",
       "num_tl_30dpd                                  float64\n",
       "num_tl_90g_dpd_24m                            float64\n",
       "num_tl_op_past_12m                            float64\n",
       "pct_tl_nvr_dlq                                float64\n",
       "percent_bc_gt_75                              float64\n",
       "pub_rec_bankruptcies                          float64\n",
       "tax_liens                                     float64\n",
       "tot_hi_cred_lim                               float64\n",
       "total_bal_ex_mort                             float64\n",
       "total_bc_limit                                float64\n",
       "total_il_high_credit_limit                    float64\n",
       "revol_bal_joint                               float64\n",
       "sec_app_earliest_cr_line                      float64\n",
       "sec_app_inq_last_6mths                        float64\n",
       "sec_app_mort_acc                              float64\n",
       "sec_app_open_acc                              float64\n",
       "sec_app_revol_util                            float64\n",
       "sec_app_open_act_il                           float64\n",
       "sec_app_num_rev_accts                         float64\n",
       "sec_app_chargeoff_within_12_mths              float64\n",
       "sec_app_collections_12_mths_ex_med            float64\n",
       "sec_app_mths_since_last_major_derog           float64\n",
       "hardship_flag                                  object\n",
       "hardship_type                                 float64\n",
       "hardship_reason                               float64\n",
       "hardship_status                               float64\n",
       "deferral_term                                 float64\n",
       "hardship_amount                               float64\n",
       "hardship_start_date                           float64\n",
       "hardship_end_date                             float64\n",
       "payment_plan_start_date                       float64\n",
       "hardship_length                               float64\n",
       "hardship_dpd                                  float64\n",
       "hardship_loan_status                          float64\n",
       "orig_projected_additional_accrued_interest    float64\n",
       "hardship_payoff_balance_amount                float64\n",
       "hardship_last_payment_amount                  float64\n",
       "disbursement_method                            object\n",
       "debt_settlement_flag                           object\n",
       "debt_settlement_flag_date                      object\n",
       "settlement_status                              object\n",
       "settlement_date                                object\n",
       "settlement_amount                             float64\n",
       "settlement_percentage                         float64\n",
       "settlement_term                               float64\n",
       "dtype: object"
      ]
     },
     "execution_count": 4,
     "metadata": {},
     "output_type": "execute_result"
    }
   ],
   "source": [
    "loans_2007.dtypes"
   ]
  },
  {
   "cell_type": "code",
   "execution_count": 5,
   "metadata": {
    "colab": {},
    "colab_type": "code",
    "id": "8rN3KimfxeEr",
    "outputId": "dfc401cd-aca9-4064-b9b8-9507847a06e1"
   },
   "outputs": [
    {
     "data": {
      "text/plain": [
       "0          B\n",
       "1          C\n",
       "2          C\n",
       "3          C\n",
       "4          B\n",
       "        ... \n",
       "42533      B\n",
       "42534      A\n",
       "42535      A\n",
       "42536    NaN\n",
       "42537    NaN\n",
       "Name: grade, Length: 42538, dtype: object"
      ]
     },
     "execution_count": 5,
     "metadata": {},
     "output_type": "execute_result"
    }
   ],
   "source": [
    "loans_2007['grade']"
   ]
  },
  {
   "cell_type": "code",
   "execution_count": 6,
   "metadata": {
    "colab": {},
    "colab_type": "code",
    "id": "rLNSwe6GxeEu",
    "outputId": "e3ff8316-0d92-4883-99f4-060eaf1ed96e"
   },
   "outputs": [
    {
     "data": {
      "text/plain": [
       "7"
      ]
     },
     "execution_count": 6,
     "metadata": {},
     "output_type": "execute_result"
    }
   ],
   "source": [
    "loans_2007['grade'].nunique()"
   ]
  },
  {
   "cell_type": "code",
   "execution_count": 7,
   "metadata": {
    "colab": {},
    "colab_type": "code",
    "id": "Qbkl7A4SxeEy",
    "outputId": "2f124e6d-e354-42c1-b25e-a468c9594cba"
   },
   "outputs": [
    {
     "data": {
      "text/plain": [
       "B    12389\n",
       "A    10183\n",
       "C     8740\n",
       "D     6016\n",
       "E     3394\n",
       "F     1301\n",
       "G      512\n",
       "Name: grade, dtype: int64"
      ]
     },
     "execution_count": 7,
     "metadata": {},
     "output_type": "execute_result"
    }
   ],
   "source": [
    "loans_2007['grade'].value_counts()"
   ]
  },
  {
   "cell_type": "markdown",
   "metadata": {
    "colab_type": "text",
    "id": "Yubn0lc-xeE1"
   },
   "source": [
    "https://pandas.pydata.org/pandas-docs/stable/user_guide/categorical.html"
   ]
  },
  {
   "cell_type": "code",
   "execution_count": 8,
   "metadata": {
    "colab": {},
    "colab_type": "code",
    "id": "YMC3l6DyxeE1"
   },
   "outputs": [],
   "source": [
    "loans_2007['grade'] = loans_2007['grade'].astype('category')"
   ]
  },
  {
   "cell_type": "code",
   "execution_count": 9,
   "metadata": {
    "colab": {},
    "colab_type": "code",
    "id": "xKC_S4z4xeE3",
    "outputId": "6b763caf-79c7-488c-9b1d-25a31f5ea7a0"
   },
   "outputs": [
    {
     "data": {
      "text/plain": [
       "CategoricalDtype(categories=['A', 'B', 'C', 'D', 'E', 'F', 'G'], ordered=False)"
      ]
     },
     "execution_count": 9,
     "metadata": {},
     "output_type": "execute_result"
    }
   ],
   "source": [
    "loans_2007['grade'].dtype"
   ]
  },
  {
   "cell_type": "code",
   "execution_count": 10,
   "metadata": {
    "colab": {},
    "colab_type": "code",
    "id": "QT_iV5y2xeE5",
    "outputId": "4be6e422-7b37-47fa-bdd4-563cc79695b4"
   },
   "outputs": [
    {
     "data": {
      "text/plain": [
       "0    RENT\n",
       "1    RENT\n",
       "2    RENT\n",
       "3    RENT\n",
       "4    RENT\n",
       "5    RENT\n",
       "6    RENT\n",
       "7    RENT\n",
       "8     OWN\n",
       "9    RENT\n",
       "Name: home_ownership, dtype: object"
      ]
     },
     "execution_count": 10,
     "metadata": {},
     "output_type": "execute_result"
    }
   ],
   "source": [
    "loans_2007['home_ownership'][0:10]"
   ]
  },
  {
   "cell_type": "code",
   "execution_count": 11,
   "metadata": {
    "colab": {},
    "colab_type": "code",
    "id": "m2YrfBeyxeE8",
    "outputId": "255e7c1c-d19c-4010-a318-69629fe49c97"
   },
   "outputs": [
    {
     "data": {
      "text/plain": [
       "5"
      ]
     },
     "execution_count": 11,
     "metadata": {},
     "output_type": "execute_result"
    }
   ],
   "source": [
    "loans_2007['home_ownership'].nunique()"
   ]
  },
  {
   "cell_type": "code",
   "execution_count": 12,
   "metadata": {
    "colab": {},
    "colab_type": "code",
    "id": "OjH2IckyxeE_",
    "outputId": "71f2b598-f404-40ba-80e3-ac38bdf794b9"
   },
   "outputs": [
    {
     "data": {
      "text/plain": [
       "RENT        20181\n",
       "MORTGAGE    18959\n",
       "OWN          3251\n",
       "OTHER         136\n",
       "NONE            8\n",
       "Name: home_ownership, dtype: int64"
      ]
     },
     "execution_count": 12,
     "metadata": {},
     "output_type": "execute_result"
    }
   ],
   "source": [
    "loans_2007['home_ownership'].value_counts()"
   ]
  },
  {
   "cell_type": "code",
   "execution_count": 13,
   "metadata": {
    "colab": {},
    "colab_type": "code",
    "id": "DH9siW19xeFA"
   },
   "outputs": [],
   "source": [
    "loans_2007['home_ownership'] = loans_2007['home_ownership'].astype('category')"
   ]
  },
  {
   "cell_type": "code",
   "execution_count": 14,
   "metadata": {
    "colab": {},
    "colab_type": "code",
    "id": "RL398in8xeFC",
    "outputId": "e0e1a9da-ed85-4cef-ec70-3d083c23c77f"
   },
   "outputs": [
    {
     "data": {
      "text/plain": [
       "0    83.7%\n",
       "1     9.4%\n",
       "2    98.5%\n",
       "3      21%\n",
       "4    53.9%\n",
       "5    28.3%\n",
       "6    85.6%\n",
       "7    87.5%\n",
       "8    32.6%\n",
       "9    36.5%\n",
       "Name: revol_util, dtype: object"
      ]
     },
     "execution_count": 14,
     "metadata": {},
     "output_type": "execute_result"
    }
   ],
   "source": [
    "loans_2007['revol_util'][0:10]"
   ]
  },
  {
   "cell_type": "code",
   "execution_count": null,
   "metadata": {},
   "outputs": [],
   "source": []
  },
  {
   "cell_type": "code",
   "execution_count": 15,
   "metadata": {
    "colab": {},
    "colab_type": "code",
    "id": "-I8rc05zxeFE",
    "outputId": "6121596e-8b72-4f48-d264-de87efa76109"
   },
   "outputs": [
    {
     "ename": "ValueError",
     "evalue": "could not convert string to float: '83.7%'",
     "output_type": "error",
     "traceback": [
      "\u001b[0;31m---------------------------------------------------------------------------\u001b[0m",
      "\u001b[0;31mValueError\u001b[0m                                Traceback (most recent call last)",
      "\u001b[0;32m<ipython-input-15-308fcea2674f>\u001b[0m in \u001b[0;36m<module>\u001b[0;34m\u001b[0m\n\u001b[0;32m----> 1\u001b[0;31m \u001b[0mloans_2007\u001b[0m\u001b[0;34m[\u001b[0m\u001b[0;34m'revol_util as percentage'\u001b[0m\u001b[0;34m]\u001b[0m \u001b[0;34m=\u001b[0m \u001b[0mloans_2007\u001b[0m\u001b[0;34m[\u001b[0m\u001b[0;34m'revol_util'\u001b[0m\u001b[0;34m]\u001b[0m\u001b[0;34m.\u001b[0m\u001b[0mastype\u001b[0m\u001b[0;34m(\u001b[0m\u001b[0;34m'float64'\u001b[0m\u001b[0;34m)\u001b[0m\u001b[0;34m\u001b[0m\u001b[0;34m\u001b[0m\u001b[0m\n\u001b[0m",
      "\u001b[0;32m~/opt/anaconda3/lib/python3.8/site-packages/pandas/core/generic.py\u001b[0m in \u001b[0;36mastype\u001b[0;34m(self, dtype, copy, errors)\u001b[0m\n\u001b[1;32m   5875\u001b[0m         \u001b[0;32melse\u001b[0m\u001b[0;34m:\u001b[0m\u001b[0;34m\u001b[0m\u001b[0;34m\u001b[0m\u001b[0m\n\u001b[1;32m   5876\u001b[0m             \u001b[0;31m# else, only a single dtype is given\u001b[0m\u001b[0;34m\u001b[0m\u001b[0;34m\u001b[0m\u001b[0;34m\u001b[0m\u001b[0m\n\u001b[0;32m-> 5877\u001b[0;31m             \u001b[0mnew_data\u001b[0m \u001b[0;34m=\u001b[0m \u001b[0mself\u001b[0m\u001b[0;34m.\u001b[0m\u001b[0m_mgr\u001b[0m\u001b[0;34m.\u001b[0m\u001b[0mastype\u001b[0m\u001b[0;34m(\u001b[0m\u001b[0mdtype\u001b[0m\u001b[0;34m=\u001b[0m\u001b[0mdtype\u001b[0m\u001b[0;34m,\u001b[0m \u001b[0mcopy\u001b[0m\u001b[0;34m=\u001b[0m\u001b[0mcopy\u001b[0m\u001b[0;34m,\u001b[0m \u001b[0merrors\u001b[0m\u001b[0;34m=\u001b[0m\u001b[0merrors\u001b[0m\u001b[0;34m)\u001b[0m\u001b[0;34m\u001b[0m\u001b[0;34m\u001b[0m\u001b[0m\n\u001b[0m\u001b[1;32m   5878\u001b[0m             \u001b[0;32mreturn\u001b[0m \u001b[0mself\u001b[0m\u001b[0;34m.\u001b[0m\u001b[0m_constructor\u001b[0m\u001b[0;34m(\u001b[0m\u001b[0mnew_data\u001b[0m\u001b[0;34m)\u001b[0m\u001b[0;34m.\u001b[0m\u001b[0m__finalize__\u001b[0m\u001b[0;34m(\u001b[0m\u001b[0mself\u001b[0m\u001b[0;34m,\u001b[0m \u001b[0mmethod\u001b[0m\u001b[0;34m=\u001b[0m\u001b[0;34m\"astype\"\u001b[0m\u001b[0;34m)\u001b[0m\u001b[0;34m\u001b[0m\u001b[0;34m\u001b[0m\u001b[0m\n\u001b[1;32m   5879\u001b[0m \u001b[0;34m\u001b[0m\u001b[0m\n",
      "\u001b[0;32m~/opt/anaconda3/lib/python3.8/site-packages/pandas/core/internals/managers.py\u001b[0m in \u001b[0;36mastype\u001b[0;34m(self, dtype, copy, errors)\u001b[0m\n\u001b[1;32m    629\u001b[0m         \u001b[0mself\u001b[0m\u001b[0;34m,\u001b[0m \u001b[0mdtype\u001b[0m\u001b[0;34m,\u001b[0m \u001b[0mcopy\u001b[0m\u001b[0;34m:\u001b[0m \u001b[0mbool\u001b[0m \u001b[0;34m=\u001b[0m \u001b[0;32mFalse\u001b[0m\u001b[0;34m,\u001b[0m \u001b[0merrors\u001b[0m\u001b[0;34m:\u001b[0m \u001b[0mstr\u001b[0m \u001b[0;34m=\u001b[0m \u001b[0;34m\"raise\"\u001b[0m\u001b[0;34m\u001b[0m\u001b[0;34m\u001b[0m\u001b[0m\n\u001b[1;32m    630\u001b[0m     ) -> \"BlockManager\":\n\u001b[0;32m--> 631\u001b[0;31m         \u001b[0;32mreturn\u001b[0m \u001b[0mself\u001b[0m\u001b[0;34m.\u001b[0m\u001b[0mapply\u001b[0m\u001b[0;34m(\u001b[0m\u001b[0;34m\"astype\"\u001b[0m\u001b[0;34m,\u001b[0m \u001b[0mdtype\u001b[0m\u001b[0;34m=\u001b[0m\u001b[0mdtype\u001b[0m\u001b[0;34m,\u001b[0m \u001b[0mcopy\u001b[0m\u001b[0;34m=\u001b[0m\u001b[0mcopy\u001b[0m\u001b[0;34m,\u001b[0m \u001b[0merrors\u001b[0m\u001b[0;34m=\u001b[0m\u001b[0merrors\u001b[0m\u001b[0;34m)\u001b[0m\u001b[0;34m\u001b[0m\u001b[0;34m\u001b[0m\u001b[0m\n\u001b[0m\u001b[1;32m    632\u001b[0m \u001b[0;34m\u001b[0m\u001b[0m\n\u001b[1;32m    633\u001b[0m     def convert(\n",
      "\u001b[0;32m~/opt/anaconda3/lib/python3.8/site-packages/pandas/core/internals/managers.py\u001b[0m in \u001b[0;36mapply\u001b[0;34m(self, f, align_keys, ignore_failures, **kwargs)\u001b[0m\n\u001b[1;32m    425\u001b[0m                     \u001b[0mapplied\u001b[0m \u001b[0;34m=\u001b[0m \u001b[0mb\u001b[0m\u001b[0;34m.\u001b[0m\u001b[0mapply\u001b[0m\u001b[0;34m(\u001b[0m\u001b[0mf\u001b[0m\u001b[0;34m,\u001b[0m \u001b[0;34m**\u001b[0m\u001b[0mkwargs\u001b[0m\u001b[0;34m)\u001b[0m\u001b[0;34m\u001b[0m\u001b[0;34m\u001b[0m\u001b[0m\n\u001b[1;32m    426\u001b[0m                 \u001b[0;32melse\u001b[0m\u001b[0;34m:\u001b[0m\u001b[0;34m\u001b[0m\u001b[0;34m\u001b[0m\u001b[0m\n\u001b[0;32m--> 427\u001b[0;31m                     \u001b[0mapplied\u001b[0m \u001b[0;34m=\u001b[0m \u001b[0mgetattr\u001b[0m\u001b[0;34m(\u001b[0m\u001b[0mb\u001b[0m\u001b[0;34m,\u001b[0m \u001b[0mf\u001b[0m\u001b[0;34m)\u001b[0m\u001b[0;34m(\u001b[0m\u001b[0;34m**\u001b[0m\u001b[0mkwargs\u001b[0m\u001b[0;34m)\u001b[0m\u001b[0;34m\u001b[0m\u001b[0;34m\u001b[0m\u001b[0m\n\u001b[0m\u001b[1;32m    428\u001b[0m             \u001b[0;32mexcept\u001b[0m \u001b[0;34m(\u001b[0m\u001b[0mTypeError\u001b[0m\u001b[0;34m,\u001b[0m \u001b[0mNotImplementedError\u001b[0m\u001b[0;34m)\u001b[0m\u001b[0;34m:\u001b[0m\u001b[0;34m\u001b[0m\u001b[0;34m\u001b[0m\u001b[0m\n\u001b[1;32m    429\u001b[0m                 \u001b[0;32mif\u001b[0m \u001b[0;32mnot\u001b[0m \u001b[0mignore_failures\u001b[0m\u001b[0;34m:\u001b[0m\u001b[0;34m\u001b[0m\u001b[0;34m\u001b[0m\u001b[0m\n",
      "\u001b[0;32m~/opt/anaconda3/lib/python3.8/site-packages/pandas/core/internals/blocks.py\u001b[0m in \u001b[0;36mastype\u001b[0;34m(self, dtype, copy, errors)\u001b[0m\n\u001b[1;32m    671\u001b[0m             \u001b[0mvals1d\u001b[0m \u001b[0;34m=\u001b[0m \u001b[0mvalues\u001b[0m\u001b[0;34m.\u001b[0m\u001b[0mravel\u001b[0m\u001b[0;34m(\u001b[0m\u001b[0;34m)\u001b[0m\u001b[0;34m\u001b[0m\u001b[0;34m\u001b[0m\u001b[0m\n\u001b[1;32m    672\u001b[0m             \u001b[0;32mtry\u001b[0m\u001b[0;34m:\u001b[0m\u001b[0;34m\u001b[0m\u001b[0;34m\u001b[0m\u001b[0m\n\u001b[0;32m--> 673\u001b[0;31m                 \u001b[0mvalues\u001b[0m \u001b[0;34m=\u001b[0m \u001b[0mastype_nansafe\u001b[0m\u001b[0;34m(\u001b[0m\u001b[0mvals1d\u001b[0m\u001b[0;34m,\u001b[0m \u001b[0mdtype\u001b[0m\u001b[0;34m,\u001b[0m \u001b[0mcopy\u001b[0m\u001b[0;34m=\u001b[0m\u001b[0;32mTrue\u001b[0m\u001b[0;34m)\u001b[0m\u001b[0;34m\u001b[0m\u001b[0;34m\u001b[0m\u001b[0m\n\u001b[0m\u001b[1;32m    674\u001b[0m             \u001b[0;32mexcept\u001b[0m \u001b[0;34m(\u001b[0m\u001b[0mValueError\u001b[0m\u001b[0;34m,\u001b[0m \u001b[0mTypeError\u001b[0m\u001b[0;34m)\u001b[0m\u001b[0;34m:\u001b[0m\u001b[0;34m\u001b[0m\u001b[0;34m\u001b[0m\u001b[0m\n\u001b[1;32m    675\u001b[0m                 \u001b[0;31m# e.g. astype_nansafe can fail on object-dtype of strings\u001b[0m\u001b[0;34m\u001b[0m\u001b[0;34m\u001b[0m\u001b[0;34m\u001b[0m\u001b[0m\n",
      "\u001b[0;32m~/opt/anaconda3/lib/python3.8/site-packages/pandas/core/dtypes/cast.py\u001b[0m in \u001b[0;36mastype_nansafe\u001b[0;34m(arr, dtype, copy, skipna)\u001b[0m\n\u001b[1;32m   1095\u001b[0m     \u001b[0;32mif\u001b[0m \u001b[0mcopy\u001b[0m \u001b[0;32mor\u001b[0m \u001b[0mis_object_dtype\u001b[0m\u001b[0;34m(\u001b[0m\u001b[0marr\u001b[0m\u001b[0;34m)\u001b[0m \u001b[0;32mor\u001b[0m \u001b[0mis_object_dtype\u001b[0m\u001b[0;34m(\u001b[0m\u001b[0mdtype\u001b[0m\u001b[0;34m)\u001b[0m\u001b[0;34m:\u001b[0m\u001b[0;34m\u001b[0m\u001b[0;34m\u001b[0m\u001b[0m\n\u001b[1;32m   1096\u001b[0m         \u001b[0;31m# Explicit copy, or required since NumPy can't view from / to object.\u001b[0m\u001b[0;34m\u001b[0m\u001b[0;34m\u001b[0m\u001b[0;34m\u001b[0m\u001b[0m\n\u001b[0;32m-> 1097\u001b[0;31m         \u001b[0;32mreturn\u001b[0m \u001b[0marr\u001b[0m\u001b[0;34m.\u001b[0m\u001b[0mastype\u001b[0m\u001b[0;34m(\u001b[0m\u001b[0mdtype\u001b[0m\u001b[0;34m,\u001b[0m \u001b[0mcopy\u001b[0m\u001b[0;34m=\u001b[0m\u001b[0;32mTrue\u001b[0m\u001b[0;34m)\u001b[0m\u001b[0;34m\u001b[0m\u001b[0;34m\u001b[0m\u001b[0m\n\u001b[0m\u001b[1;32m   1098\u001b[0m \u001b[0;34m\u001b[0m\u001b[0m\n\u001b[1;32m   1099\u001b[0m     \u001b[0;32mreturn\u001b[0m \u001b[0marr\u001b[0m\u001b[0;34m.\u001b[0m\u001b[0mview\u001b[0m\u001b[0;34m(\u001b[0m\u001b[0mdtype\u001b[0m\u001b[0;34m)\u001b[0m\u001b[0;34m\u001b[0m\u001b[0;34m\u001b[0m\u001b[0m\n",
      "\u001b[0;31mValueError\u001b[0m: could not convert string to float: '83.7%'"
     ]
    }
   ],
   "source": [
    "loans_2007['revol_util as percentage'] = loans_2007['revol_util'].astype('float64')"
   ]
  },
  {
   "cell_type": "code",
   "execution_count": 16,
   "metadata": {},
   "outputs": [
    {
     "data": {
      "text/plain": [
       "0        83.7%\n",
       "1         9.4%\n",
       "2        98.5%\n",
       "3          21%\n",
       "4        53.9%\n",
       "         ...  \n",
       "42533      NaN\n",
       "42534      NaN\n",
       "42535      NaN\n",
       "42536      NaN\n",
       "42537      NaN\n",
       "Name: revol_util, Length: 42538, dtype: object"
      ]
     },
     "execution_count": 16,
     "metadata": {},
     "output_type": "execute_result"
    }
   ],
   "source": [
    "loans_2007['revol_util']"
   ]
  },
  {
   "cell_type": "code",
   "execution_count": 17,
   "metadata": {},
   "outputs": [],
   "source": [
    "loans_2007['revol_util_temp'] = [str(i).replace('%', '') for i in loans_2007['revol_util']]\n",
    "loans_2007['revol_util as percentage'] = loans_2007['revol_util_temp'].astype('float64')\n",
    "loans_2007.drop('revol_util_temp', axis=1, inplace=True)"
   ]
  },
  {
   "cell_type": "markdown",
   "metadata": {
    "colab_type": "text",
    "id": "rgXCI2rRxeFF"
   },
   "source": [
    "https://pandas.pydata.org/pandas-docs/stable/reference/api/pandas.Series.str.replace.html"
   ]
  },
  {
   "cell_type": "code",
   "execution_count": 18,
   "metadata": {
    "colab": {},
    "colab_type": "code",
    "id": "m2uIxkj-xeFG"
   },
   "outputs": [],
   "source": [
    "# or you can do the following\n",
    "loans_2007['revol_util as percentage'] = loans_2007['revol_util'].str.replace('%','').astype('float64')"
   ]
  },
  {
   "cell_type": "code",
   "execution_count": 19,
   "metadata": {
    "colab": {},
    "colab_type": "code",
    "id": "uRqCjrV1xeFH",
    "outputId": "0161d5d1-f2bb-41cf-f3f7-3cf97e857cc7"
   },
   "outputs": [
    {
     "data": {
      "text/plain": [
       "0    83.7\n",
       "1     9.4\n",
       "2    98.5\n",
       "3    21.0\n",
       "4    53.9\n",
       "Name: revol_util as percentage, dtype: float64"
      ]
     },
     "execution_count": 19,
     "metadata": {},
     "output_type": "execute_result"
    }
   ],
   "source": [
    "loans_2007['revol_util as percentage'][0:5]"
   ]
  },
  {
   "cell_type": "code",
   "execution_count": 21,
   "metadata": {},
   "outputs": [],
   "source": [
    "# loans_2007['revol_util as percentage'].hist()"
   ]
  },
  {
   "cell_type": "code",
   "execution_count": 22,
   "metadata": {
    "colab": {},
    "colab_type": "code",
    "id": "XJXR4Wv5xeFI"
   },
   "outputs": [],
   "source": [
    "series_of_type_per_column = loans_2007.dtypes\n"
   ]
  },
  {
   "cell_type": "code",
   "execution_count": 23,
   "metadata": {
    "colab": {},
    "colab_type": "code",
    "id": "xUsWCziYxeFJ",
    "outputId": "831453e3-737f-4ace-a555-16b323c5b8cf"
   },
   "outputs": [
    {
     "name": "stdout",
     "output_type": "stream",
     "text": [
      "id has 3 unique entries\n",
      "term has 2 unique entries\n",
      "int_rate has 394 unique entries\n",
      "sub_grade has 35 unique entries\n",
      "emp_title has 30658 unique entries\n",
      "emp_length has 11 unique entries\n",
      "verification_status has 3 unique entries\n",
      "issue_d has 55 unique entries\n",
      "loan_status has 4 unique entries\n",
      "pymnt_plan has 1 unique entries\n",
      "desc has 28963 unique entries\n",
      "purpose has 14 unique entries\n",
      "title has 21264 unique entries\n",
      "zip_code has 837 unique entries\n",
      "addr_state has 50 unique entries\n",
      "earliest_cr_line has 530 unique entries\n",
      "revol_util has 1119 unique entries\n",
      "initial_list_status has 1 unique entries\n",
      "last_pymnt_d has 112 unique entries\n",
      "next_pymnt_d has 98 unique entries\n",
      "last_credit_pull_d has 138 unique entries\n",
      "application_type has 1 unique entries\n",
      "hardship_flag has 1 unique entries\n",
      "disbursement_method has 1 unique entries\n",
      "debt_settlement_flag has 2 unique entries\n",
      "debt_settlement_flag_date has 63 unique entries\n",
      "settlement_status has 3 unique entries\n",
      "settlement_date has 61 unique entries\n"
     ]
    }
   ],
   "source": [
    "for col,col_type in series_of_type_per_column.iteritems():\n",
    "    if(col_type=='object'):\n",
    "        print(col,'has',loans_2007[col].nunique(),'unique entries')"
   ]
  },
  {
   "cell_type": "code",
   "execution_count": 24,
   "metadata": {
    "colab": {},
    "colab_type": "code",
    "id": "REaAlH5zxeFL",
    "outputId": "7b0c96a9-fe5f-4d91-8ae7-9f31606e58ad"
   },
   "outputs": [
    {
     "name": "stdout",
     "output_type": "stream",
     "text": [
      "\n",
      " id has 3 unique entries; first  5 are\n",
      "0    NaN\n",
      "1    NaN\n",
      "2    NaN\n",
      "3    NaN\n",
      "4    NaN\n",
      "Name: id, dtype: object\n",
      "\n",
      " term has 2 unique entries; first  5 are\n",
      "0     36 months\n",
      "1     60 months\n",
      "2     36 months\n",
      "3     36 months\n",
      "4     60 months\n",
      "Name: term, dtype: object\n",
      "\n",
      " int_rate has 394 unique entries; first  5 are\n",
      "0     10.65%\n",
      "1     15.27%\n",
      "2     15.96%\n",
      "3     13.49%\n",
      "4     12.69%\n",
      "Name: int_rate, dtype: object\n",
      "\n",
      " sub_grade has 35 unique entries; first  5 are\n",
      "0    B2\n",
      "1    C4\n",
      "2    C5\n",
      "3    C1\n",
      "4    B5\n",
      "Name: sub_grade, dtype: object\n",
      "\n",
      " emp_title has 30658 unique entries; first  5 are\n",
      "0                         NaN\n",
      "1                       Ryder\n",
      "2                         NaN\n",
      "3         AIR RESOURCES BOARD\n",
      "4    University Medical Group\n",
      "Name: emp_title, dtype: object\n",
      "\n",
      " emp_length has 11 unique entries; first  5 are\n",
      "0    10+ years\n",
      "1     < 1 year\n",
      "2    10+ years\n",
      "3    10+ years\n",
      "4       1 year\n",
      "Name: emp_length, dtype: object\n",
      "\n",
      " verification_status has 3 unique entries; first  5 are\n",
      "0           Verified\n",
      "1    Source Verified\n",
      "2       Not Verified\n",
      "3    Source Verified\n",
      "4    Source Verified\n",
      "Name: verification_status, dtype: object\n",
      "\n",
      " issue_d has 55 unique entries; first  5 are\n",
      "0    Dec-2011\n",
      "1    Dec-2011\n",
      "2    Dec-2011\n",
      "3    Dec-2011\n",
      "4    Dec-2011\n",
      "Name: issue_d, dtype: object\n",
      "\n",
      " loan_status has 4 unique entries; first  5 are\n",
      "0     Fully Paid\n",
      "1    Charged Off\n",
      "2     Fully Paid\n",
      "3     Fully Paid\n",
      "4     Fully Paid\n",
      "Name: loan_status, dtype: object\n",
      "\n",
      " pymnt_plan has 1 unique entries; first  5 are\n",
      "0    n\n",
      "1    n\n",
      "2    n\n",
      "3    n\n",
      "4    n\n",
      "Name: pymnt_plan, dtype: object\n",
      "\n",
      " desc has 28963 unique entries; first  5 are\n",
      "0      Borrower added on 12/22/11 > I need to upgra...\n",
      "1      Borrower added on 12/22/11 > I plan to use t...\n",
      "2                                                  NaN\n",
      "3      Borrower added on 12/21/11 > to pay for prop...\n",
      "4      Borrower added on 12/21/11 > I plan on combi...\n",
      "Name: desc, dtype: object\n",
      "\n",
      " purpose has 14 unique entries; first  5 are\n",
      "0       credit_card\n",
      "1               car\n",
      "2    small_business\n",
      "3             other\n",
      "4             other\n",
      "Name: purpose, dtype: object\n",
      "\n",
      " title has 21264 unique entries; first  5 are\n",
      "0                Computer\n",
      "1                    bike\n",
      "2    real estate business\n",
      "3                personel\n",
      "4                Personal\n",
      "Name: title, dtype: object\n",
      "\n",
      " zip_code has 837 unique entries; first  5 are\n",
      "0    860xx\n",
      "1    309xx\n",
      "2    606xx\n",
      "3    917xx\n",
      "4    972xx\n",
      "Name: zip_code, dtype: object\n",
      "\n",
      " addr_state has 50 unique entries; first  5 are\n",
      "0    AZ\n",
      "1    GA\n",
      "2    IL\n",
      "3    CA\n",
      "4    OR\n",
      "Name: addr_state, dtype: object\n",
      "\n",
      " earliest_cr_line has 530 unique entries; first  5 are\n",
      "0    Jan-1985\n",
      "1    Apr-1999\n",
      "2    Nov-2001\n",
      "3    Feb-1996\n",
      "4    Jan-1996\n",
      "Name: earliest_cr_line, dtype: object\n",
      "\n",
      " revol_util has 1119 unique entries; first  5 are\n",
      "0    83.7%\n",
      "1     9.4%\n",
      "2    98.5%\n",
      "3      21%\n",
      "4    53.9%\n",
      "Name: revol_util, dtype: object\n",
      "\n",
      " initial_list_status has 1 unique entries; first  5 are\n",
      "0    f\n",
      "1    f\n",
      "2    f\n",
      "3    f\n",
      "4    f\n",
      "Name: initial_list_status, dtype: object\n",
      "\n",
      " last_pymnt_d has 112 unique entries; first  5 are\n",
      "0    Jan-2015\n",
      "1    Apr-2013\n",
      "2    Jun-2014\n",
      "3    Jan-2015\n",
      "4    Jan-2017\n",
      "Name: last_pymnt_d, dtype: object\n",
      "\n",
      " next_pymnt_d has 98 unique entries; first  5 are\n",
      "0    NaN\n",
      "1    NaN\n",
      "2    NaN\n",
      "3    NaN\n",
      "4    NaN\n",
      "Name: next_pymnt_d, dtype: object\n",
      "\n",
      " last_credit_pull_d has 138 unique entries; first  5 are\n",
      "0    Dec-2018\n",
      "1    Oct-2016\n",
      "2    Jun-2017\n",
      "3    Apr-2016\n",
      "4    Apr-2018\n",
      "Name: last_credit_pull_d, dtype: object\n",
      "\n",
      " application_type has 1 unique entries; first  5 are\n",
      "0    Individual\n",
      "1    Individual\n",
      "2    Individual\n",
      "3    Individual\n",
      "4    Individual\n",
      "Name: application_type, dtype: object\n",
      "\n",
      " hardship_flag has 1 unique entries; first  5 are\n",
      "0    N\n",
      "1    N\n",
      "2    N\n",
      "3    N\n",
      "4    N\n",
      "Name: hardship_flag, dtype: object\n",
      "\n",
      " disbursement_method has 1 unique entries; first  5 are\n",
      "0    Cash\n",
      "1    Cash\n",
      "2    Cash\n",
      "3    Cash\n",
      "4    Cash\n",
      "Name: disbursement_method, dtype: object\n",
      "\n",
      " debt_settlement_flag has 2 unique entries; first  5 are\n",
      "0    N\n",
      "1    N\n",
      "2    N\n",
      "3    N\n",
      "4    N\n",
      "Name: debt_settlement_flag, dtype: object\n",
      "\n",
      " debt_settlement_flag_date has 63 unique entries; first  5 are\n",
      "0    NaN\n",
      "1    NaN\n",
      "2    NaN\n",
      "3    NaN\n",
      "4    NaN\n",
      "Name: debt_settlement_flag_date, dtype: object\n",
      "\n",
      " settlement_status has 3 unique entries; first  5 are\n",
      "0    NaN\n",
      "1    NaN\n",
      "2    NaN\n",
      "3    NaN\n",
      "4    NaN\n",
      "Name: settlement_status, dtype: object\n",
      "\n",
      " settlement_date has 61 unique entries; first  5 are\n",
      "0    NaN\n",
      "1    NaN\n",
      "2    NaN\n",
      "3    NaN\n",
      "4    NaN\n",
      "Name: settlement_date, dtype: object\n"
     ]
    }
   ],
   "source": [
    "first_n_entries=5\n",
    "for col,col_type in loans_2007.dtypes.iteritems():\n",
    "    if(col_type=='object'):\n",
    "        print('\\n',col,'has',loans_2007[col].nunique(),'unique entries; first ',first_n_entries,'are')\n",
    "        print(loans_2007[col][0:first_n_entries])"
   ]
  },
  {
   "cell_type": "code",
   "execution_count": null,
   "metadata": {
    "colab": {},
    "colab_type": "code",
    "id": "yo4TNIxqxeFM"
   },
   "outputs": [],
   "source": []
  }
 ],
 "metadata": {
  "colab": {
   "name": "loans_4_data_type_conversion.ipynb",
   "provenance": []
  },
  "kernelspec": {
   "display_name": "Python 3",
   "language": "python",
   "name": "python3"
  },
  "language_info": {
   "codemirror_mode": {
    "name": "ipython",
    "version": 3
   },
   "file_extension": ".py",
   "mimetype": "text/x-python",
   "name": "python",
   "nbconvert_exporter": "python",
   "pygments_lexer": "ipython3",
   "version": "3.8.8"
  },
  "toc": {
   "base_numbering": 1,
   "nav_menu": {},
   "number_sections": true,
   "sideBar": true,
   "skip_h1_title": false,
   "title_cell": "Table of Contents",
   "title_sidebar": "Contents",
   "toc_cell": false,
   "toc_position": {},
   "toc_section_display": true,
   "toc_window_display": false
  },
  "varInspector": {
   "cols": {
    "lenName": 16,
    "lenType": 16,
    "lenVar": 40
   },
   "kernels_config": {
    "python": {
     "delete_cmd_postfix": "",
     "delete_cmd_prefix": "del ",
     "library": "var_list.py",
     "varRefreshCmd": "print(var_dic_list())"
    },
    "r": {
     "delete_cmd_postfix": ") ",
     "delete_cmd_prefix": "rm(",
     "library": "var_list.r",
     "varRefreshCmd": "cat(var_dic_list()) "
    }
   },
   "types_to_exclude": [
    "module",
    "function",
    "builtin_function_or_method",
    "instance",
    "_Feature"
   ],
   "window_display": false
  }
 },
 "nbformat": 4,
 "nbformat_minor": 1
}
