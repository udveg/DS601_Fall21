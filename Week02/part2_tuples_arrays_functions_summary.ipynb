{
 "cells": [
  {
   "cell_type": "markdown",
   "metadata": {
    "id": "OgkUzqOH2sGN"
   },
   "source": [
    "## Tuples\n",
    "\n",
    "Value pairs"
   ]
  },
  {
   "cell_type": "code",
   "execution_count": 1,
   "metadata": {
    "colab": {
     "base_uri": "https://localhost:8080/"
    },
    "id": "i6RyLVcg2ylx",
    "outputId": "829d25db-f4f1-4823-a3db-cf0610302384"
   },
   "outputs": [
    {
     "data": {
      "text/plain": [
       "(True, 'hello')"
      ]
     },
     "execution_count": 1,
     "metadata": {},
     "output_type": "execute_result"
    }
   ],
   "source": [
    "(True, 'hello')"
   ]
  },
  {
   "cell_type": "code",
   "execution_count": 2,
   "metadata": {
    "colab": {
     "base_uri": "https://localhost:8080/"
    },
    "id": "5UR1HSdL3I6D",
    "outputId": "4e691b87-6da8-4177-ee45-77ffe1439bc6"
   },
   "outputs": [
    {
     "data": {
      "text/plain": [
       "(1, 10)"
      ]
     },
     "execution_count": 2,
     "metadata": {},
     "output_type": "execute_result"
    }
   ],
   "source": [
    "1, 10"
   ]
  },
  {
   "cell_type": "code",
   "execution_count": 3,
   "metadata": {
    "colab": {
     "base_uri": "https://localhost:8080/"
    },
    "id": "FszgE8Y53UQ0",
    "outputId": "65f404a4-2063-4170-9963-4e047d110e96"
   },
   "outputs": [
    {
     "name": "stdout",
     "output_type": "stream",
     "text": [
      "20 30\n"
     ]
    }
   ],
   "source": [
    "x, y = 20, 30\n",
    "print (x, y)"
   ]
  },
  {
   "cell_type": "code",
   "execution_count": 6,
   "metadata": {
    "colab": {
     "base_uri": "https://localhost:8080/"
    },
    "id": "lbLETQo93Zfo",
    "outputId": "34fe58ce-d424-4748-c431-75a4b635224b"
   },
   "outputs": [
    {
     "name": "stdout",
     "output_type": "stream",
     "text": [
      "score:  92\n",
      "letter grade A\n"
     ]
    }
   ],
   "source": [
    "def get_score(hw, midterm, final):\n",
    "  # ..\n",
    "  return (92, 'A')\n",
    "\n",
    "score, letter_grade = get_score(100, 80, 90)\n",
    "\n",
    "print ('score: ', score)\n",
    "print ('letter grade', letter_grade)"
   ]
  },
  {
   "cell_type": "code",
   "execution_count": null,
   "metadata": {},
   "outputs": [],
   "source": []
  },
  {
   "cell_type": "markdown",
   "metadata": {
    "id": "cC10Vy0Q4JOD"
   },
   "source": [
    "## Lists"
   ]
  },
  {
   "cell_type": "markdown",
   "metadata": {
    "id": "U6ZTmGGd4QBd"
   },
   "source": [
    "Collection of stuff / mutable"
   ]
  },
  {
   "cell_type": "code",
   "execution_count": 8,
   "metadata": {
    "colab": {
     "base_uri": "https://localhost:8080/"
    },
    "id": "Gc3D-LrC4K9h",
    "outputId": "ae2de954-33b0-410e-8f85-c8e4f3fae33f"
   },
   "outputs": [
    {
     "data": {
      "text/plain": [
       "[1, 2, 3]"
      ]
     },
     "execution_count": 8,
     "metadata": {},
     "output_type": "execute_result"
    }
   ],
   "source": [
    "[1,2,3]"
   ]
  },
  {
   "cell_type": "code",
   "execution_count": 9,
   "metadata": {
    "colab": {
     "base_uri": "https://localhost:8080/"
    },
    "id": "yn37esFj5G7X",
    "outputId": "294b13fd-99d0-4ee5-a55f-b58b0d6d783d"
   },
   "outputs": [
    {
     "data": {
      "text/plain": [
       "[1, 'joe', None]"
      ]
     },
     "execution_count": 9,
     "metadata": {},
     "output_type": "execute_result"
    }
   ],
   "source": [
    "arr = [1, 'joe', None]\n",
    "arr\n",
    "\n",
    "# arr.append('jack')"
   ]
  },
  {
   "cell_type": "code",
   "execution_count": 10,
   "metadata": {},
   "outputs": [
    {
     "data": {
      "text/plain": [
       "[1, 'joe', None]"
      ]
     },
     "execution_count": 10,
     "metadata": {},
     "output_type": "execute_result"
    }
   ],
   "source": [
    "arr"
   ]
  },
  {
   "cell_type": "code",
   "execution_count": 11,
   "metadata": {
    "colab": {
     "base_uri": "https://localhost:8080/"
    },
    "id": "GKxt9-2d5Wjr",
    "outputId": "d9fc2690-7363-4b9b-9622-c0959ba1a816"
   },
   "outputs": [
    {
     "name": "stdout",
     "output_type": "stream",
     "text": [
      "1 : <class 'int'>\n",
      "joe : <class 'str'>\n",
      "None : <class 'NoneType'>\n"
     ]
    }
   ],
   "source": [
    "for i in arr:\n",
    "    print(i, ':', type(i))"
   ]
  },
  {
   "cell_type": "code",
   "execution_count": 12,
   "metadata": {},
   "outputs": [],
   "source": [
    "state_names = [\"Alaska\", \"Alabama\", \"Arkansas\", \"American Samoa\", \"Arizona\", \"California\", \"Colorado\", \"Connecticut\", \"District \", \"of Columbia\", \"Delaware\", \"Florida\", \"Georgia\", \"Guam\", \"Hawaii\", \"Iowa\", \"Idaho\", \"Illinois\", \"Indiana\", \"Kansas\", \"Kentucky\", \"Louisiana\", \"Massachusetts\", \"Maryland\", \"Maine\", \"Michigan\", \"Minnesota\", \"Missouri\", \"Mississippi\", \"Montana\", \"North Carolina\", \"North Dakota\", \"Nebraska\", \"New Hampshire\", \"New Jersey\", \"New Mexico\", \"Nevada\", \"New York\", \"Ohio\", \"Oklahoma\", \"Oregon\", \"Pennsylvania\", \"Puerto Rico\", \"Rhode Island\", \"South Carolina\", \"South Dakota\", \"Tennessee\", \"Texas\", \"Utah\", \"Virginia\", \"Virgin Islands\", \"Vermont\", \"Washington\", \"Wisconsin\", \"West Virginia\", \"Wyoming\"]"
   ]
  },
  {
   "cell_type": "code",
   "execution_count": 13,
   "metadata": {},
   "outputs": [
    {
     "data": {
      "text/plain": [
       "'Alaska'"
      ]
     },
     "execution_count": 13,
     "metadata": {},
     "output_type": "execute_result"
    }
   ],
   "source": [
    "state_names[0]"
   ]
  },
  {
   "cell_type": "code",
   "execution_count": 16,
   "metadata": {},
   "outputs": [],
   "source": [
    "number = list(range(100))\n",
    "# number"
   ]
  },
  {
   "cell_type": "code",
   "execution_count": 17,
   "metadata": {},
   "outputs": [
    {
     "data": {
      "text/plain": [
       "[0, 1, 2, 3, 4, 5, 6, 7, 8, 9]"
      ]
     },
     "execution_count": 17,
     "metadata": {},
     "output_type": "execute_result"
    }
   ],
   "source": [
    "number[0:10]"
   ]
  },
  {
   "cell_type": "code",
   "execution_count": 18,
   "metadata": {},
   "outputs": [
    {
     "data": {
      "text/plain": [
       "[0, 1, 2, 3, 4, 5, 6, 7, 8, 9]"
      ]
     },
     "execution_count": 18,
     "metadata": {},
     "output_type": "execute_result"
    }
   ],
   "source": [
    "number[ :10]"
   ]
  },
  {
   "cell_type": "code",
   "execution_count": 19,
   "metadata": {},
   "outputs": [
    {
     "data": {
      "text/plain": [
       "[10, 11, 12, 13, 14]"
      ]
     },
     "execution_count": 19,
     "metadata": {},
     "output_type": "execute_result"
    }
   ],
   "source": [
    "number[10: 15]"
   ]
  },
  {
   "cell_type": "code",
   "execution_count": 20,
   "metadata": {},
   "outputs": [
    {
     "data": {
      "text/plain": [
       "[10,\n",
       " 12,\n",
       " 14,\n",
       " 16,\n",
       " 18,\n",
       " 20,\n",
       " 22,\n",
       " 24,\n",
       " 26,\n",
       " 28,\n",
       " 30,\n",
       " 32,\n",
       " 34,\n",
       " 36,\n",
       " 38,\n",
       " 40,\n",
       " 42,\n",
       " 44,\n",
       " 46,\n",
       " 48,\n",
       " 50,\n",
       " 52,\n",
       " 54,\n",
       " 56,\n",
       " 58,\n",
       " 60,\n",
       " 62,\n",
       " 64,\n",
       " 66,\n",
       " 68]"
      ]
     },
     "execution_count": 20,
     "metadata": {},
     "output_type": "execute_result"
    }
   ],
   "source": [
    "number[10: 70: 2]"
   ]
  },
  {
   "cell_type": "code",
   "execution_count": 21,
   "metadata": {},
   "outputs": [
    {
     "data": {
      "text/plain": [
       "[90, 91, 92, 93, 94, 95, 96, 97, 98, 99]"
      ]
     },
     "execution_count": 21,
     "metadata": {},
     "output_type": "execute_result"
    }
   ],
   "source": [
    "number[-10:]"
   ]
  },
  {
   "cell_type": "code",
   "execution_count": 24,
   "metadata": {},
   "outputs": [
    {
     "data": {
      "text/plain": [
       "[9, 8, 7, 6, 5, 4, 3, 2, 1, 0]"
      ]
     },
     "execution_count": 24,
     "metadata": {},
     "output_type": "execute_result"
    }
   ],
   "source": [
    "number[::-1][-10:]"
   ]
  },
  {
   "cell_type": "code",
   "execution_count": 25,
   "metadata": {},
   "outputs": [
    {
     "data": {
      "text/plain": [
       "'20210203'"
      ]
     },
     "execution_count": 25,
     "metadata": {},
     "output_type": "execute_result"
    }
   ],
   "source": [
    "rec = '20210203MEHMET      SARICA        '\n",
    "\n",
    "rec[:8]"
   ]
  },
  {
   "cell_type": "code",
   "execution_count": 26,
   "metadata": {},
   "outputs": [
    {
     "data": {
      "text/plain": [
       "'MEHMET '"
      ]
     },
     "execution_count": 26,
     "metadata": {},
     "output_type": "execute_result"
    }
   ],
   "source": [
    "rec[8:15]"
   ]
  },
  {
   "cell_type": "markdown",
   "metadata": {
    "id": "D7S34uocFi44"
   },
   "source": [
    "## Functions\n",
    "\n",
    "can be defined anywhere"
   ]
  },
  {
   "cell_type": "code",
   "execution_count": 30,
   "metadata": {
    "colab": {
     "base_uri": "https://localhost:8080/"
    },
    "id": "xM0lGGZHKvag",
    "outputId": "486c4d82-7fba-4cfb-9096-c343c5c9a9cc"
   },
   "outputs": [
    {
     "name": "stdout",
     "output_type": "stream",
     "text": [
      "before function definition\n",
      "after function definition\n"
     ]
    }
   ],
   "source": [
    "print ('before function definition')\n",
    "\n",
    "def some_function():\n",
    "    print('in function')\n",
    "\n",
    "# some_function()\n",
    "\n",
    "print ('after function definition')\n"
   ]
  },
  {
   "cell_type": "code",
   "execution_count": 28,
   "metadata": {
    "colab": {
     "base_uri": "https://localhost:8080/"
    },
    "id": "AyDlzrlbLvuG",
    "outputId": "ec122224-4843-4bf4-d5bb-8e181784862e"
   },
   "outputs": [
    {
     "name": "stdout",
     "output_type": "stream",
     "text": [
      "in function\n",
      "in function\n"
     ]
    }
   ],
   "source": [
    "some_function()\n",
    "some_function()"
   ]
  },
  {
   "cell_type": "markdown",
   "metadata": {
    "id": "uMpIMu2DGS0Z"
   },
   "source": [
    "Lexical scoping: \n",
    "\n",
    "variables defined outside are available inside the function but variables defined inside the functions are not available outside."
   ]
  },
  {
   "cell_type": "code",
   "execution_count": 34,
   "metadata": {
    "colab": {
     "base_uri": "https://localhost:8080/"
    },
    "id": "FXri_FpTL9of",
    "outputId": "a8c2dee9-b987-45bd-c545-09ce3512c7e9"
   },
   "outputs": [
    {
     "name": "stdout",
     "output_type": "stream",
     "text": [
      "before function definition 5\n",
      "in function 5\n",
      "after function definition 5\n"
     ]
    }
   ],
   "source": [
    "x = 5\n",
    "\n",
    "print ('before function definition', x)\n",
    "\n",
    "def some_function():\n",
    "    print('in function', x)\n",
    "\n",
    "some_function()\n",
    "\n",
    "print ('after function definition', x)\n"
   ]
  },
  {
   "cell_type": "code",
   "execution_count": 35,
   "metadata": {
    "colab": {
     "base_uri": "https://localhost:8080/",
     "height": 198
    },
    "id": "TvrgDrn9Q767",
    "outputId": "59452138-b3f4-4598-fd47-d4101427d07a"
   },
   "outputs": [
    {
     "ename": "NameError",
     "evalue": "name 'm' is not defined",
     "output_type": "error",
     "traceback": [
      "\u001b[0;31m---------------------------------------------------------------------------\u001b[0m",
      "\u001b[0;31mNameError\u001b[0m                                 Traceback (most recent call last)",
      "\u001b[0;32m<ipython-input-35-4db436f2cfc7>\u001b[0m in \u001b[0;36m<module>\u001b[0;34m\u001b[0m\n\u001b[1;32m      3\u001b[0m \u001b[0;34m\u001b[0m\u001b[0m\n\u001b[1;32m      4\u001b[0m \u001b[0msome_function\u001b[0m\u001b[0;34m(\u001b[0m\u001b[0;34m)\u001b[0m\u001b[0;34m\u001b[0m\u001b[0;34m\u001b[0m\u001b[0m\n\u001b[0;32m----> 5\u001b[0;31m \u001b[0mprint\u001b[0m\u001b[0;34m(\u001b[0m\u001b[0mm\u001b[0m\u001b[0;34m)\u001b[0m\u001b[0;34m\u001b[0m\u001b[0;34m\u001b[0m\u001b[0m\n\u001b[0m",
      "\u001b[0;31mNameError\u001b[0m: name 'm' is not defined"
     ]
    }
   ],
   "source": [
    "def some_function():\n",
    "    m = 5\n",
    "\n",
    "some_function()\n",
    "print(m)"
   ]
  },
  {
   "cell_type": "code",
   "execution_count": 38,
   "metadata": {},
   "outputs": [],
   "source": [
    "# x = 5\n",
    "\n",
    "# print ('before function definition', x)\n",
    "\n",
    "# def some_function():\n",
    "#     global x\n",
    "#     x = 6\n",
    "#     print('in function', x)\n",
    "\n",
    "# some_function()\n",
    "\n",
    "# print ('after function definition', x)"
   ]
  },
  {
   "cell_type": "code",
   "execution_count": 39,
   "metadata": {
    "colab": {
     "base_uri": "https://localhost:8080/"
    },
    "id": "iAXFpHg2LWiZ",
    "outputId": "86099dab-9f46-409c-88ac-f93d465a2ad4"
   },
   "outputs": [
    {
     "name": "stdout",
     "output_type": "stream",
     "text": [
      "john doe\n"
     ]
    }
   ],
   "source": [
    "# we can pass arguments\n",
    "\n",
    "def print_person(name, lastname):\n",
    "    print(name, lastname)\n",
    "\n",
    "print_person('john', 'doe')"
   ]
  },
  {
   "cell_type": "code",
   "execution_count": 42,
   "metadata": {
    "colab": {
     "base_uri": "https://localhost:8080/"
    },
    "id": "jAQhqrcAR6Kb",
    "outputId": "62ed84ea-abfd-407e-ad3d-fb4109a5c82b"
   },
   "outputs": [
    {
     "name": "stdout",
     "output_type": "stream",
     "text": [
      "john doe is 25 years old!\n",
      "john doe is 40 years old!\n"
     ]
    }
   ],
   "source": [
    "# we can define parameters with default values\n",
    "def print_person(name, lastname, age=25):\n",
    "    print(f'{name} {lastname} is {age} years old!')\n",
    "#     return None\n",
    "\n",
    "print_person('john', 'doe')\n",
    "print_person('john', 'doe', 40)\n"
   ]
  },
  {
   "cell_type": "code",
   "execution_count": 43,
   "metadata": {
    "colab": {
     "base_uri": "https://localhost:8080/"
    },
    "id": "cHh4RRIdVgV7",
    "outputId": "6ff53fe2-7bf2-49a9-8f47-06ee6f220efc"
   },
   "outputs": [
    {
     "data": {
      "text/plain": [
       "41"
      ]
     },
     "execution_count": 43,
     "metadata": {},
     "output_type": "execute_result"
    }
   ],
   "source": [
    "# we can also return values\n",
    "\n",
    "from datetime import datetime\n",
    "\n",
    "def calculate_age(birth_year):\n",
    "    today = datetime.today()\n",
    "    return today.year - birth_year\n",
    "\n",
    "calculate_age(1980)"
   ]
  },
  {
   "cell_type": "code",
   "execution_count": 44,
   "metadata": {
    "colab": {
     "base_uri": "https://localhost:8080/"
    },
    "id": "BgnXXfDsWL2Y",
    "outputId": "d1d87dec-bac0-4005-eff9-7ededc0feadc"
   },
   "outputs": [
    {
     "name": "stdout",
     "output_type": "stream",
     "text": [
      "jack smith is 71 years old!\n"
     ]
    }
   ],
   "source": [
    "age = calculate_age(1950)\n",
    "print_person('jack', 'smith', age)"
   ]
  },
  {
   "cell_type": "code",
   "execution_count": 45,
   "metadata": {
    "colab": {
     "base_uri": "https://localhost:8080/"
    },
    "id": "xnukfb6XFnmH",
    "outputId": "d0d6131f-0210-483b-c0b3-2d408b2199ab"
   },
   "outputs": [
    {
     "name": "stdout",
     "output_type": "stream",
     "text": [
      "hello\n",
      "None\n"
     ]
    }
   ],
   "source": [
    "# if you don't return anything it will implicitly return None\n",
    "\n",
    "def some_function():\n",
    "    print ('hello')\n",
    "\n",
    "value = some_function()\n",
    "print(value)"
   ]
  },
  {
   "cell_type": "markdown",
   "metadata": {
    "id": "vrKQCgKJWj5z"
   },
   "source": [
    "Mutable/Immutable"
   ]
  },
  {
   "cell_type": "code",
   "execution_count": 48,
   "metadata": {
    "colab": {
     "base_uri": "https://localhost:8080/"
    },
    "id": "83dDIGNnKcVS",
    "outputId": "3c4204a3-4ede-49a4-fde8-36ed8495c044"
   },
   "outputs": [
    {
     "name": "stdout",
     "output_type": "stream",
     "text": [
      "in function before changing value 5\n",
      "in function after changing value 6\n",
      "after running function 5\n"
     ]
    }
   ],
   "source": [
    "\n",
    "def some_function(value):\n",
    "    print('in function before changing value', value)\n",
    "    value = 6\n",
    "    print('in function after changing value', value)\n",
    "#     print(locals())\n",
    "\n",
    "\n",
    "\n",
    "x = 5\n",
    "some_function(x)\n",
    "print('after running function', x)"
   ]
  },
  {
   "cell_type": "code",
   "execution_count": 49,
   "metadata": {},
   "outputs": [
    {
     "name": "stdout",
     "output_type": "stream",
     "text": [
      "in function before changing value 5\n",
      "in function after changing value 6\n",
      "after running function 6\n"
     ]
    }
   ],
   "source": [
    "def some_function2(value):\n",
    "    print('in function before changing value', value)\n",
    "    value = 6\n",
    "    print('in function after changing value', value)\n",
    "    return value\n",
    "\n",
    "x = 5\n",
    "x = some_function2(x)\n",
    "print('after running function', x)"
   ]
  },
  {
   "cell_type": "code",
   "execution_count": 51,
   "metadata": {},
   "outputs": [],
   "source": [
    "# arr = [1,2,3]\n",
    "# print(type(arr))\n",
    "\n",
    "# def arr_function(arr):\n",
    "#     arr.append(3)\n",
    "#     arr = 3 \n",
    "\n",
    "# print(arr)\n",
    "\n",
    "# arr = 3\n",
    "# # arr_function(arr)\n",
    "# print(type(arr))\n",
    "# print(arr)"
   ]
  },
  {
   "cell_type": "code",
   "execution_count": null,
   "metadata": {
    "colab": {
     "base_uri": "https://localhost:8080/"
    },
    "id": "Y6ioKB23KfvR",
    "outputId": "20152764-2967-4c0e-9ad2-6775b4abcec0"
   },
   "outputs": [],
   "source": [
    "# x = 'test'\n",
    "# some_function(x)\n",
    "# print('after running function', x)"
   ]
  },
  {
   "cell_type": "code",
   "execution_count": null,
   "metadata": {},
   "outputs": [],
   "source": [
    "# def sum(number1, number2, number3):\n",
    "#     return number1 + number2 + number3\n",
    "\n",
    "# sum(1,2,3)\n",
    "\n",
    "# del sum"
   ]
  },
  {
   "cell_type": "code",
   "execution_count": 53,
   "metadata": {
    "colab": {
     "base_uri": "https://localhost:8080/"
    },
    "id": "4ftCXinZXBSv",
    "outputId": "6d46db91-8f2a-4b59-c597-4cc20e231201"
   },
   "outputs": [
    {
     "name": "stdout",
     "output_type": "stream",
     "text": [
      "before function definition [1, 2, 3]\n",
      "in function ['a', 2, 3]\n",
      "after function definition ['a', 2, 3]\n"
     ]
    }
   ],
   "source": [
    "x = [1,2,3]\n",
    "\n",
    "print ('before function definition', x)\n",
    "\n",
    "def some_function(arr):\n",
    "    arr[0] = 'a'\n",
    "    print('in function', arr)\n",
    "\n",
    "some_function(x)\n",
    "\n",
    "print ('after function definition', x)\n"
   ]
  },
  {
   "cell_type": "code",
   "execution_count": 54,
   "metadata": {
    "colab": {
     "base_uri": "https://localhost:8080/"
    },
    "id": "qSe-oqb5XSpx",
    "outputId": "b42eef69-0018-4cb3-ac84-18c8715ce2ae"
   },
   "outputs": [
    {
     "name": "stdout",
     "output_type": "stream",
     "text": [
      "before function definition {'a': 1, 'b': 2}\n",
      "in function {'a': 1, 'b': 2, 0: 'a'}\n",
      "after function definition {'a': 1, 'b': 2, 0: 'a'}\n"
     ]
    }
   ],
   "source": [
    "x = {\n",
    "    'a': 1,\n",
    "    'b': 2\n",
    "}\n",
    "print ('before function definition', x)\n",
    "\n",
    "def some_function(arr):\n",
    "    arr[0] = 'a'\n",
    "    print('in function', arr)\n",
    "\n",
    "some_function(x)\n",
    "\n",
    "print ('after function definition', x)\n"
   ]
  },
  {
   "cell_type": "markdown",
   "metadata": {
    "id": "SC3ymn6IYoHm"
   },
   "source": [
    "Let's write a function to calculate student homework grades. \n",
    "\n",
    "Code below is fine but anything more complicated than this may lead to `figure 1`"
   ]
  },
  {
   "cell_type": "code",
   "execution_count": 55,
   "metadata": {
    "colab": {
     "base_uri": "https://localhost:8080/"
    },
    "id": "A5kqM4EcaD7l",
    "outputId": "fc2166d4-8442-4850-c3f2-6bd390243f6c"
   },
   "outputs": [
    {
     "name": "stdout",
     "output_type": "stream",
     "text": [
      "Your final grade is 85.71428571428571\n"
     ]
    }
   ],
   "source": [
    "grades = [100, 90, 70, 90, 80, 80, 90]\n",
    "final_grade = sum(grades) / len(grades)\n",
    "print (f'Your final grade is {final_grade}')"
   ]
  },
  {
   "cell_type": "markdown",
   "metadata": {
    "id": "G-RmjXiEahGU"
   },
   "source": [
    "we can change this as the following"
   ]
  },
  {
   "cell_type": "code",
   "execution_count": 56,
   "metadata": {
    "colab": {
     "base_uri": "https://localhost:8080/"
    },
    "id": "afgEKa0BYMQz",
    "outputId": "2cff90d2-f13e-42a2-f1ab-a0240e7df7d0"
   },
   "outputs": [
    {
     "data": {
      "text/plain": [
       "85.71428571428571"
      ]
     },
     "execution_count": 56,
     "metadata": {},
     "output_type": "execute_result"
    }
   ],
   "source": [
    "def get_average(arr):  # generic names because I can use it on any arrays to take the average\n",
    "    return sum(arr) / len(arr)\n",
    "\n",
    "def get_final_homework_score(arr):\n",
    "#     return 100\n",
    "    return get_average(arr)\n",
    "\n",
    "get_final_homework_score([100, 90, 70, 90, 80, 80, 90])"
   ]
  },
  {
   "cell_type": "code",
   "execution_count": null,
   "metadata": {},
   "outputs": [],
   "source": [
    "get_final_homework_score([10,5])"
   ]
  },
  {
   "cell_type": "markdown",
   "metadata": {
    "id": "Pq7FRU-XbNkY"
   },
   "source": [
    "Each function should only perform the functionality it claims that it does. It should be truthful.\n",
    "\n"
   ]
  },
  {
   "cell_type": "code",
   "execution_count": null,
   "metadata": {
    "id": "rI0StyE8boiX"
   },
   "outputs": [],
   "source": [
    "# Example:\n",
    "\n",
    "def load_data(url):\n",
    "    # loads only data\n",
    "    data = None\n",
    "    return data\n",
    "\n",
    "def clean_data(data):\n",
    "    # receives the data\n",
    "    return data # this is cleaned data\n",
    "\n",
    "def get_clean_data(url):\n",
    "    data = load_data(url)\n",
    "    data = clean_data(data)\n",
    "    return data"
   ]
  },
  {
   "cell_type": "markdown",
   "metadata": {
    "id": "q01uKDtlbHzS"
   },
   "source": [
    "Let's continue to our grade calculation. I wanna change how I calculate the results. \n",
    "\n",
    "Now I wanna take the average of first three scores.\n"
   ]
  },
  {
   "cell_type": "code",
   "execution_count": 57,
   "metadata": {
    "colab": {
     "base_uri": "https://localhost:8080/"
    },
    "id": "VUMXrknVbDU6",
    "outputId": "e1219efc-c079-4112-9901-e7b05c191818"
   },
   "outputs": [
    {
     "name": "stdout",
     "output_type": "stream",
     "text": [
      "Final hw score is  100.0\n"
     ]
    }
   ],
   "source": [
    "grades = [100, 100, 100, 90, 80, 80, 90]\n",
    "\n",
    "# the following will work but it's wrong. why??\n",
    "first_three = grades[:3]\n",
    "# print(first_three)\n",
    "final_grade = get_final_homework_score(first_three)\n",
    "print('Final hw score is ', final_grade)"
   ]
  },
  {
   "cell_type": "code",
   "execution_count": 58,
   "metadata": {
    "id": "UYSKvAUadZ9u"
   },
   "outputs": [],
   "source": [
    "def get_final_homework_score(arr, method=None):\n",
    "    if method == 'first_3':\n",
    "        first_three = arr[:3]\n",
    "        return get_average(first_three)\n",
    "    else: \n",
    "        return get_average(arr)"
   ]
  },
  {
   "cell_type": "code",
   "execution_count": 59,
   "metadata": {
    "colab": {
     "base_uri": "https://localhost:8080/"
    },
    "id": "hvnC4NzefCJk",
    "outputId": "b71bc466-29f3-475f-8db7-d5f9dd858f78"
   },
   "outputs": [
    {
     "name": "stdout",
     "output_type": "stream",
     "text": [
      "Final hw score is  91.42857142857143\n"
     ]
    }
   ],
   "source": [
    "final_grade = get_final_homework_score(grades)\n",
    "print('Final hw score is ', final_grade)"
   ]
  },
  {
   "cell_type": "code",
   "execution_count": 60,
   "metadata": {
    "colab": {
     "base_uri": "https://localhost:8080/"
    },
    "id": "GfUHCgEPfKs9",
    "outputId": "b3aea243-76e1-4120-97ba-bee1d38344d7"
   },
   "outputs": [
    {
     "name": "stdout",
     "output_type": "stream",
     "text": [
      "Final hw score is  91.42857142857143\n"
     ]
    }
   ],
   "source": [
    "final_grade = get_final_homework_score(grades, method='average')\n",
    "print('Final hw score is ', final_grade)"
   ]
  },
  {
   "cell_type": "code",
   "execution_count": 61,
   "metadata": {
    "colab": {
     "base_uri": "https://localhost:8080/"
    },
    "id": "6xb4mYZcfPZS",
    "outputId": "c460d00f-061c-471a-d8b5-0c8f6062937b"
   },
   "outputs": [
    {
     "name": "stdout",
     "output_type": "stream",
     "text": [
      "Final hw score is  100.0\n"
     ]
    }
   ],
   "source": [
    "final_grade = get_final_homework_score(grades, method='first_3')\n",
    "print('Final hw score is ', final_grade)"
   ]
  },
  {
   "cell_type": "markdown",
   "metadata": {
    "id": "xoDUQOkIfVB2"
   },
   "source": [
    "What if I keep changing the calcuation method and if I use this function in many places... "
   ]
  },
  {
   "cell_type": "markdown",
   "metadata": {
    "id": "PwwiZA_nfrm5"
   },
   "source": [
    "--"
   ]
  },
  {
   "cell_type": "markdown",
   "metadata": {
    "id": "yfCy7ItcYS7C"
   },
   "source": [
    "Functions are first class citizens! (*Important)"
   ]
  },
  {
   "cell_type": "code",
   "execution_count": 62,
   "metadata": {
    "id": "BNIapI2hYXa5"
   },
   "outputs": [],
   "source": [
    "def get_final_homework_score(arr, func=None): # (list) => number\n",
    "    if func == None:\n",
    "        return get_average(arr)\n",
    "    else: \n",
    "        return func(arr)"
   ]
  },
  {
   "cell_type": "code",
   "execution_count": 63,
   "metadata": {
    "colab": {
     "base_uri": "https://localhost:8080/"
    },
    "id": "08nFkm42Y--L",
    "outputId": "c3ee20c0-4eaa-47bd-8e11-185d827d8188"
   },
   "outputs": [
    {
     "data": {
      "text/plain": [
       "96.0"
      ]
     },
     "execution_count": 63,
     "metadata": {},
     "output_type": "execute_result"
    }
   ],
   "source": [
    "grades = [100, 100, 100, 90, 80, 80, 90]\n",
    "\n",
    "def average_only_number_greater_than_80(arr):\n",
    "    greater_th_80 = [x for x in arr if x > 80]\n",
    "    average = get_average(greater_th_80)\n",
    "    return average\n",
    "\n",
    "average_only_number_greater_than_80(grades)"
   ]
  },
  {
   "cell_type": "code",
   "execution_count": 64,
   "metadata": {
    "colab": {
     "base_uri": "https://localhost:8080/"
    },
    "id": "iqpApBS7gXL1",
    "outputId": "6845d271-ee25-4df5-9334-68f0c5ec8cf2"
   },
   "outputs": [
    {
     "name": "stdout",
     "output_type": "stream",
     "text": [
      "Final hw score is  96.0\n"
     ]
    }
   ],
   "source": [
    "final_grade = get_final_homework_score(grades, func = average_only_number_greater_than_80)\n",
    "print('Final hw score is ', final_grade)"
   ]
  },
  {
   "cell_type": "code",
   "execution_count": 65,
   "metadata": {
    "colab": {
     "base_uri": "https://localhost:8080/"
    },
    "id": "5oA54Pt9hDg4",
    "outputId": "891fa43a-ff6d-4e40-dce1-73c8dea82409"
   },
   "outputs": [
    {
     "name": "stdout",
     "output_type": "stream",
     "text": [
      "Final hw score is  85.0\n"
     ]
    }
   ],
   "source": [
    "def only_last_two(arr):\n",
    "    return get_average(arr[-2:])\n",
    "\n",
    "final_grade = get_final_homework_score(grades, func = only_last_two)\n",
    "print('Final hw score is ', final_grade)"
   ]
  },
  {
   "cell_type": "code",
   "execution_count": 66,
   "metadata": {
    "id": "Zm5cOnimhWPQ"
   },
   "outputs": [
    {
     "name": "stdout",
     "output_type": "stream",
     "text": [
      "Final hw score is  105\n"
     ]
    }
   ],
   "source": [
    "def give_good_score(arr):\n",
    "    return 105\n",
    "\n",
    "final_grade = get_final_homework_score(grades, func = give_good_score)\n",
    "print('Final hw score is ', final_grade)"
   ]
  },
  {
   "cell_type": "code",
   "execution_count": null,
   "metadata": {},
   "outputs": [],
   "source": []
  }
 ],
 "metadata": {
  "colab": {
   "collapsed_sections": [],
   "name": "SomeMoreBasics.ipynb",
   "provenance": []
  },
  "kernelspec": {
   "display_name": "Python 3",
   "language": "python",
   "name": "python3"
  },
  "language_info": {
   "codemirror_mode": {
    "name": "ipython",
    "version": 3
   },
   "file_extension": ".py",
   "mimetype": "text/x-python",
   "name": "python",
   "nbconvert_exporter": "python",
   "pygments_lexer": "ipython3",
   "version": "3.8.8"
  },
  "toc": {
   "base_numbering": 1,
   "nav_menu": {},
   "number_sections": false,
   "sideBar": true,
   "skip_h1_title": false,
   "title_cell": "Table of Contents",
   "title_sidebar": "Contents",
   "toc_cell": false,
   "toc_position": {
    "height": "calc(100% - 180px)",
    "left": "10px",
    "top": "150px",
    "width": "288px"
   },
   "toc_section_display": true,
   "toc_window_display": true
  },
  "varInspector": {
   "cols": {
    "lenName": 16,
    "lenType": 16,
    "lenVar": 40
   },
   "kernels_config": {
    "python": {
     "delete_cmd_postfix": "",
     "delete_cmd_prefix": "del ",
     "library": "var_list.py",
     "varRefreshCmd": "print(var_dic_list())"
    },
    "r": {
     "delete_cmd_postfix": ") ",
     "delete_cmd_prefix": "rm(",
     "library": "var_list.r",
     "varRefreshCmd": "cat(var_dic_list()) "
    }
   },
   "types_to_exclude": [
    "module",
    "function",
    "builtin_function_or_method",
    "instance",
    "_Feature"
   ],
   "window_display": false
  }
 },
 "nbformat": 4,
 "nbformat_minor": 1
}
