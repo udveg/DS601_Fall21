{
 "cells": [
  {
   "cell_type": "markdown",
   "metadata": {
    "id": "S66vpWEWqo_I"
   },
   "source": [
    "# Agenda"
   ]
  },
  {
   "cell_type": "markdown",
   "metadata": {
    "id": "Ei4L7wJBqyT2"
   },
   "source": [
    "- Part-I\n",
    "\n",
    "  - Programming Paradigms.\n",
    "\n",
    "  - What is OOP?\n",
    "\n",
    "  - Why do we need OOP?\n",
    "\n",
    "  - Terminology and examples\n",
    "\n",
    "    - Class, instance, objects, attributes, methods"
   ]
  },
  {
   "cell_type": "markdown",
   "metadata": {
    "id": "t7QbZvowq00f"
   },
   "source": [
    "- Part - II\n",
    "\n",
    " - Classes and Instances\n",
    "\n",
    " - Class Variables\n",
    "\n",
    " - Inheritance\n",
    "\n"
   ]
  },
  {
   "cell_type": "markdown",
   "metadata": {
    "id": "FacrU83ErYrq"
   },
   "source": [
    "- Part - III\n",
    "\n",
    "  - Creating objects\n",
    "\n",
    "  - Creating class variables\n",
    "\n",
    "  - Inheritance"
   ]
  },
  {
   "cell_type": "markdown",
   "metadata": {
    "id": "FM3GYNj3qlgA"
   },
   "source": [
    "# Part-I"
   ]
  },
  {
   "cell_type": "markdown",
   "metadata": {
    "id": "OShq3CZkr9Az"
   },
   "source": [
    "## Programming Paradigms\n",
    "\n",
    "- Programming Paradigm: The style of coding.\n",
    "\n",
    "- There are lots of different styles (paradigms) of coding.\n",
    "\n",
    "- [Programming Paradigms](https://www.youtube.com/watch?v=Wt4FPjkCNaU&ab_channel=Craig%27n%27Dave)\n",
    "\n",
    "- [Let's see the difference between Imperative and Declarative programming](https://www.youtube.com/watch?v=yOBBkIJBEL8)"
   ]
  },
  {
   "cell_type": "markdown",
   "metadata": {
    "id": "55DwM3x074g5"
   },
   "source": [
    "## OOP: Object Oriented Programming"
   ]
  },
  {
   "cell_type": "markdown",
   "metadata": {
    "id": "1b-q-WpzxmP2"
   },
   "source": [
    "__What is OOP__?\n",
    "\n",
    "\n",
    "Object-oriented programming (OOP) is a programming paradigm based on the concept of \"objects\", which can contain data and code: data in the form of fields (often known as attributes or properties), and code, in the form of procedures (often known as methods). (From Wikipedia)\n",
    "\n"
   ]
  },
  {
   "cell_type": "markdown",
   "metadata": {
    "id": "V3HpJxRR8hzH"
   },
   "source": [
    "__Why OOP?__\n",
    "\n",
    "- Each object is on its own a program\n",
    "\n",
    "- Creates boundries\n",
    "\n",
    "- Ready to use and don't need to understand what is going on inside of an object.\n",
    "\n",
    "- Organizes the code into logical pieces."
   ]
  },
  {
   "cell_type": "markdown",
   "metadata": {
    "id": "0Op-qqoi7-co"
   },
   "source": [
    "__Classes and Instances (Objects)__\n",
    "\n",
    "- Classes are like notions and templates\n",
    "\n",
    "- Objects (instances) are the actualization of these notions and ideas."
   ]
  },
  {
   "cell_type": "markdown",
   "metadata": {
    "id": "_2pLdU9ix6Lb"
   },
   "source": [
    "Examples:\n",
    "\n",
    "Class ---> Chair\n",
    "\n",
    "Object ---> A particular chair\n",
    "\n",
    "[Different Chairs](https://www.google.com/search?q=chair+images&oq=chair+images&aqs=chrome..69i57j0l9.1845j1j7&sourceid=chrome&ie=UTF-8)\n"
   ]
  },
  {
   "cell_type": "markdown",
   "metadata": {
    "id": "Mvn9UVw8yU4B"
   },
   "source": [
    "Class ---> Tree\n",
    "\n",
    "Object (Instance of a Tree class) ---> A pine tree\n",
    "\n",
    "[Tree Images](https://www.google.com/search?q=tree+images&sxsrf=ALeKk03oAU2blx0v91nLrOwMrFq81l1ZEw:1618343497847&source=lnms&tbm=isch&sa=X&ved=2ahUKEwjH4cCq__vvAhUpKFkFHa7hAzEQ_AUoAXoECAEQAw&biw=1920&bih=864)"
   ]
  },
  {
   "cell_type": "markdown",
   "metadata": {
    "id": "PAWUu51R8BCM"
   },
   "source": [
    "__Methods and Attributes__\n",
    "\n",
    "- Functions and Data"
   ]
  },
  {
   "cell_type": "markdown",
   "metadata": {
    "id": "tR_i4gCpyuQp"
   },
   "source": [
    "Example:\n",
    "\n",
    "Consider the example: Class = Chair:\n",
    "\n",
    "Possible Attributes of a general chair:\n",
    "\n",
    "- Height\n",
    "\n",
    "- Length\n",
    "\n",
    "- Width\n",
    "\n",
    "- number of legs\n",
    "\n",
    "- color\n",
    "\n",
    "- with resting hands or not.\n",
    "\n"
   ]
  },
  {
   "cell_type": "markdown",
   "metadata": {
    "id": "XAidl9pUyoyw"
   },
   "source": [
    "Possible functions of a chair:\n",
    "\n",
    "- Adjust height\n",
    "\n",
    "- Lean backward\n",
    "\n",
    "- Tilt backward\n",
    "\n",
    "- Rock\n",
    "\n",
    "- fold/unfold"
   ]
  },
  {
   "cell_type": "markdown",
   "metadata": {
    "id": "2HlBy-4HzpTZ"
   },
   "source": [
    "Consider the example: Class = Tree\n",
    "\n",
    "Possible attributes of a tree:\n",
    "- kind\n",
    "- height\n",
    "- width\n",
    "- age\n",
    "- indoor/ourdoor\n",
    "- fruit/no fruit\n",
    "\n",
    "Possible functions (actions) a general tree can execute:\n",
    "\n",
    "- grow height\n",
    "- drop leaves\n",
    "- tilt towards sun\n",
    "- grow seeds"
   ]
  },
  {
   "cell_type": "markdown",
   "metadata": {
    "id": "lgTyhZBM7pdw"
   },
   "source": [
    "# Part - II"
   ]
  },
  {
   "cell_type": "markdown",
   "metadata": {
    "id": "19tlluGH7tsu"
   },
   "source": [
    "## Syntax and Construction"
   ]
  },
  {
   "cell_type": "code",
   "execution_count": 1,
   "metadata": {
    "id": "aW_64GBn71yG"
   },
   "outputs": [],
   "source": [
    "## Let's see the syntax for creating a class \n",
    "## Syntax\n",
    "class Student:\n",
    "    pass"
   ]
  },
  {
   "cell_type": "code",
   "execution_count": 2,
   "metadata": {
    "id": "GcmpR0id-CQa"
   },
   "outputs": [],
   "source": [
    "## Create 2 Student Objects\n",
    "\n",
    "student1 = Student()\n",
    "student2 = Student()\n"
   ]
  },
  {
   "cell_type": "code",
   "execution_count": 3,
   "metadata": {
    "colab": {
     "base_uri": "https://localhost:8080/"
    },
    "id": "yhGeMGjz-ROi",
    "outputId": "8ecb9394-77e5-4c14-86e6-701783ab8dd2"
   },
   "outputs": [
    {
     "name": "stdout",
     "output_type": "stream",
     "text": [
      "<__main__.Student object at 0x7ff9351a04c0>\n",
      "<__main__.Student object at 0x7ff9351a0790>\n"
     ]
    }
   ],
   "source": [
    "## Show that they are stored in different places\n",
    "print(student1)\n",
    "print(student2)"
   ]
  },
  {
   "cell_type": "code",
   "execution_count": 4,
   "metadata": {
    "id": "lNm4ygia-WiF"
   },
   "outputs": [],
   "source": [
    "## Each Student will have a name\n",
    "## We can assign like this\n",
    "student1.name = 'Joseph'\n",
    "student2.name = 'Emily'"
   ]
  },
  {
   "cell_type": "code",
   "execution_count": 5,
   "metadata": {
    "colab": {
     "base_uri": "https://localhost:8080/"
    },
    "id": "Dv1PS_q1-oZX",
    "outputId": "eb2603cd-357f-4da5-a170-f6a1b51a9b4f"
   },
   "outputs": [
    {
     "name": "stdout",
     "output_type": "stream",
     "text": [
      "Joseph\n",
      "Emily\n"
     ]
    }
   ],
   "source": [
    "## let's see the student names are assigned\n",
    "print(student1.name)\n",
    "print(student2.name)"
   ]
  },
  {
   "cell_type": "code",
   "execution_count": null,
   "metadata": {},
   "outputs": [],
   "source": [
    "# dir(student1)"
   ]
  },
  {
   "cell_type": "code",
   "execution_count": 6,
   "metadata": {
    "id": "gTWg4z1JMBu6"
   },
   "outputs": [],
   "source": [
    "class Student:\n",
    "    pass\n",
    "\n",
    "student3 = Student()\n",
    "# but this is error prone. We can make mistakes easily...\n",
    "student3.nane = 'Mike'"
   ]
  },
  {
   "cell_type": "code",
   "execution_count": 7,
   "metadata": {
    "id": "la_DRcBQMTUu"
   },
   "outputs": [],
   "source": [
    "## let's add student id,\n",
    "## campus, first semester and program to our construction.\n",
    "\n",
    "\n",
    "class Student:\n",
    "  ## We use a constructor method to create a student\n",
    "  def __init__(self, name, id):\n",
    "    self.name = name\n",
    "    self.id = id"
   ]
  },
  {
   "cell_type": "code",
   "execution_count": 9,
   "metadata": {},
   "outputs": [],
   "source": [
    "# Student()"
   ]
  },
  {
   "cell_type": "code",
   "execution_count": 10,
   "metadata": {
    "id": "OTt8yzE4MzEn"
   },
   "outputs": [],
   "source": [
    "## let's define student1 and student2 again.\n",
    "student1 = Student(name = 'Adam', id = 20210413547)\n",
    "\n",
    "student2 = Student('John', 20210413550)\n",
    "\n",
    "student3 = Student('Mike', 20210413551)"
   ]
  },
  {
   "cell_type": "code",
   "execution_count": 11,
   "metadata": {
    "id": "AKlMadfpJ7CA"
   },
   "outputs": [],
   "source": [
    "class Student:\n",
    "  ## We use a constructor method to create a student\n",
    "  def __init__(self, first, last, id, campus, program, enroll_semester):\n",
    "    self.first = first\n",
    "    self.last = last\n",
    "    self.id = id\n",
    "    self.campus = campus\n",
    "    self.program = program\n",
    "    self.enroll_semester = enroll_semester\n"
   ]
  },
  {
   "cell_type": "code",
   "execution_count": 12,
   "metadata": {
    "id": "3NIvd4hmKnjw"
   },
   "outputs": [],
   "source": [
    "## Create new students\n",
    "student1 = Student(first = 'John',\n",
    "                   last = 'Smith',\n",
    "                   id = 20210413557, \n",
    "                   campus = 'Shady Grove', \n",
    "                   program = 'Masters', \n",
    "                   enroll_semester = 'Fall 2020' )"
   ]
  },
  {
   "cell_type": "code",
   "execution_count": 13,
   "metadata": {
    "id": "dQltgPRnPeWX"
   },
   "outputs": [],
   "source": [
    "student2 = Student('Albert',\n",
    "                   'Wayne',\n",
    "                   20210413600,\n",
    "                   'Main',\n",
    "                   'Certificate',\n",
    "                   'Spring 2019')"
   ]
  },
  {
   "cell_type": "code",
   "execution_count": 14,
   "metadata": {},
   "outputs": [
    {
     "data": {
      "text/plain": [
       "'Main'"
      ]
     },
     "execution_count": 14,
     "metadata": {},
     "output_type": "execute_result"
    }
   ],
   "source": [
    "student2.campus"
   ]
  },
  {
   "cell_type": "code",
   "execution_count": 15,
   "metadata": {
    "id": "dj7xjjR5P2Q6"
   },
   "outputs": [
    {
     "data": {
      "text/plain": [
       "'Shady Grove'"
      ]
     },
     "execution_count": 15,
     "metadata": {},
     "output_type": "execute_result"
    }
   ],
   "source": [
    "student2.campus = 'Shady Grove'\n",
    "student2.campus"
   ]
  },
  {
   "cell_type": "code",
   "execution_count": null,
   "metadata": {
    "colab": {
     "base_uri": "https://localhost:8080/",
     "height": 35
    },
    "id": "tEmQc227P_Vt",
    "outputId": "e05732bb-72a7-4f60-f402-d0abfa7f51d8"
   },
   "outputs": [],
   "source": []
  },
  {
   "cell_type": "markdown",
   "metadata": {
    "id": "gOnerh3AJggG"
   },
   "source": [
    "## Methods and Attributes"
   ]
  },
  {
   "cell_type": "code",
   "execution_count": 16,
   "metadata": {
    "colab": {
     "base_uri": "https://localhost:8080/"
    },
    "id": "fLp8wvmQJ365",
    "outputId": "22e1cb84-378c-4914-86d5-76f274efa4e8"
   },
   "outputs": [
    {
     "name": "stdout",
     "output_type": "stream",
     "text": [
      "Fall 2020\n",
      "John\n",
      "Albert\n"
     ]
    }
   ],
   "source": [
    "## Show some attributes (data) of the students\n",
    "print(student1.enroll_semester)\n",
    "print(student1.first)\n",
    "print(student2.first)"
   ]
  },
  {
   "cell_type": "code",
   "execution_count": 22,
   "metadata": {
    "id": "uQIVmEq2IPTv"
   },
   "outputs": [],
   "source": [
    "## let's create a function (method) that calculates the \n",
    "## total number of credits based on whether a student is a Masters/Certificate student\n",
    "class Student:\n",
    "  ## We use a constructor method to create a student\n",
    "  def __init__(self, first, last, id, campus, program, enroll_semester):\n",
    "    self.first = first\n",
    "    self.last = last\n",
    "    self.id = id\n",
    "    self.campus = campus\n",
    "    self.program = program\n",
    "    self.enroll_semester = enroll_semester\n",
    "\n",
    "## Create total_credits method here\n",
    "  def total_credits(self):\n",
    "    if self.program == 'Masters':\n",
    "        return 30\n",
    "    elif self.program =='Certificate':\n",
    "        return  12\n",
    "    \n"
   ]
  },
  {
   "cell_type": "code",
   "execution_count": 23,
   "metadata": {
    "colab": {
     "base_uri": "https://localhost:8080/"
    },
    "id": "XeQ8g9dtIbUo",
    "outputId": "1cea8ea7-1ca0-4a73-95b0-eb0588f715f1"
   },
   "outputs": [
    {
     "data": {
      "text/plain": [
       "12"
      ]
     },
     "execution_count": 23,
     "metadata": {},
     "output_type": "execute_result"
    }
   ],
   "source": [
    "## Now let's create a student again\n",
    "\n",
    "student1 = Student('John', \n",
    "                   'Smith', \n",
    "                   '20030001',\n",
    "                   'Shady Grove',\n",
    "                   'Certificate', \n",
    "                   'Fall 2020')\n",
    "\n",
    "## call the total_credits method\n",
    "student1.total_credits()"
   ]
  },
  {
   "cell_type": "code",
   "execution_count": 24,
   "metadata": {},
   "outputs": [
    {
     "data": {
      "text/plain": [
       "30"
      ]
     },
     "execution_count": 24,
     "metadata": {},
     "output_type": "execute_result"
    }
   ],
   "source": [
    "student2 = Student('Emily', \n",
    "                   'Smith', \n",
    "                   '20030001',\n",
    "                   'Shady Grove',\n",
    "                   'Masters', \n",
    "                   'Fall 2020')\n",
    "student2.total_credits()"
   ]
  },
  {
   "cell_type": "markdown",
   "metadata": {
    "id": "FO3r7JL4Ijqr"
   },
   "source": [
    "## Class Variables"
   ]
  },
  {
   "cell_type": "code",
   "execution_count": 29,
   "metadata": {
    "id": "fk26qK2jN-wZ"
   },
   "outputs": [],
   "source": [
    "class Student:\n",
    "    ## class variable\n",
    "    tuition = 1000\n",
    "    technology_fee = 100\n",
    "    \n",
    "    ## We use a constructor method to create a student\n",
    "    def __init__(self, first, last, id, campus, program, enroll_semester):\n",
    "        self.first = first\n",
    "        self.last = last\n",
    "        self.id = id\n",
    "        self.campus = campus\n",
    "        self.program = program\n",
    "        self.enroll_semester = enroll_semester\n",
    "\n",
    "    ## Create total_credits method here\n",
    "    def total_credits(self):\n",
    "        if self.program == 'Masters':\n",
    "            return 30\n",
    "        elif self.program =='Certificate':\n",
    "            return  12\n",
    "\n",
    "    def total_tuition(self):\n",
    "        return self.tuition * self.total_credits() + self.technology_fee\n"
   ]
  },
  {
   "cell_type": "code",
   "execution_count": 30,
   "metadata": {
    "colab": {
     "base_uri": "https://localhost:8080/"
    },
    "id": "zbwOi-63OUen",
    "outputId": "c09fd0f3-fc2e-4e45-adbf-154fa75a404e"
   },
   "outputs": [],
   "source": [
    "student1 = Student('Emily', 'Johnson', '20030001', 'Shady Grove','Certificate', 'Fall 2020')\n",
    "\n",
    "student2 = Student('John', 'Wayne', '20210413605', 'Main', 'Masters', 'Spring 2019')\n"
   ]
  },
  {
   "cell_type": "code",
   "execution_count": 31,
   "metadata": {
    "colab": {
     "base_uri": "https://localhost:8080/"
    },
    "id": "AD-8gj1pUbvT",
    "outputId": "75e70864-44ca-4706-ff8b-65bd6cb75c56"
   },
   "outputs": [
    {
     "name": "stdout",
     "output_type": "stream",
     "text": [
      "12100\n",
      "30100\n"
     ]
    }
   ],
   "source": [
    "print(student1.total_tuition())\n",
    "print(student2.total_tuition())"
   ]
  },
  {
   "cell_type": "code",
   "execution_count": 32,
   "metadata": {
    "colab": {
     "base_uri": "https://localhost:8080/"
    },
    "id": "H3Xoat0VT1eg",
    "outputId": "c9dc0450-1b01-4735-f78e-c3ef30137d8e"
   },
   "outputs": [
    {
     "name": "stdout",
     "output_type": "stream",
     "text": [
      "6100\n",
      "30100\n"
     ]
    }
   ],
   "source": [
    "student1.tuition = 500\n",
    "print(student1.total_tuition())\n",
    "print(student2.total_tuition())"
   ]
  },
  {
   "cell_type": "code",
   "execution_count": 33,
   "metadata": {
    "colab": {
     "base_uri": "https://localhost:8080/"
    },
    "id": "1C4ZJ97VVde7",
    "outputId": "8b45fabc-ec12-4307-be5e-8806d72f8a45"
   },
   "outputs": [
    {
     "data": {
      "text/plain": [
       "500"
      ]
     },
     "execution_count": 33,
     "metadata": {},
     "output_type": "execute_result"
    }
   ],
   "source": [
    "student1.tuition"
   ]
  },
  {
   "cell_type": "code",
   "execution_count": 34,
   "metadata": {
    "colab": {
     "base_uri": "https://localhost:8080/"
    },
    "id": "5wtSlIamVx_w",
    "outputId": "3206dd63-5415-407c-c5c0-d7528608d865"
   },
   "outputs": [
    {
     "data": {
      "text/plain": [
       "1000"
      ]
     },
     "execution_count": 34,
     "metadata": {},
     "output_type": "execute_result"
    }
   ],
   "source": [
    "student2.tuition"
   ]
  },
  {
   "cell_type": "code",
   "execution_count": 35,
   "metadata": {
    "id": "nCmivDikV3cP"
   },
   "outputs": [],
   "source": [
    "student3 = Student('Mike', 'Oliver', '20210413630', 'Main', 'Certificate', 'Fall 2018')"
   ]
  },
  {
   "cell_type": "code",
   "execution_count": 36,
   "metadata": {
    "colab": {
     "base_uri": "https://localhost:8080/"
    },
    "id": "WccUl16GWJvc",
    "outputId": "840ada66-3cae-4c03-e76c-fbf8573e9c4c"
   },
   "outputs": [
    {
     "data": {
      "text/plain": [
       "1000"
      ]
     },
     "execution_count": 36,
     "metadata": {},
     "output_type": "execute_result"
    }
   ],
   "source": [
    "student3.tuition"
   ]
  },
  {
   "cell_type": "code",
   "execution_count": 37,
   "metadata": {
    "colab": {
     "base_uri": "https://localhost:8080/"
    },
    "id": "eDY0fmncQcw3",
    "outputId": "cc207a38-f7ec-4ae4-8984-9c74ef87592a"
   },
   "outputs": [
    {
     "data": {
      "text/plain": [
       "['__class__',\n",
       " '__delattr__',\n",
       " '__dict__',\n",
       " '__dir__',\n",
       " '__doc__',\n",
       " '__eq__',\n",
       " '__format__',\n",
       " '__ge__',\n",
       " '__getattribute__',\n",
       " '__gt__',\n",
       " '__hash__',\n",
       " '__init__',\n",
       " '__init_subclass__',\n",
       " '__le__',\n",
       " '__lt__',\n",
       " '__module__',\n",
       " '__ne__',\n",
       " '__new__',\n",
       " '__reduce__',\n",
       " '__reduce_ex__',\n",
       " '__repr__',\n",
       " '__setattr__',\n",
       " '__sizeof__',\n",
       " '__str__',\n",
       " '__subclasshook__',\n",
       " '__weakref__',\n",
       " 'campus',\n",
       " 'enroll_semester',\n",
       " 'first',\n",
       " 'id',\n",
       " 'last',\n",
       " 'program',\n",
       " 'technology_fee',\n",
       " 'total_credits',\n",
       " 'total_tuition',\n",
       " 'tuition']"
      ]
     },
     "execution_count": 37,
     "metadata": {},
     "output_type": "execute_result"
    }
   ],
   "source": [
    "## dir returns attributes and methods related to an object\n",
    "dir(student2)"
   ]
  },
  {
   "cell_type": "code",
   "execution_count": null,
   "metadata": {
    "colab": {
     "base_uri": "https://localhost:8080/"
    },
    "id": "KngBm2oyQhZq",
    "outputId": "f2e970c7-a158-495e-9c22-e9e38d9fafc1"
   },
   "outputs": [],
   "source": [
    "dir(student1)"
   ]
  },
  {
   "cell_type": "markdown",
   "metadata": {},
   "source": [
    "# Dunder/Magic methods\n"
   ]
  },
  {
   "cell_type": "code",
   "execution_count": 38,
   "metadata": {},
   "outputs": [],
   "source": [
    "class Soldier:\n",
    "    def __init__(self, name, power=10, life=100):\n",
    "        self.name = name\n",
    "        self.power = power\n",
    "        self.life = life\n",
    "        self.weapons = []\n",
    "        self.active_weapon = None\n",
    "        \n",
    "    def add_weapon(self, weapon):\n",
    "        self.weapons.append(weapon)\n",
    "        \n",
    "    def select_weapon(self, weapon):\n",
    "        if weapon in self.weapons:\n",
    "            self.active_weapon = weapon\n",
    "        else:\n",
    "            self.active_weapon = None\n",
    "    \n",
    "    def attack(self):\n",
    "        print(f'{self.name} is attacking with {self.active_weapon}')"
   ]
  },
  {
   "cell_type": "code",
   "execution_count": 39,
   "metadata": {},
   "outputs": [
    {
     "name": "stdout",
     "output_type": "stream",
     "text": [
      "Cesar is attacking with Arrow\n"
     ]
    }
   ],
   "source": [
    "s1 = Soldier('Cesar')\n",
    "s1.add_weapon('Sword')\n",
    "s1.add_weapon('Arrow')\n",
    "s1.select_weapon('Arrow')\n",
    "s1.attack()"
   ]
  },
  {
   "cell_type": "code",
   "execution_count": 40,
   "metadata": {},
   "outputs": [
    {
     "data": {
      "text/plain": [
       "<__main__.Soldier at 0x7ff935249af0>"
      ]
     },
     "execution_count": 40,
     "metadata": {},
     "output_type": "execute_result"
    }
   ],
   "source": [
    "s1"
   ]
  },
  {
   "cell_type": "code",
   "execution_count": 50,
   "metadata": {},
   "outputs": [],
   "source": [
    "class Soldier:\n",
    "    def __init__(self, name, power=10, life=100):\n",
    "        self.name = name\n",
    "        self.power = power\n",
    "        self.life = life\n",
    "        self.weapons = []\n",
    "        self.active_weapon = None\n",
    "        \n",
    "    def add_weapon(self, weapon):\n",
    "        self.weapons.append(weapon)\n",
    "        \n",
    "    def select_weapon(self, weapon):\n",
    "        if weapon in self.weapons:\n",
    "            self.active_weapon = weapon\n",
    "        else:\n",
    "            self.active_weapon = None\n",
    "    \n",
    "    def attack(self):\n",
    "        print(f'attacking with {self.active_weapon}')\n",
    "            \n",
    "    # represent\n",
    "    def __repr__(self):\n",
    "        return f'{self.name} | Power: {self.power} | Life: {self.life} | Active Weapon: {self.active_weapon}'\n"
   ]
  },
  {
   "cell_type": "code",
   "execution_count": 51,
   "metadata": {},
   "outputs": [
    {
     "data": {
      "text/plain": [
       "Cesar | Power: 10 | Life: 100 | Active Weapon: None"
      ]
     },
     "execution_count": 51,
     "metadata": {},
     "output_type": "execute_result"
    }
   ],
   "source": [
    "s1 = Soldier('Cesar')\n",
    "s1"
   ]
  },
  {
   "cell_type": "code",
   "execution_count": 52,
   "metadata": {},
   "outputs": [
    {
     "data": {
      "text/plain": [
       "Brutus | Power: 50 | Life: 100 | Active Weapon: None"
      ]
     },
     "execution_count": 52,
     "metadata": {},
     "output_type": "execute_result"
    }
   ],
   "source": [
    "s2 = Soldier('Brutus', 50)\n",
    "s2"
   ]
  },
  {
   "cell_type": "code",
   "execution_count": 53,
   "metadata": {},
   "outputs": [
    {
     "ename": "TypeError",
     "evalue": "'<' not supported between instances of 'Soldier' and 'Soldier'",
     "output_type": "error",
     "traceback": [
      "\u001b[0;31m---------------------------------------------------------------------------\u001b[0m",
      "\u001b[0;31mTypeError\u001b[0m                                 Traceback (most recent call last)",
      "\u001b[0;32m<ipython-input-53-6aaa74173c81>\u001b[0m in \u001b[0;36m<module>\u001b[0;34m\u001b[0m\n\u001b[1;32m      1\u001b[0m \u001b[0;31m# wouldn't be nice if we could compare\u001b[0m\u001b[0;34m\u001b[0m\u001b[0;34m\u001b[0m\u001b[0;34m\u001b[0m\u001b[0m\n\u001b[0;32m----> 2\u001b[0;31m \u001b[0ms1\u001b[0m \u001b[0;34m<\u001b[0m \u001b[0ms2\u001b[0m\u001b[0;34m\u001b[0m\u001b[0;34m\u001b[0m\u001b[0m\n\u001b[0m",
      "\u001b[0;31mTypeError\u001b[0m: '<' not supported between instances of 'Soldier' and 'Soldier'"
     ]
    }
   ],
   "source": [
    "# wouldn't be nice if we could compare\n",
    "s1 < s2"
   ]
  },
  {
   "cell_type": "code",
   "execution_count": 61,
   "metadata": {},
   "outputs": [],
   "source": [
    "class Soldier:\n",
    "    def __init__(self, name, power=10, life=100):\n",
    "        self.name = name\n",
    "        self.power = power\n",
    "        self.life = life\n",
    "        self.weapons = []\n",
    "        self.active_weapon = None\n",
    "        \n",
    "    def add_weapon(self, weapon):\n",
    "        self.weapons.append(weapon)\n",
    "        \n",
    "    def select_weapon(self, weapon):\n",
    "        if weapon in self.weapons:\n",
    "            self.active_weapon = weapon\n",
    "        else:\n",
    "            self.active_weapon = None\n",
    "    \n",
    "    def attack(self):\n",
    "        print(f'attacking with {self.active_weapon}')\n",
    "            \n",
    "    # represent\n",
    "    def __repr__(self):\n",
    "        return f'{self.name} | Power: {self.power} | Life: {self.life} | Active Weapon: {self.active_weapon}'\n",
    "\n",
    "    # greater than or equal to\n",
    "    def __ge__(self, other):\n",
    "        if self.power >= other.power:\n",
    "            return True\n",
    "        else:\n",
    "            return False\n",
    "    \n",
    "    # less than or equal to\n",
    "    def __le__(self, other):\n",
    "        if self.power <= other.power:\n",
    "            return True\n",
    "        else:\n",
    "            return False\n",
    "        \n",
    "    # less than \n",
    "    def __lt__(self, other):\n",
    "        if self.power < other.power:\n",
    "            return True\n",
    "        else:\n",
    "            return False\n",
    "    \n",
    "    # less than\n",
    "    def __gt__(self, other):\n",
    "        if self.power > other.power:\n",
    "            return True\n",
    "        else:\n",
    "            return False\n",
    "    \n",
    "    # equals to\n",
    "    def __eq__(self, other):\n",
    "        if self.power == other.power:\n",
    "            return True\n",
    "        else:\n",
    "            return False        "
   ]
  },
  {
   "cell_type": "code",
   "execution_count": 65,
   "metadata": {},
   "outputs": [
    {
     "data": {
      "text/plain": [
       "True"
      ]
     },
     "execution_count": 65,
     "metadata": {},
     "output_type": "execute_result"
    }
   ],
   "source": [
    "s1 = Soldier('Cesar', 10)\n",
    "s2 = Soldier('Brutus', 20)\n",
    "\n",
    "s1 <= s2"
   ]
  },
  {
   "cell_type": "code",
   "execution_count": 66,
   "metadata": {},
   "outputs": [
    {
     "ename": "TypeError",
     "evalue": "object of type 'Soldier' has no len()",
     "output_type": "error",
     "traceback": [
      "\u001b[0;31m---------------------------------------------------------------------------\u001b[0m",
      "\u001b[0;31mTypeError\u001b[0m                                 Traceback (most recent call last)",
      "\u001b[0;32m<ipython-input-66-8619b9f1137e>\u001b[0m in \u001b[0;36m<module>\u001b[0;34m\u001b[0m\n\u001b[1;32m      1\u001b[0m \u001b[0;31m# say I want to get the number of weapons the soldier has...\u001b[0m\u001b[0;34m\u001b[0m\u001b[0;34m\u001b[0m\u001b[0;34m\u001b[0m\u001b[0m\n\u001b[0;32m----> 2\u001b[0;31m \u001b[0mlen\u001b[0m\u001b[0;34m(\u001b[0m\u001b[0ms1\u001b[0m\u001b[0;34m)\u001b[0m\u001b[0;34m\u001b[0m\u001b[0;34m\u001b[0m\u001b[0m\n\u001b[0m",
      "\u001b[0;31mTypeError\u001b[0m: object of type 'Soldier' has no len()"
     ]
    }
   ],
   "source": [
    "# say I want to get the number of weapons the soldier has...\n",
    "len(s1)"
   ]
  },
  {
   "cell_type": "code",
   "execution_count": 68,
   "metadata": {},
   "outputs": [],
   "source": [
    "class Soldier:\n",
    "    def __init__(self, name, power=10, life=100):\n",
    "        self.name = name\n",
    "        self.power = power\n",
    "        self.life = life\n",
    "        self.weapons = []\n",
    "        self.active_weapon = None\n",
    "        \n",
    "    def add_weapon(self, weapon):\n",
    "        self.weapons.append(weapon)\n",
    "        \n",
    "    def select_weapon(self, weapon):\n",
    "        if weapon in self.weapons:\n",
    "            self.active_weapon = weapon\n",
    "        else:\n",
    "            self.active_weapon = None\n",
    "    \n",
    "    def attack(self):\n",
    "        print(f'attacking with {self.active_weapon}')\n",
    "            \n",
    "    # represent\n",
    "    def __repr__(self):\n",
    "        return f'{self.name} | Power: {self.power} | Life: {self.life} | Active Weapon: {self.active_weapon}'\n",
    "\n",
    "    # greater than or equal to\n",
    "    def __ge__(self, other):\n",
    "        if self.power >= other.power:\n",
    "            return True\n",
    "        else:\n",
    "            return False\n",
    "    \n",
    "    # less than or equal to\n",
    "    def __le__(self, other):\n",
    "        if self.power <= other.power:\n",
    "            return True\n",
    "        else:\n",
    "            return False\n",
    "        \n",
    "    # less than \n",
    "    def __lt__(self, other):\n",
    "        if self.power < other.power:\n",
    "            return True\n",
    "        else:\n",
    "            return False\n",
    "    \n",
    "    # less than\n",
    "    def __gt__(self, other):\n",
    "        if self.power > other.power:\n",
    "            return True\n",
    "        else:\n",
    "            return False\n",
    "    \n",
    "    # equals to\n",
    "    def __eq__(self, other):\n",
    "        if self.power == other.power:\n",
    "            return True\n",
    "        else:\n",
    "            return False      \n",
    "        \n",
    "    # len\n",
    "    def __len__(self):\n",
    "        return len(self.weapons)"
   ]
  },
  {
   "cell_type": "code",
   "execution_count": 69,
   "metadata": {},
   "outputs": [
    {
     "data": {
      "text/plain": [
       "0"
      ]
     },
     "execution_count": 69,
     "metadata": {},
     "output_type": "execute_result"
    }
   ],
   "source": [
    "s1 = Soldier('Ceasar')\n",
    "len(s1)"
   ]
  },
  {
   "cell_type": "code",
   "execution_count": 70,
   "metadata": {},
   "outputs": [
    {
     "data": {
      "text/plain": [
       "2"
      ]
     },
     "execution_count": 70,
     "metadata": {},
     "output_type": "execute_result"
    }
   ],
   "source": [
    "s1.add_weapon('bow')\n",
    "s1.add_weapon('arrow')\n",
    "len(s1)"
   ]
  },
  {
   "cell_type": "markdown",
   "metadata": {},
   "source": [
    "https://www.section.io/engineering-education/dunder-methods-python/"
   ]
  },
  {
   "cell_type": "code",
   "execution_count": 74,
   "metadata": {},
   "outputs": [
    {
     "data": {
      "text/plain": [
       "0    2\n",
       "1    4\n",
       "Name: A, dtype: int64"
      ]
     },
     "execution_count": 74,
     "metadata": {},
     "output_type": "execute_result"
    }
   ],
   "source": [
    "import pandas as pd\n",
    "\n",
    "df = pd.DataFrame()\n",
    "df['A'] = [1,2]\n",
    "\n",
    "df['A'] + df['A']"
   ]
  },
  {
   "cell_type": "code",
   "execution_count": 77,
   "metadata": {},
   "outputs": [],
   "source": [
    "# dir(df['A'])"
   ]
  },
  {
   "cell_type": "markdown",
   "metadata": {},
   "source": [
    "## Composition\n",
    "\n",
    "object composition is a way to combine objects or data types into more complex ones. https://en.wikipedia.org/wiki/Object_composition"
   ]
  },
  {
   "cell_type": "code",
   "execution_count": 79,
   "metadata": {},
   "outputs": [],
   "source": [
    "class Leg:\n",
    "    def __init__(self, location): # all attributes a leg can have\n",
    "        self.location=location\n",
    "    \n",
    "    def move(self):\n",
    "        # all muscle movements \n",
    "        print(f'{self.location} moving leg muscles')\n",
    "    \n",
    "    \n",
    "class Lung:\n",
    "    def __init__(self):\n",
    "        pass\n",
    "\n",
    "    def breathe(self):\n",
    "        print('breating')\n",
    "        \n",
    "class Brain:\n",
    "    def __init__(self, iq):\n",
    "        self.iq = iq\n",
    "    \n",
    "    def think(self):\n",
    "        print(f'thinking with {self.iq} IQ capacity')\n",
    "\n",
    "\n",
    "## Many other classes\n",
    "\n",
    "class Animal:\n",
    "    def __init__(self, iq=100 ):\n",
    "        self.brain = Brain(iq)\n",
    "        self.left_leg = Leg('left')\n",
    "        self.right_leg = Leg('right')\n",
    "        self.lung = Lung()\n",
    "        \n",
    "    def walk(self, steps=1):\n",
    "        for i in range(steps):\n",
    "            print(f'step {i+1}')\n",
    "            self.left_leg.move()\n",
    "            self.right_leg.move()\n",
    "    \n",
    "    def eat(self):\n",
    "        # eating using mouth/beak etc\n",
    "        print('eating')\n",
    "        \n",
    "    def think(self):\n",
    "        self.brain.think()\n",
    "    \n",
    "    def breathe(self):\n",
    "        self.lung.breathe()"
   ]
  },
  {
   "cell_type": "code",
   "execution_count": 80,
   "metadata": {},
   "outputs": [
    {
     "name": "stdout",
     "output_type": "stream",
     "text": [
      "step 1\n",
      "left moving leg muscles\n",
      "right moving leg muscles\n",
      "step 2\n",
      "left moving leg muscles\n",
      "right moving leg muscles\n"
     ]
    }
   ],
   "source": [
    "chicken = Animal(iq=5)\n",
    "chicken.walk(steps=2)"
   ]
  },
  {
   "cell_type": "code",
   "execution_count": 81,
   "metadata": {},
   "outputs": [
    {
     "name": "stdout",
     "output_type": "stream",
     "text": [
      "thinking with 5 IQ capacity\n"
     ]
    }
   ],
   "source": [
    "chicken.think()"
   ]
  },
  {
   "cell_type": "code",
   "execution_count": 82,
   "metadata": {},
   "outputs": [
    {
     "name": "stdout",
     "output_type": "stream",
     "text": [
      "breating\n"
     ]
    }
   ],
   "source": [
    "chicken.breathe()"
   ]
  },
  {
   "cell_type": "markdown",
   "metadata": {},
   "source": [
    "Can you think of any example to composition from what we have learned so far?\n",
    "\n",
    "__IMPORTANT NOTE__ (Maybe not directly related.) Never design code based on real life. The code is above is for an analogy. If we try it to copy directly from life, we would keep hitting on limitations because of exceptions in real life. Eg: Penguin is a bird but cannot fly, dophin is a fish but does not lay eggs. \n",
    "\n",
    "## Aggregation (Optional but very good to know)\n",
    "Instead of instantiating objects inside the class, instantiate them outside and pass them into the class"
   ]
  },
  {
   "cell_type": "code",
   "execution_count": 83,
   "metadata": {},
   "outputs": [],
   "source": [
    "# Let's start with this example\n",
    "\n",
    "class DefaultEngine:  \n",
    "    def run(self):\n",
    "        print('default engine is running')\n",
    "\n",
    "class Vehicle:\n",
    "    def __init__(self):\n",
    "        self.engine = DefaultEngine()\n",
    "    \n",
    "    def start(self):\n",
    "        self.engine.run()\n",
    "        \n",
    "    def go(self):\n",
    "        print('going')"
   ]
  },
  {
   "cell_type": "code",
   "execution_count": 84,
   "metadata": {},
   "outputs": [
    {
     "name": "stdout",
     "output_type": "stream",
     "text": [
      "default engine is running\n"
     ]
    }
   ],
   "source": [
    "car = Vehicle()\n",
    "car.start()"
   ]
  },
  {
   "cell_type": "code",
   "execution_count": 85,
   "metadata": {},
   "outputs": [],
   "source": [
    "class AdvancedEngine:  \n",
    "    def run(self):\n",
    "        print('advanced engine is running')\n",
    "        "
   ]
  },
  {
   "cell_type": "markdown",
   "metadata": {},
   "source": [
    "How can I create the same car with this new engine?"
   ]
  },
  {
   "cell_type": "code",
   "execution_count": 86,
   "metadata": {},
   "outputs": [],
   "source": [
    "# let's redesign the class\n",
    "\n",
    "class Vehicle:\n",
    "    def __init__(self, engine=None):\n",
    "        self.engine = engine or DefaultEngine() # if engine passed in the constructor use it otherwise use DefaultEngine\n",
    "    \n",
    "    def start(self):\n",
    "        self.engine.run()\n",
    "        \n",
    "    def go(self):\n",
    "        print('going')"
   ]
  },
  {
   "cell_type": "code",
   "execution_count": 88,
   "metadata": {},
   "outputs": [
    {
     "name": "stdout",
     "output_type": "stream",
     "text": [
      "default engine is running\n",
      "advanced engine is running\n",
      "default engine is running\n"
     ]
    }
   ],
   "source": [
    "engine1 = DefaultEngine()\n",
    "engine2 = AdvancedEngine()\n",
    "\n",
    "car1 = Vehicle(engine1)\n",
    "car2 = Vehicle(engine2)\n",
    "car3 = Vehicle()\n",
    "\n",
    "car1.start()\n",
    "car2.start()\n",
    "car3.start()"
   ]
  },
  {
   "cell_type": "code",
   "execution_count": 93,
   "metadata": {},
   "outputs": [
    {
     "name": "stdout",
     "output_type": "stream",
     "text": [
      "running like crazy\n"
     ]
    }
   ],
   "source": [
    "class CrazyEngine:\n",
    "    def run(self):\n",
    "        print('running like crazy')\n",
    "        \n",
    "car4 = Vehicle(CrazyEngine())\n",
    "car4.start()"
   ]
  },
  {
   "cell_type": "code",
   "execution_count": 92,
   "metadata": {},
   "outputs": [
    {
     "name": "stdout",
     "output_type": "stream",
     "text": [
      "default engine is running\n"
     ]
    }
   ],
   "source": [
    "# will this work? \n",
    "# is it a good pattern? \n",
    "# what's wrong with this approach? \n",
    "\n",
    "class BrokenEngine:\n",
    "    def run(self):\n",
    "        print('this does not work')\n",
    "\n",
    "class Vehicle_NotGood:\n",
    "    def __init__(self, engine_type):\n",
    "        if engine_type == 'normal':\n",
    "            self.engine =  DefaultEngine()\n",
    "        elif engine_type == 'advanced':\n",
    "            self.engine = AdvancedEngine()\n",
    "        else:\n",
    "            self.engine = BrokenEngine()\n",
    "    \n",
    "    def start(self):\n",
    "        self.engine.run()\n",
    "        \n",
    "c = Vehicle_NotGood('normal')\n",
    "c.start()"
   ]
  },
  {
   "cell_type": "markdown",
   "metadata": {
    "id": "JatyeSCIf380"
   },
   "source": [
    "## Inheritence"
   ]
  },
  {
   "cell_type": "code",
   "execution_count": 100,
   "metadata": {
    "id": "dAolMk34ghvB"
   },
   "outputs": [],
   "source": [
    "class Plane(Vehicle):\n",
    "    def __init__(self, engine=None):\n",
    "        super().__init__(engine)\n",
    "        \n",
    "    def take_off(self):\n",
    "        print('taking off...')\n",
    "    \n",
    "    # override\n",
    "    def go(self): # overrides the base class' go method\n",
    "        print('flying...')"
   ]
  },
  {
   "cell_type": "code",
   "execution_count": 101,
   "metadata": {
    "id": "FpI-Ytr0g03w"
   },
   "outputs": [
    {
     "name": "stdout",
     "output_type": "stream",
     "text": [
      "default engine is running\n"
     ]
    }
   ],
   "source": [
    "plane = Plane()\n",
    "plane.start()"
   ]
  },
  {
   "cell_type": "code",
   "execution_count": 102,
   "metadata": {
    "colab": {
     "base_uri": "https://localhost:8080/"
    },
    "id": "vn-TD3rphGAg",
    "outputId": "0607f7af-ec7c-4ec1-a2b0-205d682bb4f6"
   },
   "outputs": [
    {
     "name": "stdout",
     "output_type": "stream",
     "text": [
      "taking off...\n"
     ]
    }
   ],
   "source": [
    "plane.take_off()"
   ]
  },
  {
   "cell_type": "code",
   "execution_count": 103,
   "metadata": {},
   "outputs": [
    {
     "name": "stdout",
     "output_type": "stream",
     "text": [
      "flying...\n"
     ]
    }
   ],
   "source": [
    "plane.go()"
   ]
  },
  {
   "cell_type": "code",
   "execution_count": 104,
   "metadata": {
    "colab": {
     "base_uri": "https://localhost:8080/"
    },
    "id": "6wLIcaT9hpa4",
    "outputId": "7bb1b8e9-3e4a-46c2-9e81-24abbf47e0ec"
   },
   "outputs": [
    {
     "name": "stdout",
     "output_type": "stream",
     "text": [
      "going\n"
     ]
    }
   ],
   "source": [
    "car.go()"
   ]
  },
  {
   "cell_type": "code",
   "execution_count": 107,
   "metadata": {
    "id": "uYcGMaABh6vF"
   },
   "outputs": [
    {
     "name": "stdout",
     "output_type": "stream",
     "text": [
      "jet engine is running\n",
      "flying...\n"
     ]
    }
   ],
   "source": [
    "class JetEngine(DefaultEngine):\n",
    "    # override\n",
    "    def run(self):\n",
    "        print('jet engine is running')\n",
    "        \n",
    "jet_engine = JetEngine()\n",
    "jet = Plane(jet_engine)\n",
    "\n",
    "jet.start()\n",
    "jet.go()"
   ]
  },
  {
   "cell_type": "code",
   "execution_count": 108,
   "metadata": {
    "colab": {
     "base_uri": "https://localhost:8080/"
    },
    "id": "G-7Xmm_giGhY",
    "outputId": "61bcaa03-22b2-426f-a3c5-6b0fb2fd6942"
   },
   "outputs": [
    {
     "name": "stdout",
     "output_type": "stream",
     "text": [
      "jet engine is running\n",
      "flying...\n",
      "default engine is running\n",
      "flying...\n",
      "default engine is running\n",
      "going\n"
     ]
    }
   ],
   "source": [
    "vehicles = [\n",
    "    jet,\n",
    "    plane,\n",
    "    car\n",
    "]\n",
    "\n",
    "for v in vehicles:\n",
    "    v.start()\n",
    "    v.go()"
   ]
  },
  {
   "cell_type": "markdown",
   "metadata": {},
   "source": [
    "That's how in games, thousands of different characters exhibit their own behaviors"
   ]
  },
  {
   "cell_type": "code",
   "execution_count": 109,
   "metadata": {
    "id": "ZuLlqsR75IYh"
   },
   "outputs": [
    {
     "data": {
      "text/plain": [
       "pandas.core.frame.DataFrame"
      ]
     },
     "execution_count": 109,
     "metadata": {},
     "output_type": "execute_result"
    }
   ],
   "source": [
    "import pandas as pd\n",
    "\n",
    "df = pd.DataFrame()\n",
    "type(df)"
   ]
  },
  {
   "cell_type": "code",
   "execution_count": 110,
   "metadata": {},
   "outputs": [
    {
     "ename": "ValueError",
     "evalue": "Cannot describe a DataFrame without columns",
     "output_type": "error",
     "traceback": [
      "\u001b[0;31m---------------------------------------------------------------------------\u001b[0m",
      "\u001b[0;31mValueError\u001b[0m                                Traceback (most recent call last)",
      "\u001b[0;32m<ipython-input-110-ea8415b8a3ee>\u001b[0m in \u001b[0;36m<module>\u001b[0;34m\u001b[0m\n\u001b[0;32m----> 1\u001b[0;31m \u001b[0mdf\u001b[0m\u001b[0;34m.\u001b[0m\u001b[0mdescribe\u001b[0m\u001b[0;34m(\u001b[0m\u001b[0;34m)\u001b[0m\u001b[0;34m\u001b[0m\u001b[0;34m\u001b[0m\u001b[0m\n\u001b[0m",
      "\u001b[0;32m~/opt/anaconda3/lib/python3.8/site-packages/pandas/core/generic.py\u001b[0m in \u001b[0;36mdescribe\u001b[0;34m(self, percentiles, include, exclude, datetime_is_numeric)\u001b[0m\n\u001b[1;32m  10273\u001b[0m         \"\"\"\n\u001b[1;32m  10274\u001b[0m         \u001b[0;32mif\u001b[0m \u001b[0mself\u001b[0m\u001b[0;34m.\u001b[0m\u001b[0mndim\u001b[0m \u001b[0;34m==\u001b[0m \u001b[0;36m2\u001b[0m \u001b[0;32mand\u001b[0m \u001b[0mself\u001b[0m\u001b[0;34m.\u001b[0m\u001b[0mcolumns\u001b[0m\u001b[0;34m.\u001b[0m\u001b[0msize\u001b[0m \u001b[0;34m==\u001b[0m \u001b[0;36m0\u001b[0m\u001b[0;34m:\u001b[0m\u001b[0;34m\u001b[0m\u001b[0;34m\u001b[0m\u001b[0m\n\u001b[0;32m> 10275\u001b[0;31m             \u001b[0;32mraise\u001b[0m \u001b[0mValueError\u001b[0m\u001b[0;34m(\u001b[0m\u001b[0;34m\"Cannot describe a DataFrame without columns\"\u001b[0m\u001b[0;34m)\u001b[0m\u001b[0;34m\u001b[0m\u001b[0;34m\u001b[0m\u001b[0m\n\u001b[0m\u001b[1;32m  10276\u001b[0m \u001b[0;34m\u001b[0m\u001b[0m\n\u001b[1;32m  10277\u001b[0m         \u001b[0;32mif\u001b[0m \u001b[0mpercentiles\u001b[0m \u001b[0;32mis\u001b[0m \u001b[0;32mnot\u001b[0m \u001b[0;32mNone\u001b[0m\u001b[0;34m:\u001b[0m\u001b[0;34m\u001b[0m\u001b[0;34m\u001b[0m\u001b[0m\n",
      "\u001b[0;31mValueError\u001b[0m: Cannot describe a DataFrame without columns"
     ]
    }
   ],
   "source": [
    "df.describe()"
   ]
  },
  {
   "cell_type": "code",
   "execution_count": 111,
   "metadata": {},
   "outputs": [
    {
     "ename": "AttributeError",
     "evalue": "'DataFrame' object has no attribute 'insight'",
     "output_type": "error",
     "traceback": [
      "\u001b[0;31m---------------------------------------------------------------------------\u001b[0m",
      "\u001b[0;31mAttributeError\u001b[0m                            Traceback (most recent call last)",
      "\u001b[0;32m<ipython-input-111-4a9cd57f9302>\u001b[0m in \u001b[0;36m<module>\u001b[0;34m\u001b[0m\n\u001b[0;32m----> 1\u001b[0;31m \u001b[0mdf\u001b[0m\u001b[0;34m.\u001b[0m\u001b[0minsight\u001b[0m\u001b[0;34m(\u001b[0m\u001b[0;34m)\u001b[0m\u001b[0;34m\u001b[0m\u001b[0;34m\u001b[0m\u001b[0m\n\u001b[0m",
      "\u001b[0;32m~/opt/anaconda3/lib/python3.8/site-packages/pandas/core/generic.py\u001b[0m in \u001b[0;36m__getattr__\u001b[0;34m(self, name)\u001b[0m\n\u001b[1;32m   5463\u001b[0m             \u001b[0;32mif\u001b[0m \u001b[0mself\u001b[0m\u001b[0;34m.\u001b[0m\u001b[0m_info_axis\u001b[0m\u001b[0;34m.\u001b[0m\u001b[0m_can_hold_identifiers_and_holds_name\u001b[0m\u001b[0;34m(\u001b[0m\u001b[0mname\u001b[0m\u001b[0;34m)\u001b[0m\u001b[0;34m:\u001b[0m\u001b[0;34m\u001b[0m\u001b[0;34m\u001b[0m\u001b[0m\n\u001b[1;32m   5464\u001b[0m                 \u001b[0;32mreturn\u001b[0m \u001b[0mself\u001b[0m\u001b[0;34m[\u001b[0m\u001b[0mname\u001b[0m\u001b[0;34m]\u001b[0m\u001b[0;34m\u001b[0m\u001b[0;34m\u001b[0m\u001b[0m\n\u001b[0;32m-> 5465\u001b[0;31m             \u001b[0;32mreturn\u001b[0m \u001b[0mobject\u001b[0m\u001b[0;34m.\u001b[0m\u001b[0m__getattribute__\u001b[0m\u001b[0;34m(\u001b[0m\u001b[0mself\u001b[0m\u001b[0;34m,\u001b[0m \u001b[0mname\u001b[0m\u001b[0;34m)\u001b[0m\u001b[0;34m\u001b[0m\u001b[0;34m\u001b[0m\u001b[0m\n\u001b[0m\u001b[1;32m   5466\u001b[0m \u001b[0;34m\u001b[0m\u001b[0m\n\u001b[1;32m   5467\u001b[0m     \u001b[0;32mdef\u001b[0m \u001b[0m__setattr__\u001b[0m\u001b[0;34m(\u001b[0m\u001b[0mself\u001b[0m\u001b[0;34m,\u001b[0m \u001b[0mname\u001b[0m\u001b[0;34m:\u001b[0m \u001b[0mstr\u001b[0m\u001b[0;34m,\u001b[0m \u001b[0mvalue\u001b[0m\u001b[0;34m)\u001b[0m \u001b[0;34m->\u001b[0m \u001b[0;32mNone\u001b[0m\u001b[0;34m:\u001b[0m\u001b[0;34m\u001b[0m\u001b[0;34m\u001b[0m\u001b[0m\n",
      "\u001b[0;31mAttributeError\u001b[0m: 'DataFrame' object has no attribute 'insight'"
     ]
    }
   ],
   "source": [
    "df.insight()"
   ]
  },
  {
   "cell_type": "code",
   "execution_count": 113,
   "metadata": {
    "id": "_oGULY4xYTlv"
   },
   "outputs": [],
   "source": [
    "class MyDataFrame(pd.core.frame.DataFrame):\n",
    "    # override\n",
    "    def describe(self):\n",
    "        try: \n",
    "            return super().describe()\n",
    "        \n",
    "        except ValueError as err: \n",
    "            print (err)\n",
    "            \n",
    "    def insight(self):\n",
    "        print(self.shape)\n",
    "        for col in self.columns:\n",
    "            print(col + ' has ' + str(self[col].nunique()) + ' unique values')\n",
    "            "
   ]
  },
  {
   "cell_type": "code",
   "execution_count": 114,
   "metadata": {
    "colab": {
     "base_uri": "https://localhost:8080/",
     "height": 35
    },
    "id": "bsqZvN38ZwFf",
    "outputId": "72729817-b93b-45a8-b8df-d79c6d75c84f"
   },
   "outputs": [
    {
     "data": {
      "text/plain": [
       "__main__.MyDataFrame"
      ]
     },
     "execution_count": 114,
     "metadata": {},
     "output_type": "execute_result"
    }
   ],
   "source": [
    "df = MyDataFrame()\n",
    "type(df)"
   ]
  },
  {
   "cell_type": "code",
   "execution_count": 115,
   "metadata": {},
   "outputs": [
    {
     "name": "stdout",
     "output_type": "stream",
     "text": [
      "Cannot describe a DataFrame without columns\n"
     ]
    }
   ],
   "source": [
    "df.describe()"
   ]
  },
  {
   "cell_type": "code",
   "execution_count": 116,
   "metadata": {},
   "outputs": [
    {
     "data": {
      "text/plain": [
       "pandas.core.series.Series"
      ]
     },
     "execution_count": 116,
     "metadata": {},
     "output_type": "execute_result"
    }
   ],
   "source": [
    "df['A'] = [x for x in range(100)]\n",
    "type(df['A'])"
   ]
  },
  {
   "cell_type": "code",
   "execution_count": 117,
   "metadata": {},
   "outputs": [],
   "source": [
    "df['B'] = df['A'] * 2"
   ]
  },
  {
   "cell_type": "code",
   "execution_count": 118,
   "metadata": {},
   "outputs": [],
   "source": [
    "df['C']  = ['Even' if x % 2 == 0 else 'Odd' for x in df['A']]"
   ]
  },
  {
   "cell_type": "code",
   "execution_count": 119,
   "metadata": {},
   "outputs": [
    {
     "data": {
      "text/html": [
       "<div>\n",
       "<style scoped>\n",
       "    .dataframe tbody tr th:only-of-type {\n",
       "        vertical-align: middle;\n",
       "    }\n",
       "\n",
       "    .dataframe tbody tr th {\n",
       "        vertical-align: top;\n",
       "    }\n",
       "\n",
       "    .dataframe thead th {\n",
       "        text-align: right;\n",
       "    }\n",
       "</style>\n",
       "<table border=\"1\" class=\"dataframe\">\n",
       "  <thead>\n",
       "    <tr style=\"text-align: right;\">\n",
       "      <th></th>\n",
       "      <th>A</th>\n",
       "      <th>B</th>\n",
       "      <th>C</th>\n",
       "    </tr>\n",
       "  </thead>\n",
       "  <tbody>\n",
       "    <tr>\n",
       "      <th>0</th>\n",
       "      <td>0</td>\n",
       "      <td>0</td>\n",
       "      <td>Even</td>\n",
       "    </tr>\n",
       "    <tr>\n",
       "      <th>1</th>\n",
       "      <td>1</td>\n",
       "      <td>2</td>\n",
       "      <td>Odd</td>\n",
       "    </tr>\n",
       "    <tr>\n",
       "      <th>2</th>\n",
       "      <td>2</td>\n",
       "      <td>4</td>\n",
       "      <td>Even</td>\n",
       "    </tr>\n",
       "    <tr>\n",
       "      <th>3</th>\n",
       "      <td>3</td>\n",
       "      <td>6</td>\n",
       "      <td>Odd</td>\n",
       "    </tr>\n",
       "    <tr>\n",
       "      <th>4</th>\n",
       "      <td>4</td>\n",
       "      <td>8</td>\n",
       "      <td>Even</td>\n",
       "    </tr>\n",
       "  </tbody>\n",
       "</table>\n",
       "</div>"
      ],
      "text/plain": [
       "   A  B     C\n",
       "0  0  0  Even\n",
       "1  1  2   Odd\n",
       "2  2  4  Even\n",
       "3  3  6   Odd\n",
       "4  4  8  Even"
      ]
     },
     "execution_count": 119,
     "metadata": {},
     "output_type": "execute_result"
    }
   ],
   "source": [
    "df.head()"
   ]
  },
  {
   "cell_type": "code",
   "execution_count": 120,
   "metadata": {},
   "outputs": [
    {
     "name": "stdout",
     "output_type": "stream",
     "text": [
      "(100, 3)\n",
      "A has 100 unique values\n",
      "B has 100 unique values\n",
      "C has 2 unique values\n"
     ]
    }
   ],
   "source": [
    "df.insight()"
   ]
  },
  {
   "cell_type": "markdown",
   "metadata": {},
   "source": [
    "## Abstract Classes"
   ]
  },
  {
   "cell_type": "code",
   "execution_count": 121,
   "metadata": {},
   "outputs": [],
   "source": [
    "class Shape:\n",
    "    \n",
    "    def calculate_area(self):\n",
    "        \"\"\"\n",
    "        abstract method\n",
    "        \"\"\"\n",
    "        raise NotImplemented('method not implemented')"
   ]
  },
  {
   "cell_type": "code",
   "execution_count": 122,
   "metadata": {},
   "outputs": [
    {
     "data": {
      "text/plain": [
       "16"
      ]
     },
     "execution_count": 122,
     "metadata": {},
     "output_type": "execute_result"
    }
   ],
   "source": [
    "class Square(Shape):\n",
    "    \n",
    "    def __init__(self, size):\n",
    "        self.size = size\n",
    "    \n",
    "    def calculate_area(self):\n",
    "        return self.size ** 2\n",
    "    \n",
    "s = Square(4)\n",
    "s.calculate_area()"
   ]
  },
  {
   "cell_type": "code",
   "execution_count": 123,
   "metadata": {},
   "outputs": [
    {
     "data": {
      "text/plain": [
       "25.0"
      ]
     },
     "execution_count": 123,
     "metadata": {},
     "output_type": "execute_result"
    }
   ],
   "source": [
    "class RightTriangle(Shape):\n",
    "    \n",
    "    def __init__(self, base, height):\n",
    "        self.base = base\n",
    "        self.height = height\n",
    "    \n",
    "    def calculate_area(self):\n",
    "        return self.base * self.height / 2\n",
    "    \n",
    "t = RightTriangle(10, 5)\n",
    "t.calculate_area()"
   ]
  },
  {
   "cell_type": "code",
   "execution_count": 124,
   "metadata": {},
   "outputs": [],
   "source": [
    "import os\n",
    "\n",
    "class FileProcessor:\n",
    "    \n",
    "    def __init__(self, path='../', file_types=['.csv']):\n",
    "        print('doing some initialization')\n",
    "        \n",
    "        self.files = self.find_all_files(path, file_types)\n",
    "\n",
    "    \n",
    "    def find_all_files(self, path, file_types):\n",
    "        paths = []\n",
    "        for root, dirs, files in os.walk(path):\n",
    "            for file in files:\n",
    "                if any([file.endswith(ft) for ft in file_types]):\n",
    "                    path = os.path.join(root, file)\n",
    "                    # print(path)\n",
    "                    paths.append(path)\n",
    "        return paths\n",
    "    \n",
    "    def start(self):\n",
    "        \"\"\"\n",
    "        Entry point for the class\n",
    "        \"\"\"\n",
    "        for file in self.files:\n",
    "            self.process_file(file)\n",
    "        \n",
    "    def process_file(self, file_path):\n",
    "        \"\"\"\n",
    "        abstract method\n",
    "        \"\"\"\n",
    "        raise NotImplemented('process_file method not implemented')"
   ]
  },
  {
   "cell_type": "code",
   "execution_count": 125,
   "metadata": {},
   "outputs": [
    {
     "name": "stdout",
     "output_type": "stream",
     "text": [
      "doing some initialization\n"
     ]
    },
    {
     "ename": "TypeError",
     "evalue": "'NotImplementedType' object is not callable",
     "output_type": "error",
     "traceback": [
      "\u001b[0;31m---------------------------------------------------------------------------\u001b[0m",
      "\u001b[0;31mTypeError\u001b[0m                                 Traceback (most recent call last)",
      "\u001b[0;32m<ipython-input-125-3ad8086a3ce6>\u001b[0m in \u001b[0;36m<module>\u001b[0;34m\u001b[0m\n\u001b[0;32m----> 1\u001b[0;31m \u001b[0mFileProcessor\u001b[0m\u001b[0;34m(\u001b[0m\u001b[0;34m)\u001b[0m\u001b[0;34m.\u001b[0m\u001b[0mstart\u001b[0m\u001b[0;34m(\u001b[0m\u001b[0;34m)\u001b[0m\u001b[0;34m\u001b[0m\u001b[0;34m\u001b[0m\u001b[0m\n\u001b[0m",
      "\u001b[0;32m<ipython-input-124-2277bad4031f>\u001b[0m in \u001b[0;36mstart\u001b[0;34m(self)\u001b[0m\n\u001b[1;32m     24\u001b[0m         \"\"\"\n\u001b[1;32m     25\u001b[0m         \u001b[0;32mfor\u001b[0m \u001b[0mfile\u001b[0m \u001b[0;32min\u001b[0m \u001b[0mself\u001b[0m\u001b[0;34m.\u001b[0m\u001b[0mfiles\u001b[0m\u001b[0;34m:\u001b[0m\u001b[0;34m\u001b[0m\u001b[0;34m\u001b[0m\u001b[0m\n\u001b[0;32m---> 26\u001b[0;31m             \u001b[0mself\u001b[0m\u001b[0;34m.\u001b[0m\u001b[0mprocess_file\u001b[0m\u001b[0;34m(\u001b[0m\u001b[0mfile\u001b[0m\u001b[0;34m)\u001b[0m\u001b[0;34m\u001b[0m\u001b[0;34m\u001b[0m\u001b[0m\n\u001b[0m\u001b[1;32m     27\u001b[0m \u001b[0;34m\u001b[0m\u001b[0m\n\u001b[1;32m     28\u001b[0m     \u001b[0;32mdef\u001b[0m \u001b[0mprocess_file\u001b[0m\u001b[0;34m(\u001b[0m\u001b[0mself\u001b[0m\u001b[0;34m,\u001b[0m \u001b[0mfile_path\u001b[0m\u001b[0;34m)\u001b[0m\u001b[0;34m:\u001b[0m\u001b[0;34m\u001b[0m\u001b[0;34m\u001b[0m\u001b[0m\n",
      "\u001b[0;32m<ipython-input-124-2277bad4031f>\u001b[0m in \u001b[0;36mprocess_file\u001b[0;34m(self, file_path)\u001b[0m\n\u001b[1;32m     30\u001b[0m         \u001b[0mabstract\u001b[0m \u001b[0mmethod\u001b[0m\u001b[0;34m\u001b[0m\u001b[0;34m\u001b[0m\u001b[0m\n\u001b[1;32m     31\u001b[0m         \"\"\"\n\u001b[0;32m---> 32\u001b[0;31m         \u001b[0;32mraise\u001b[0m \u001b[0mNotImplemented\u001b[0m\u001b[0;34m(\u001b[0m\u001b[0;34m'process_file method not implemented'\u001b[0m\u001b[0;34m)\u001b[0m\u001b[0;34m\u001b[0m\u001b[0;34m\u001b[0m\u001b[0m\n\u001b[0m",
      "\u001b[0;31mTypeError\u001b[0m: 'NotImplementedType' object is not callable"
     ]
    }
   ],
   "source": [
    "FileProcessor().start()"
   ]
  },
  {
   "cell_type": "code",
   "execution_count": 126,
   "metadata": {},
   "outputs": [
    {
     "name": "stdout",
     "output_type": "stream",
     "text": [
      "doing some initialization\n",
      "../Week06/world_cup.csv contains sensitive data\n",
      "../Week06/data-text.csv contains sensitive data\n",
      "../Week06/labs/volunteers.csv contains sensitive data\n",
      "../Week06/labs/__MACOSX/._PoliceShootingsUS.csv contains sensitive data\n",
      "../Week06/__MACOSX/._world_cup.csv contains sensitive data\n",
      "../Week08/notebooks/data/RollingSystemDemand_20190314_0043.csv contains sensitive data\n",
      "../Week08/notebooks/data/RollingSystemDemand_20180901_0129.csv contains sensitive data\n",
      "../Week09/data/freeFormResponses.csv contains sensitive data\n",
      "../Week09/data/hw_data.csv contains sensitive data\n",
      "../Week09/data/hw_data_less_spicy.csv contains sensitive data\n",
      "../Week05/homework/chrome_history.csv contains sensitive data\n",
      "../Week05/homework/history_cleaned.csv contains sensitive data\n",
      "../Week05/homework/.d/history.csv contains sensitive data\n",
      "../Week05/homework/.d/chrome_history.csv contains sensitive data\n",
      "../Week05/homework/.d/history_cleaned.csv contains sensitive data\n",
      "../Week05/data/housing.csv contains sensitive data\n",
      "../Week05/data/Teams.csv contains sensitive data\n",
      "../Week05/data/Hitters.csv contains sensitive data\n",
      "../Week05/data/LoanStats3a.csv contains sensitive data\n",
      "../Week02/data/bowling_stats.csv contains sensitive data\n",
      "../Week02/data/all_seasons.csv contains sensitive data\n",
      "../Week03/data/sample_pipe_separated.csv contains sensitive data\n",
      "../Week03/data/sample_with_quotes.csv contains sensitive data\n",
      "../Week03/data/sample.csv contains sensitive data\n",
      "../Week04/data/bowling_stats.csv contains sensitive data\n",
      "../Week04/data/PoliceShootingsUS.csv contains sensitive data\n"
     ]
    }
   ],
   "source": [
    "class ContainsSensitiveData(FileProcessor):\n",
    "    def process_file(self, file_path):\n",
    "        print(file_path, 'contains sensitive data')\n",
    "        \n",
    "        \n",
    "ContainsSensitiveData().start()"
   ]
  },
  {
   "cell_type": "markdown",
   "metadata": {
    "id": "bS1iBUxsvksf"
   },
   "source": [
    "# Part-III"
   ]
  },
  {
   "cell_type": "markdown",
   "metadata": {
    "id": "noJG-595vn-C"
   },
   "source": [
    "Work on your lab"
   ]
  },
  {
   "cell_type": "markdown",
   "metadata": {
    "id": "pnHyEAENp6vm"
   },
   "source": [
    "## Resources"
   ]
  },
  {
   "cell_type": "markdown",
   "metadata": {
    "id": "UxerlL53qhSm"
   },
   "source": [
    "[Py4e - OOP](https://www.py4e.com/lessons/Objects#)\n",
    "\n",
    "[Python OOP Tutorials](https://www.youtube.com/playlist?list=PL-osiE80TeTsqhIuOqKhwlXsIBIdSeYtc)\n",
    "\n",
    "[Imperative vs Declarative Programming](https://www.youtube.com/watch?v=yOBBkIJBEL8&ab_channel=TadasPetra)\n",
    "\n",
    "[Python OPP Exercises](https://pynative.com/python-object-oriented-programming-oop-exercise/)"
   ]
  }
 ],
 "metadata": {
  "colab": {
   "collapsed_sections": [],
   "name": "Instructor_Copy_OOP.ipynb",
   "provenance": []
  },
  "kernelspec": {
   "display_name": "Python 3",
   "language": "python",
   "name": "python3"
  },
  "language_info": {
   "codemirror_mode": {
    "name": "ipython",
    "version": 3
   },
   "file_extension": ".py",
   "mimetype": "text/x-python",
   "name": "python",
   "nbconvert_exporter": "python",
   "pygments_lexer": "ipython3",
   "version": "3.8.8"
  },
  "toc": {
   "base_numbering": 1,
   "nav_menu": {},
   "number_sections": true,
   "sideBar": true,
   "skip_h1_title": false,
   "title_cell": "Table of Contents",
   "title_sidebar": "Contents",
   "toc_cell": false,
   "toc_position": {},
   "toc_section_display": true,
   "toc_window_display": false
  }
 },
 "nbformat": 4,
 "nbformat_minor": 1
}
