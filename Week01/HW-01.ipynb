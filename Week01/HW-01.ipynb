{
 "cells": [
  {
   "cell_type": "markdown",
   "metadata": {
    "id": "hl3pVnDDs6Se"
   },
   "source": [
    "# Rules\n",
    "\n",
    "- We will grade only the answer cells, so make sure that you type your answer inside of the answer cell. \n",
    "\n",
    "- Make sure that your code is working when you restart the kernel. Notebooks are great tools for exploration but we should be very careful as we are writing codes. For more, please check: [Why notebooks suck](https://towardsdatascience.com/5-reasons-why-jupyter-notebooks-suck-4dc201e27086)\n",
    "\n",
    "- Make sure that your results are in the correct format. If we ask you to return a list, your answer should be in a list format. If the question asks you to return a scalar (float, int, etc.) then make sure that your answer is in the correct format.\n",
    "\n",
    "## Homework\n",
    "\n",
    "1. Correct the formatting of markdown cells\n",
    "    * Use appropriate headers\n",
    "1. Finish the coding sections."
   ]
  },
  {
   "cell_type": "markdown",
   "metadata": {
    "id": "Tur9zoV6qB4I"
   },
   "source": [
    "Question-1\n",
    "\n",
    "Write a Python function to return a **list** of all the numbers from 1 to n which are divisible by 5. `n` will be given as an argument to your function.\n"
   ]
  },
  {
   "cell_type": "code",
   "execution_count": 1,
   "metadata": {
    "id": "bBH79NeVs1m1"
   },
   "outputs": [
    {
     "name": "stdout",
     "output_type": "stream",
     "text": [
      "['5', '10', '15', '20', '25', '30', '35', '40', '45', '50', '55', '60', '65', '70', '75', '80', '85', '90', '95', '100', '105', '110', '115', '120']\n"
     ]
    },
    {
     "data": {
      "text/plain": [
       "['5',\n",
       " '10',\n",
       " '15',\n",
       " '20',\n",
       " '25',\n",
       " '30',\n",
       " '35',\n",
       " '40',\n",
       " '45',\n",
       " '50',\n",
       " '55',\n",
       " '60',\n",
       " '65',\n",
       " '70',\n",
       " '75',\n",
       " '80',\n",
       " '85',\n",
       " '90',\n",
       " '95',\n",
       " '100',\n",
       " '105',\n",
       " '110',\n",
       " '115',\n",
       " '120']"
      ]
     },
     "execution_count": 1,
     "metadata": {},
     "output_type": "execute_result"
    }
   ],
   "source": [
    "# Your Answer Cell\n",
    "# you can edit the function below. \n",
    "# Don't change function name and parameter names.\n",
    "# you can define new variables inside of the function.\n",
    "\n",
    "def divisible_five(given_number):\n",
    "    my_list = []\n",
    "    for i in range(1,given_number):\n",
    "        if (i%5==0):\n",
    "            my_list.append(str(i))\n",
    "    print(my_list)\n",
    "    return my_list\n",
    "\n",
    "divisible_five(121)"
   ]
  },
  {
   "cell_type": "markdown",
   "metadata": {
    "id": "9DpQ6X0io0If"
   },
   "source": [
    "Question-2\n",
    "\n",
    "Write a function that returns the sum of all the multiples of 3 or 7 below a given number.\n"
   ]
  },
  {
   "cell_type": "code",
   "execution_count": 2,
   "metadata": {
    "id": "rmYpunGwp-bq"
   },
   "outputs": [
    {
     "name": "stdout",
     "output_type": "stream",
     "text": [
      "21426429\n"
     ]
    }
   ],
   "source": [
    "# Your Answer Cell\n",
    "# you can edit the function below. \n",
    "# Don't change function name and parameter names.\n",
    "# you can define new variables inside of the function.\n",
    "\n",
    "def my_function(given_number):\n",
    "    my_list=[]\n",
    "    for x in range(1,given_number):\n",
    "        if (x%3==0) or (x%7==0):\n",
    "            my_list.append(int(x))\n",
    "    Sum=sum(my_list)\n",
    "    print(Sum)\n",
    "\n",
    "    return\n",
    "    ## your answer above\n",
    "\n",
    "my_function(10000)\n"
   ]
  },
  {
   "cell_type": "markdown",
   "metadata": {
    "id": "inGr4AOovJhj"
   },
   "source": [
    "Question-3 (Shell & Magic Commands)\n"
   ]
  },
  {
   "cell_type": "markdown",
   "metadata": {
    "id": "54izIMcAwgud"
   },
   "source": [
    "Question-3-a\n",
    "\n",
    "Below print current working directory."
   ]
  },
  {
   "cell_type": "code",
   "execution_count": 39,
   "metadata": {
    "id": "0O27azQfvZjv"
   },
   "outputs": [
    {
     "data": {
      "text/plain": [
       "'/Users/udvegreddy/Documents/GitHub/DS601_Fall21/Week01/content/content/my_directory/content/my_directory/content/my_directory/content/my_directory/content/my_directory/content/my_directory/content/my_directory'"
      ]
     },
     "execution_count": 39,
     "metadata": {},
     "output_type": "execute_result"
    },
    {
     "name": "stdout",
     "output_type": "stream",
     "text": [
      "ERROR! Session/line number was not unique in database. History logging moved to new session 5\n"
     ]
    }
   ],
   "source": [
    "## Answer Cell \n",
    "import os\n",
    "os.getcwd()\n",
    "\n"
   ]
  },
  {
   "cell_type": "markdown",
   "metadata": {
    "id": "lDzXCiGnvbMO"
   },
   "source": [
    "Question-3-b\n",
    "\n",
    "Below list all the files and folders in the current working directory."
   ]
  },
  {
   "cell_type": "code",
   "execution_count": 40,
   "metadata": {
    "id": "SHnZDzFZwUeB"
   },
   "outputs": [
    {
     "data": {
      "text/plain": [
       "['my_script.py', 'data']"
      ]
     },
     "execution_count": 40,
     "metadata": {},
     "output_type": "execute_result"
    }
   ],
   "source": [
    "## Answer Cell\n",
    "os.listdir()\n"
   ]
  },
  {
   "cell_type": "markdown",
   "metadata": {
    "id": "PT3fPRc3wWh1"
   },
   "source": [
    "Question 3-c\n",
    "\n",
    "Create a new directory within the current working directory 'data'"
   ]
  },
  {
   "cell_type": "code",
   "execution_count": 41,
   "metadata": {
    "id": "cvhzEyZNwXdn"
   },
   "outputs": [
    {
     "name": "stdout",
     "output_type": "stream",
     "text": [
      "mkdir: data: File exists\r\n"
     ]
    }
   ],
   "source": [
    "## Answer Cell\n",
    "\n",
    "%mkdir data\n"
   ]
  },
  {
   "cell_type": "markdown",
   "metadata": {
    "id": "bKn3RzJgwYnc"
   },
   "source": [
    "Question-3-d\n",
    "\n",
    "Change the working directory to 'data'\n",
    "print current working directory again to make sure that your answer is correct."
   ]
  },
  {
   "cell_type": "code",
   "execution_count": 6,
   "metadata": {
    "id": "TnhNhVO3wZsl"
   },
   "outputs": [
    {
     "data": {
      "text/plain": [
       "'/Users/udvegreddy/Documents/GitHub/DS601_Fall21/Week01/data'"
      ]
     },
     "execution_count": 6,
     "metadata": {},
     "output_type": "execute_result"
    }
   ],
   "source": [
    "## Answer Cell\n",
    "import os\n",
    "os.chdir(r\"/Users/udvegreddy/Documents/GitHub/DS601_Fall21/Week01/data\")\n",
    "os.getcwd()\n"
   ]
  },
  {
   "cell_type": "markdown",
   "metadata": {
    "id": "2DYjo1LqyjcW"
   },
   "source": [
    "Question-3-e\n",
    "\n",
    "Create a new file under 'content/my_directory' and name it 'my_script.py'"
   ]
  },
  {
   "cell_type": "code",
   "execution_count": 43,
   "metadata": {
    "id": "khNRtjC6yzCf"
   },
   "outputs": [
    {
     "name": "stdout",
     "output_type": "stream",
     "text": [
      "/Users/udvegreddy/Documents/GitHub/DS601_Fall21/Week01/content/content/my_directory/content/my_directory/content/my_directory/content/my_directory/content/my_directory/content/my_directory/content/my_directory/content\n",
      "/Users/udvegreddy/Documents/GitHub/DS601_Fall21/Week01/content/content/my_directory/content/my_directory/content/my_directory/content/my_directory/content/my_directory/content/my_directory/content/my_directory/content/my_directory\n"
     ]
    },
    {
     "data": {
      "text/plain": [
       "<_io.TextIOWrapper name='my_script.py' mode='w' encoding='UTF-8'>"
      ]
     },
     "execution_count": 43,
     "metadata": {},
     "output_type": "execute_result"
    }
   ],
   "source": [
    "## Answer Cell\n",
    "%mkdir content \n",
    "%cd content \n",
    "%mkdir my_directory\n",
    "%cd my_directory\n",
    "open(\"my_script.py\",\"w\")\n",
    "\n"
   ]
  },
  {
   "cell_type": "markdown",
   "metadata": {
    "id": "OZPKFtqX1Wev"
   },
   "source": [
    "Question-3-f\n",
    "\n",
    "Create 'my_script.py' so that it prints 'Your First Name-Your Last Name' and run this scripy in the cell below."
   ]
  },
  {
   "cell_type": "code",
   "execution_count": 44,
   "metadata": {
    "id": "n7i7G_YE1qi0"
   },
   "outputs": [
    {
     "name": "stdout",
     "output_type": "stream",
     "text": [
      "Udveg Reddy Jukanti\r\n"
     ]
    }
   ],
   "source": [
    "## Answer Cell\n",
    "!echo \"Udveg Reddy Jukanti\" > my_script.py\n",
    "!cat my_script.py\n",
    "\n"
   ]
  },
  {
   "cell_type": "markdown",
   "metadata": {},
   "source": [
    "Question-4\n",
    "\n",
    "Commit & push to your repo"
   ]
  },
  {
   "cell_type": "code",
   "execution_count": 47,
   "metadata": {},
   "outputs": [
    {
     "ename": "SyntaxError",
     "evalue": "invalid syntax (<ipython-input-47-ec67ddce3bad>, line 2)",
     "output_type": "error",
     "traceback": [
      "\u001b[0;36m  File \u001b[0;32m\"<ipython-input-47-ec67ddce3bad>\"\u001b[0;36m, line \u001b[0;32m2\u001b[0m\n\u001b[0;31m    git init\u001b[0m\n\u001b[0m        ^\u001b[0m\n\u001b[0;31mSyntaxError\u001b[0m\u001b[0;31m:\u001b[0m invalid syntax\n"
     ]
    }
   ],
   "source": [
    "## Answer Cell\n",
    "git init\n",
    "git add .\n",
    "git status "
   ]
  },
  {
   "cell_type": "code",
   "execution_count": null,
   "metadata": {},
   "outputs": [],
   "source": []
  }
 ],
 "metadata": {
  "colab": {
   "collapsed_sections": [],
   "name": "HW-1.ipynb",
   "provenance": []
  },
  "interpreter": {
   "hash": "31f2aee4e71d21fbe5cf8b01ff0e069b9275f58929596ceb00d14d90e3e16cd6"
  },
  "kernelspec": {
   "display_name": "Python 3",
   "language": "python",
   "name": "python3"
  },
  "language_info": {
   "codemirror_mode": {
    "name": "ipython",
    "version": 3
   },
   "file_extension": ".py",
   "mimetype": "text/x-python",
   "name": "python",
   "nbconvert_exporter": "python",
   "pygments_lexer": "ipython3",
   "version": "3.8.8"
  },
  "toc": {
   "base_numbering": 1,
   "nav_menu": {},
   "number_sections": false,
   "sideBar": true,
   "skip_h1_title": false,
   "title_cell": "Table of Contents",
   "title_sidebar": "Contents",
   "toc_cell": false,
   "toc_position": {},
   "toc_section_display": true,
   "toc_window_display": true
  }
 },
 "nbformat": 4,
 "nbformat_minor": 1
}
