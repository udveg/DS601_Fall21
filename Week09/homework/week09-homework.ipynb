{
 "cells": [
  {
   "cell_type": "markdown",
   "id": "29b0083e",
   "metadata": {},
   "source": [
    "# Week9 Homework\n",
    "## Working with Strings\n",
    "\n",
    "The data frame contains notes taken by staff members. Your task is to clean it up to make it usable for analysis. \n",
    "\n",
    "### Tasks\n",
    "* Create start date, end date columns and populate the values (If notes don't include month or day use 1) i.e: 2018 => 2018-01-01\n",
    "\n",
    "* Create phone number column (If notes don't include phone numbers, use None)\n",
    "* Create a column `duration` showing difference between start & end dates in years as a whole number"
   ]
  },
  {
   "cell_type": "code",
   "execution_count": 1,
   "id": "2e44e5c3",
   "metadata": {},
   "outputs": [],
   "source": [
    "import pandas as pd"
   ]
  },
  {
   "cell_type": "code",
   "execution_count": 4,
   "id": "e80d70bc",
   "metadata": {},
   "outputs": [],
   "source": [
    "df = pd.read_csv('https://raw.githubusercontent.com/msaricaumbc/DS601_Fall21/main/Week09/data/hw_data.csv', index_col=0)"
   ]
  },
  {
   "cell_type": "code",
   "execution_count": 5,
   "id": "28e8a48a",
   "metadata": {},
   "outputs": [
    {
     "data": {
      "text/html": [
       "<div>\n",
       "<style scoped>\n",
       "    .dataframe tbody tr th:only-of-type {\n",
       "        vertical-align: middle;\n",
       "    }\n",
       "\n",
       "    .dataframe tbody tr th {\n",
       "        vertical-align: top;\n",
       "    }\n",
       "\n",
       "    .dataframe thead th {\n",
       "        text-align: right;\n",
       "    }\n",
       "</style>\n",
       "<table border=\"1\" class=\"dataframe\">\n",
       "  <thead>\n",
       "    <tr style=\"text-align: right;\">\n",
       "      <th></th>\n",
       "      <th>email</th>\n",
       "      <th>notes</th>\n",
       "    </tr>\n",
       "  </thead>\n",
       "  <tbody>\n",
       "    <tr>\n",
       "      <th>0</th>\n",
       "      <td>fosterjennifer@gmail.com</td>\n",
       "      <td>st Dt February 2005 ed dt;10/27/2011</td>\n",
       "    </tr>\n",
       "    <tr>\n",
       "      <th>1</th>\n",
       "      <td>vanessastephens@gmail.com</td>\n",
       "      <td>st date:1974-05-21 end date 06/17/2013 pn:  00...</td>\n",
       "    </tr>\n",
       "    <tr>\n",
       "      <th>2</th>\n",
       "      <td>vsmith@yahoo.com</td>\n",
       "      <td>start dt 01/14/1985-ed date:2021-03-21</td>\n",
       "    </tr>\n",
       "    <tr>\n",
       "      <th>3</th>\n",
       "      <td>tammymorgan@gmail.com</td>\n",
       "      <td>STDT July 1973-end dt 01/20/2012</td>\n",
       "    </tr>\n",
       "    <tr>\n",
       "      <th>4</th>\n",
       "      <td>kimberlylyons@mason-solis.biz</td>\n",
       "      <td>st date:09/28/2002-ENDT 04/10-p/n  929-878-4923</td>\n",
       "    </tr>\n",
       "  </tbody>\n",
       "</table>\n",
       "</div>"
      ],
      "text/plain": [
       "                           email  \\\n",
       "0       fosterjennifer@gmail.com   \n",
       "1      vanessastephens@gmail.com   \n",
       "2               vsmith@yahoo.com   \n",
       "3          tammymorgan@gmail.com   \n",
       "4  kimberlylyons@mason-solis.biz   \n",
       "\n",
       "                                               notes  \n",
       "0               st Dt February 2005 ed dt;10/27/2011  \n",
       "1  st date:1974-05-21 end date 06/17/2013 pn:  00...  \n",
       "2             start dt 01/14/1985-ed date:2021-03-21  \n",
       "3                   STDT July 1973-end dt 01/20/2012  \n",
       "4    st date:09/28/2002-ENDT 04/10-p/n  929-878-4923  "
      ]
     },
     "execution_count": 5,
     "metadata": {},
     "output_type": "execute_result"
    }
   ],
   "source": [
    "df.head()"
   ]
  },
  {
   "cell_type": "code",
   "execution_count": null,
   "id": "f9954139",
   "metadata": {},
   "outputs": [],
   "source": []
  }
 ],
 "metadata": {
  "kernelspec": {
   "display_name": "Python 3",
   "language": "python",
   "name": "python3"
  },
  "language_info": {
   "codemirror_mode": {
    "name": "ipython",
    "version": 3
   },
   "file_extension": ".py",
   "mimetype": "text/x-python",
   "name": "python",
   "nbconvert_exporter": "python",
   "pygments_lexer": "ipython3",
   "version": "3.8.8"
  },
  "toc": {
   "base_numbering": 1,
   "nav_menu": {},
   "number_sections": true,
   "sideBar": true,
   "skip_h1_title": false,
   "title_cell": "Table of Contents",
   "title_sidebar": "Contents",
   "toc_cell": false,
   "toc_position": {},
   "toc_section_display": true,
   "toc_window_display": false
  }
 },
 "nbformat": 4,
 "nbformat_minor": 5
}
