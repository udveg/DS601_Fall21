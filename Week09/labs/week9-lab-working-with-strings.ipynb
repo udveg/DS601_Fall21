{
 "cells": [
  {
   "cell_type": "markdown",
   "id": "4653b546",
   "metadata": {
    "id": "FEcJY1uqA2Q9"
   },
   "source": [
    "# Week9 - Lab \n",
    "## Working with Strings\n",
    "\n",
    "[Kaggle ML & Data Science Survey - 2018](https://www.kaggle.com/kaggle/kaggle-survey-2018?select=freeFormResponses.csv)"
   ]
  },
  {
   "cell_type": "code",
   "execution_count": null,
   "id": "2d390a49",
   "metadata": {
    "colab": {
     "base_uri": "https://localhost:8080/"
    },
    "id": "giFAxWtpGouQ",
    "outputId": "8c56722c-6a81-4ec0-abdf-fbab13caf6fb"
   },
   "outputs": [],
   "source": [
    "import pandas as pd\n",
    "\n",
    "df = pd.read_csv('https://raw.githubusercontent.com/msaricaumbc/DS601_Fall21/main/Week09/data/freeFormResponses.csv', low_memory=False)"
   ]
  },
  {
   "cell_type": "code",
   "execution_count": null,
   "id": "224182af",
   "metadata": {
    "colab": {
     "base_uri": "https://localhost:8080/",
     "height": 191
    },
    "id": "AOPqS6OMGAfd",
    "outputId": "5c6c48a0-1ea8-45f9-d4ac-a6fc9f8716c0",
    "scrolled": true
   },
   "outputs": [],
   "source": [
    "for i, question in enumerate(df.loc[0].values):\n",
    "    print(i, question)"
   ]
  },
  {
   "cell_type": "code",
   "execution_count": null,
   "id": "a5498bcd",
   "metadata": {
    "colab": {
     "base_uri": "https://localhost:8080/",
     "height": 172
    },
    "id": "Bjhqz7x0F-OD",
    "outputId": "8f1c2b3f-901d-40d0-f726-9b8b3a4a46dc",
    "scrolled": true
   },
   "outputs": [],
   "source": [
    "df.loc[:, 'Q12_Part_4_TEXT'].value_counts().sort_values(ascending =False)[150:200]"
   ]
  },
  {
   "cell_type": "markdown",
   "id": "27d09d31",
   "metadata": {
    "id": "cWWUuWkZGwaN"
   },
   "source": [
    "__Your Task__\n",
    "\n",
    "- In  `Q12_Part_4_TEXT` they ask the tools the participants are using day to day. However as you might observe the answers are not standardized. \n",
    "\n",
    "- Find all the answers with 'jupyter' mentioned in it.\n",
    "\n",
    "- Find all the participant who are Python users.\n",
    "\n",
    "- Find all R users. "
   ]
  },
  {
   "cell_type": "code",
   "execution_count": null,
   "id": "037ba556",
   "metadata": {},
   "outputs": [],
   "source": []
  }
 ],
 "metadata": {
  "kernelspec": {
   "display_name": "Python 3",
   "language": "python",
   "name": "python3"
  },
  "language_info": {
   "codemirror_mode": {
    "name": "ipython",
    "version": 3
   },
   "file_extension": ".py",
   "mimetype": "text/x-python",
   "name": "python",
   "nbconvert_exporter": "python",
   "pygments_lexer": "ipython3",
   "version": "3.8.8"
  },
  "toc": {
   "base_numbering": 1,
   "nav_menu": {},
   "number_sections": true,
   "sideBar": true,
   "skip_h1_title": false,
   "title_cell": "Table of Contents",
   "title_sidebar": "Contents",
   "toc_cell": false,
   "toc_position": {},
   "toc_section_display": true,
   "toc_window_display": false
  }
 },
 "nbformat": 4,
 "nbformat_minor": 5
}
