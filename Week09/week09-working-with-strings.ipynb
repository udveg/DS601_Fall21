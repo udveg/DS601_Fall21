{
 "cells": [
  {
   "cell_type": "markdown",
   "metadata": {
    "id": "kny7tsFW2hs6"
   },
   "source": [
    "# Agenda\n",
    "\n",
    "- Review of some string methods\n",
    "\n",
    "- Regular Expressions"
   ]
  },
  {
   "cell_type": "markdown",
   "metadata": {
    "id": "toKuJg9BCu_H"
   },
   "source": [
    "# String Methods Reviewed"
   ]
  },
  {
   "cell_type": "markdown",
   "metadata": {
    "id": "xSx8tysKLOrx"
   },
   "source": [
    "## Using Double Quotes - Single Quotes"
   ]
  },
  {
   "cell_type": "code",
   "execution_count": 1,
   "metadata": {
    "id": "J24ieukjLaZa"
   },
   "outputs": [],
   "source": [
    "## Here let's discuss the differences and use cases of single, double and triple quotes\n",
    "\n",
    "string1 = 'Hello World!'\n",
    "string2 = \"Hello World!\"\n",
    "string3 = \"\"\"Hello World!\"\"\""
   ]
  },
  {
   "cell_type": "code",
   "execution_count": 2,
   "metadata": {
    "colab": {
     "base_uri": "https://localhost:8080/"
    },
    "id": "HbVDMowmPXN8",
    "outputId": "3d5a9f49-f6a3-40cf-bf28-b3537e850630"
   },
   "outputs": [
    {
     "name": "stdout",
     "output_type": "stream",
     "text": [
      "Hello World! Hello World! Hello World!\n"
     ]
    }
   ],
   "source": [
    "print(string1, string2, string3)"
   ]
  },
  {
   "cell_type": "code",
   "execution_count": 3,
   "metadata": {
    "colab": {
     "base_uri": "https://localhost:8080/",
     "height": 134
    },
    "id": "2Ja_fN0JPpZI",
    "outputId": "f83e9f8b-5b2f-4105-8300-74206b5d12d1"
   },
   "outputs": [
    {
     "ename": "SyntaxError",
     "evalue": "invalid syntax (<ipython-input-3-cbbd97b91fab>, line 2)",
     "output_type": "error",
     "traceback": [
      "\u001b[0;36m  File \u001b[0;32m\"<ipython-input-3-cbbd97b91fab>\"\u001b[0;36m, line \u001b[0;32m2\u001b[0m\n\u001b[0;31m    'This is Data 601's notebook\u001b[0m\n\u001b[0m                      ^\u001b[0m\n\u001b[0;31mSyntaxError\u001b[0m\u001b[0;31m:\u001b[0m invalid syntax\n"
     ]
    }
   ],
   "source": [
    "## this would not work!\n",
    "'This is Data 601's notebook"
   ]
  },
  {
   "cell_type": "code",
   "execution_count": 19,
   "metadata": {
    "colab": {
     "base_uri": "https://localhost:8080/",
     "height": 36
    },
    "id": "2fEHlMk2P0rR",
    "outputId": "b5ca38c0-518a-4592-9a7c-95f065ecec51"
   },
   "outputs": [
    {
     "data": {
      "text/plain": [
       "'This is \"Data\" 601\\'s notebook'"
      ]
     },
     "execution_count": 19,
     "metadata": {},
     "output_type": "execute_result"
    }
   ],
   "source": [
    "## this would work!\n",
    "\"This is \\\"Data\\\" 601's notebook\""
   ]
  },
  {
   "cell_type": "code",
   "execution_count": 20,
   "metadata": {
    "id": "6UC5QhwSP7r7"
   },
   "outputs": [],
   "source": [
    "string4 = \"\"\"\n",
    "Hello Class!\n",
    "\n",
    "This is Data 601!\n",
    " \n",
    "            Wow! this is fun!\n",
    "\n",
    "\"\"\""
   ]
  },
  {
   "cell_type": "code",
   "execution_count": 21,
   "metadata": {
    "colab": {
     "base_uri": "https://localhost:8080/"
    },
    "id": "QyISlWzGQP6_",
    "outputId": "6e0157d9-d0c3-4ca0-9b61-9c44401ad64f"
   },
   "outputs": [
    {
     "name": "stdout",
     "output_type": "stream",
     "text": [
      "\n",
      "Hello Class!\n",
      "\n",
      "This is Data 601!\n",
      " \n",
      "            Wow! this is fun!\n",
      "\n",
      "\n"
     ]
    }
   ],
   "source": [
    "print(string4)"
   ]
  },
  {
   "cell_type": "code",
   "execution_count": 22,
   "metadata": {
    "id": "Rhbx5RmBQYJO"
   },
   "outputs": [],
   "source": [
    "def myfunction(a, b):\n",
    "  \"\"\"\n",
    "  This function is mine\n",
    "  inputs:\n",
    "  -----\n",
    "  a: int\n",
    "  b: str\n",
    "  _____\n",
    "  return: lst \n",
    "  \"\"\"\n",
    "  return [a,b]"
   ]
  },
  {
   "cell_type": "code",
   "execution_count": 23,
   "metadata": {
    "colab": {
     "base_uri": "https://localhost:8080/"
    },
    "id": "uFYqWNVuQsrH",
    "outputId": "de04a930-1b56-4bec-d861-7cd8f48392f1"
   },
   "outputs": [
    {
     "data": {
      "text/plain": [
       "[3, 4]"
      ]
     },
     "execution_count": 23,
     "metadata": {},
     "output_type": "execute_result"
    }
   ],
   "source": [
    "## we can see the doc string \n",
    "myfunction(3,4)"
   ]
  },
  {
   "cell_type": "code",
   "execution_count": 24,
   "metadata": {
    "id": "ZQi8m1GPQxAI"
   },
   "outputs": [],
   "source": [
    "import numpy as np\n"
   ]
  },
  {
   "cell_type": "code",
   "execution_count": 25,
   "metadata": {
    "id": "Izfj8eNWQ8xX"
   },
   "outputs": [
    {
     "data": {
      "text/plain": [
       "0.7391553563096053"
      ]
     },
     "execution_count": 25,
     "metadata": {},
     "output_type": "execute_result"
    }
   ],
   "source": [
    "np.random.rand()"
   ]
  },
  {
   "cell_type": "markdown",
   "metadata": {
    "id": "_Vp10G1Y3Cgx"
   },
   "source": [
    "## Using Backslash"
   ]
  },
  {
   "cell_type": "code",
   "execution_count": 26,
   "metadata": {
    "colab": {
     "base_uri": "https://localhost:8080/"
    },
    "id": "k1ihTRjaPe0w",
    "outputId": "acbaf613-a811-4621-942f-f4e27454ab4a"
   },
   "outputs": [
    {
     "name": "stdout",
     "output_type": "stream",
     "text": [
      "Mehmet's book \n"
     ]
    }
   ],
   "source": [
    "## use quote in a single quote with backslash symbol\n",
    "\n",
    "string1 = 'Mehmet\\'s book '\n",
    "print(string1)\n"
   ]
  },
  {
   "cell_type": "code",
   "execution_count": 27,
   "metadata": {
    "id": "K5gzr48JPigR"
   },
   "outputs": [
    {
     "name": "stdout",
     "output_type": "stream",
     "text": [
      "John\tSmith\n",
      "James\n",
      "Smith\n"
     ]
    }
   ],
   "source": [
    "## create a string with a tab\n",
    "print('John\\tSmith')\n",
    "\n",
    "## Create a string with a new line\n",
    "print('James\\nSmith')\n"
   ]
  },
  {
   "cell_type": "code",
   "execution_count": 28,
   "metadata": {
    "colab": {
     "base_uri": "https://localhost:8080/"
    },
    "id": "bre_ZulT36MM",
    "outputId": "b152979f-653b-467b-def6-ed2a4fcea63b"
   },
   "outputs": [
    {
     "name": "stdout",
     "output_type": "stream",
     "text": [
      "Happy \\n Birthday\n"
     ]
    }
   ],
   "source": [
    "## using raw strings\n",
    "string2 = r'Happy \\n Birthday'\n",
    "\n",
    "print(string2)"
   ]
  },
  {
   "cell_type": "code",
   "execution_count": 31,
   "metadata": {
    "colab": {
     "base_uri": "https://localhost:8080/"
    },
    "id": "0OtNoRM5Sctz",
    "outputId": "c84e1b33-89c8-4dc2-cead-f316ecd65001"
   },
   "outputs": [
    {
     "name": "stdout",
     "output_type": "stream",
     "text": [
      "Happy \\ Birthday\n"
     ]
    }
   ],
   "source": [
    "string5 = 'Happy \\\\ Birthday'\n",
    "\n",
    "print(string5)"
   ]
  },
  {
   "cell_type": "code",
   "execution_count": null,
   "metadata": {
    "id": "lFVzlOtWS9XZ"
   },
   "outputs": [],
   "source": []
  },
  {
   "cell_type": "code",
   "execution_count": 35,
   "metadata": {
    "colab": {
     "base_uri": "https://localhost:8080/",
     "height": 36
    },
    "id": "qVFfcKA8PnNZ",
    "outputId": "0c03c366-ca91-4510-f5f3-b06aa620f6b8"
   },
   "outputs": [
    {
     "data": {
      "text/plain": [
       "'John Smith'"
      ]
     },
     "execution_count": 35,
     "metadata": {},
     "output_type": "execute_result"
    }
   ],
   "source": [
    "## combining strings\n",
    "\n",
    "string1 = 'John'\n",
    "\n",
    "string2 = 'Smith'\n",
    "\n",
    "## here combine string1 and string2\n",
    "string1 +\" \" +  string2\n"
   ]
  },
  {
   "cell_type": "code",
   "execution_count": 39,
   "metadata": {
    "colab": {
     "base_uri": "https://localhost:8080/",
     "height": 36
    },
    "id": "i3QCFmpW4euY",
    "outputId": "5d8bbeba-60aa-427c-ca85-f112a7a746e8"
   },
   "outputs": [
    {
     "data": {
      "text/plain": [
       "'bread,milk,eggs'"
      ]
     },
     "execution_count": 39,
     "metadata": {},
     "output_type": "execute_result"
    }
   ],
   "source": [
    "## Note also that we can use join method too.\n",
    "shopping_list = ['bread', 'milk', 'eggs']\n",
    "\n",
    "\",\".join(shopping_list)"
   ]
  },
  {
   "cell_type": "markdown",
   "metadata": {
    "id": "NBUO6sNY4lDH"
   },
   "source": [
    "[more on join method](https://www.w3schools.com/python/ref_string_join.asp)"
   ]
  },
  {
   "cell_type": "markdown",
   "metadata": {
    "id": "lMj5Ee3Z4uzU"
   },
   "source": [
    "__Resources__\n",
    "\n",
    "[Follow Chapter 6 from Automate-the-boring-stuff-with-python](https://automatetheboringstuff.com/)\n",
    "\n",
    "[W3-School String Methods](https://www.w3schools.com/python/python_ref_string.asp)"
   ]
  },
  {
   "cell_type": "markdown",
   "metadata": {
    "id": "_BVdx_VKC11F"
   },
   "source": [
    "# Regular Expressions"
   ]
  },
  {
   "cell_type": "markdown",
   "metadata": {
    "id": "rqEPv_BIDPwk"
   },
   "source": [
    "For this notebook, we will follow the discussion from:\n",
    "\n",
    "[Follow Chapter 7 from Automate-the-boring-stuff-with-python](https://automatetheboringstuff.com/)"
   ]
  },
  {
   "cell_type": "code",
   "execution_count": null,
   "metadata": {
    "id": "qEO0FXRpXrPt"
   },
   "outputs": [],
   "source": [
    "## use the phone number +1 410 455 1000\n",
    "\n"
   ]
  },
  {
   "cell_type": "code",
   "execution_count": 40,
   "metadata": {
    "id": "1Eeendu2I0HT"
   },
   "outputs": [],
   "source": [
    "## define a function that takes the user input\n",
    "\n",
    "def user_input():\n",
    "    phone = input(\"Enter your phone number\")\n",
    "    return phone"
   ]
  },
  {
   "cell_type": "code",
   "execution_count": 41,
   "metadata": {
    "colab": {
     "base_uri": "https://localhost:8080/",
     "height": 55
    },
    "id": "72c1aDWFXYbY",
    "outputId": "86d027a0-d58f-4460-eee5-1be22f4dc8c7"
   },
   "outputs": [
    {
     "name": "stdout",
     "output_type": "stream",
     "text": [
      "Enter your phone numbermy phone number is 777 454 2222\n"
     ]
    },
    {
     "data": {
      "text/plain": [
       "'my phone number is 777 454 2222'"
      ]
     },
     "execution_count": 41,
     "metadata": {},
     "output_type": "execute_result"
    }
   ],
   "source": [
    "## show how we are going to use user_input function\n",
    "\n",
    "user_input()"
   ]
  },
  {
   "cell_type": "markdown",
   "metadata": {
    "id": "kPtJbYoaYCro"
   },
   "source": [
    "## Creating Reg Objects"
   ]
  },
  {
   "cell_type": "code",
   "execution_count": 42,
   "metadata": {
    "id": "4a-Y_ieOgrNe"
   },
   "outputs": [],
   "source": [
    "## import re\n",
    "import re"
   ]
  },
  {
   "cell_type": "code",
   "execution_count": 43,
   "metadata": {
    "id": "gSfCEueaYszI"
   },
   "outputs": [],
   "source": [
    "## compile a pattern to match 410-455-1000\n",
    "pattern = re.compile('\\d\\d\\d-\\d\\d\\d-\\d\\d\\d\\d')"
   ]
  },
  {
   "cell_type": "code",
   "execution_count": 47,
   "metadata": {
    "id": "_lT5mrZ4XH0q"
   },
   "outputs": [
    {
     "data": {
      "text/plain": [
       "<re.Match object; span=(25, 37), match='410-455-1000'>"
      ]
     },
     "execution_count": 47,
     "metadata": {},
     "output_type": "execute_result"
    }
   ],
   "source": [
    "## let's find the match\n",
    "mo = pattern.search('This is my phone number: 410-455-1000: call me!')\n",
    "\n",
    "mo"
   ]
  },
  {
   "cell_type": "code",
   "execution_count": 48,
   "metadata": {
    "colab": {
     "base_uri": "https://localhost:8080/",
     "height": 36
    },
    "id": "22MSzyXTZvXI",
    "outputId": "e52a6d42-d3fc-41e1-ddc0-ad2c60a63e4f"
   },
   "outputs": [
    {
     "data": {
      "text/plain": [
       "'410-455-1000'"
      ]
     },
     "execution_count": 48,
     "metadata": {},
     "output_type": "execute_result"
    }
   ],
   "source": [
    "mo.group()"
   ]
  },
  {
   "cell_type": "code",
   "execution_count": 51,
   "metadata": {
    "colab": {
     "base_uri": "https://localhost:8080/"
    },
    "id": "pnwqH2_paL8v",
    "outputId": "e69259c2-b50a-4468-8099-4d22fa17c028"
   },
   "outputs": [
    {
     "data": {
      "text/plain": [
       "37"
      ]
     },
     "execution_count": 51,
     "metadata": {},
     "output_type": "execute_result"
    }
   ],
   "source": [
    "mo.start()\n",
    "\n",
    "mo.end()"
   ]
  },
  {
   "cell_type": "code",
   "execution_count": 52,
   "metadata": {
    "colab": {
     "base_uri": "https://localhost:8080/",
     "height": 36
    },
    "id": "zCQjmoB8YpE8",
    "outputId": "e69d926c-0fd1-41ba-d0e8-4c0912cad093"
   },
   "outputs": [
    {
     "data": {
      "text/plain": [
       "'410-455-1000'"
      ]
     },
     "execution_count": 52,
     "metadata": {},
     "output_type": "execute_result"
    }
   ],
   "source": [
    "string = 'This is my phone number: 410-455-1000: call me!'\n",
    "\n",
    "string[mo.start() : mo.end()]"
   ]
  },
  {
   "cell_type": "markdown",
   "metadata": {
    "id": "y1GuCNp1ZyBI"
   },
   "source": [
    "## Grouping - Use of `()`"
   ]
  },
  {
   "cell_type": "code",
   "execution_count": 53,
   "metadata": {
    "id": "whA1OoB5hMQ_"
   },
   "outputs": [],
   "source": [
    "## compile a pattern for 410-455-1000 \n",
    "## so that we can separate the area code later on\n",
    "pattern = re.compile(r'(\\d\\d\\d)-\\d\\d\\d-\\d\\d\\d\\d')"
   ]
  },
  {
   "cell_type": "code",
   "execution_count": 54,
   "metadata": {
    "colab": {
     "base_uri": "https://localhost:8080/",
     "height": 36
    },
    "id": "TulU-Qs2hdq3",
    "outputId": "48c6a2a9-86d4-413a-8d77-7c964b64a235"
   },
   "outputs": [
    {
     "data": {
      "text/plain": [
       "'410-455-1000'"
      ]
     },
     "execution_count": 54,
     "metadata": {},
     "output_type": "execute_result"
    }
   ],
   "source": [
    "## search for a match\n",
    "mo = pattern.search('410-455-1000')\n",
    "\n",
    "mo.group()"
   ]
  },
  {
   "cell_type": "code",
   "execution_count": 60,
   "metadata": {
    "colab": {
     "base_uri": "https://localhost:8080/",
     "height": 36
    },
    "id": "_XTjSJgFhqzi",
    "outputId": "188869d0-2f14-4c6b-ddfa-b4b031a8c90f"
   },
   "outputs": [
    {
     "data": {
      "text/plain": [
       "'410'"
      ]
     },
     "execution_count": 60,
     "metadata": {},
     "output_type": "execute_result"
    }
   ],
   "source": [
    "## check groups\n",
    "\n",
    "\n",
    "## check group 0,1,2\n",
    "mo.group(1)\n"
   ]
  },
  {
   "cell_type": "code",
   "execution_count": 61,
   "metadata": {
    "id": "v6QCh8K-fYTf"
   },
   "outputs": [
    {
     "data": {
      "text/plain": [
       "'(410)-(455-1000)'"
      ]
     },
     "execution_count": 61,
     "metadata": {},
     "output_type": "execute_result"
    }
   ],
   "source": [
    "## note that \\(  is matching with exactly (\n",
    "pattern = re.compile(r'\\(\\d\\d\\d\\)-\\(\\d\\d\\d-\\d\\d\\d\\d\\)')\n",
    "mo = pattern.search('(410)-(455-1000)')\n",
    "mo.group()"
   ]
  },
  {
   "cell_type": "markdown",
   "metadata": {
    "id": "Eue5lAACiEdv"
   },
   "source": [
    "## Matching Alternatives - Pipes"
   ]
  },
  {
   "cell_type": "code",
   "execution_count": 64,
   "metadata": {
    "colab": {
     "base_uri": "https://localhost:8080/",
     "height": 36
    },
    "id": "wt9IQOAPiL5H",
    "outputId": "71b2461d-7d02-4f08-e850-9ceab5e91dd4"
   },
   "outputs": [
    {
     "data": {
      "text/plain": [
       "'colour'"
      ]
     },
     "execution_count": 64,
     "metadata": {},
     "output_type": "execute_result"
    }
   ],
   "source": [
    "## compile a regex for matching both colour or color\n",
    "pattern = re.compile(r'color|colour')\n",
    "## search for the match\n",
    "mo = pattern.search(\"we have 3 different colours\")\n",
    "\n",
    "mo.group()"
   ]
  },
  {
   "cell_type": "code",
   "execution_count": 70,
   "metadata": {
    "colab": {
     "base_uri": "https://localhost:8080/",
     "height": 208
    },
    "id": "8buE57JlgcJh",
    "outputId": "b3879b8c-8261-4a9c-87c1-a3a0ebc7092f"
   },
   "outputs": [
    {
     "ename": "AttributeError",
     "evalue": "'NoneType' object has no attribute 'group'",
     "output_type": "error",
     "traceback": [
      "\u001b[0;31m---------------------------------------------------------------------------\u001b[0m",
      "\u001b[0;31mAttributeError\u001b[0m                            Traceback (most recent call last)",
      "\u001b[0;32m<ipython-input-70-3a7a2e5d04a9>\u001b[0m in \u001b[0;36m<module>\u001b[0;34m\u001b[0m\n\u001b[1;32m      5\u001b[0m \u001b[0mmo\u001b[0m \u001b[0;34m=\u001b[0m \u001b[0mpattern\u001b[0m\u001b[0;34m.\u001b[0m\u001b[0msearch\u001b[0m\u001b[0;34m(\u001b[0m\u001b[0;34m'15-32-2'\u001b[0m\u001b[0;34m)\u001b[0m\u001b[0;34m\u001b[0m\u001b[0;34m\u001b[0m\u001b[0m\n\u001b[1;32m      6\u001b[0m \u001b[0;34m\u001b[0m\u001b[0m\n\u001b[0;32m----> 7\u001b[0;31m \u001b[0mmo\u001b[0m\u001b[0;34m.\u001b[0m\u001b[0mgroup\u001b[0m\u001b[0;34m(\u001b[0m\u001b[0;34m)\u001b[0m\u001b[0;34m\u001b[0m\u001b[0;34m\u001b[0m\u001b[0m\n\u001b[0m",
      "\u001b[0;31mAttributeError\u001b[0m: 'NoneType' object has no attribute 'group'"
     ]
    }
   ],
   "source": [
    "## create a pattern that matches with 3 digit number or 4 digit number\n",
    "\n",
    "pattern = re.compile(r'\\d\\d\\d|\\d\\d\\d\\d')\n",
    "\n",
    "mo = pattern.search('15-32-2')\n",
    "\n",
    "mo.group()"
   ]
  },
  {
   "cell_type": "markdown",
   "metadata": {
    "id": "bGeBkTbPitaB"
   },
   "source": [
    "__Matching Alternatives with Groups__"
   ]
  },
  {
   "cell_type": "code",
   "execution_count": 74,
   "metadata": {
    "colab": {
     "base_uri": "https://localhost:8080/",
     "height": 208
    },
    "id": "OpIMS68miyPo",
    "outputId": "65ac5556-ac6e-4a18-d677-2b36240d45eb"
   },
   "outputs": [
    {
     "ename": "AttributeError",
     "evalue": "'NoneType' object has no attribute 'group'",
     "output_type": "error",
     "traceback": [
      "\u001b[0;31m---------------------------------------------------------------------------\u001b[0m",
      "\u001b[0;31mAttributeError\u001b[0m                            Traceback (most recent call last)",
      "\u001b[0;32m<ipython-input-74-f0393d54e3de>\u001b[0m in \u001b[0;36m<module>\u001b[0;34m\u001b[0m\n\u001b[1;32m      3\u001b[0m \u001b[0;31m## check for a match\u001b[0m\u001b[0;34m\u001b[0m\u001b[0;34m\u001b[0m\u001b[0;34m\u001b[0m\u001b[0m\n\u001b[1;32m      4\u001b[0m \u001b[0mmo\u001b[0m \u001b[0;34m=\u001b[0m \u001b[0mpattern\u001b[0m\u001b[0;34m.\u001b[0m\u001b[0msearch\u001b[0m\u001b[0;34m(\u001b[0m\u001b[0;34m'jupyter'\u001b[0m\u001b[0;34m)\u001b[0m\u001b[0;34m\u001b[0m\u001b[0;34m\u001b[0m\u001b[0m\n\u001b[0;32m----> 5\u001b[0;31m \u001b[0mmo\u001b[0m\u001b[0;34m.\u001b[0m\u001b[0mgroup\u001b[0m\u001b[0;34m(\u001b[0m\u001b[0;36m1\u001b[0m\u001b[0;34m)\u001b[0m\u001b[0;34m\u001b[0m\u001b[0;34m\u001b[0m\u001b[0m\n\u001b[0m",
      "\u001b[0;31mAttributeError\u001b[0m: 'NoneType' object has no attribute 'group'"
     ]
    }
   ],
   "source": [
    "## compile a regex for matching jupyter(notebooks|notebook|lab)\n",
    "pattern = re.compile(r'jupyter(notebooks|notebook|lab)')\n",
    "## check for a match\n",
    "mo = pattern.search('jupyter')\n",
    "mo.group(1)"
   ]
  },
  {
   "cell_type": "markdown",
   "metadata": {
    "id": "_AzQbIYa56fa"
   },
   "source": [
    "- talk about how to escape\n"
   ]
  },
  {
   "cell_type": "code",
   "execution_count": null,
   "metadata": {
    "id": "Flvl4ZCu5-G8"
   },
   "outputs": [],
   "source": [
    "## note that if we want to match `|` then we can escape it with `\\`\n",
    "\n"
   ]
  },
  {
   "cell_type": "markdown",
   "metadata": {
    "id": "AyQ1d1UCjqy2"
   },
   "source": [
    "## Matching zero or one - Use of `?` symbol"
   ]
  },
  {
   "cell_type": "code",
   "execution_count": 80,
   "metadata": {
    "colab": {
     "base_uri": "https://localhost:8080/",
     "height": 36
    },
    "id": "-SJLouiijulq",
    "outputId": "d93b5c81-5385-4fd4-b50f-f5f47e16b819"
   },
   "outputs": [
    {
     "data": {
      "text/plain": [
       "'4104551000'"
      ]
     },
     "execution_count": 80,
     "metadata": {},
     "output_type": "execute_result"
    }
   ],
   "source": [
    "## compile a pattern for matching jupyter, jupyternotebook, jupyternotebooks or jupyterlab\n",
    "pattern = re.compile(r'\\d\\d\\d(-| )?\\d\\d\\d(-| )?\\d\\d\\d\\d')\n",
    "mo = pattern.search('4104551000')\n",
    "mo.group()"
   ]
  },
  {
   "cell_type": "code",
   "execution_count": 81,
   "metadata": {
    "id": "GY5U6T7N7z6D"
   },
   "outputs": [],
   "source": [
    "string = '4104551000'"
   ]
  },
  {
   "cell_type": "code",
   "execution_count": 85,
   "metadata": {
    "id": "LJWrFsVX7kZy"
   },
   "outputs": [
    {
     "data": {
      "text/plain": [
       "'4104551000'"
      ]
     },
     "execution_count": 85,
     "metadata": {},
     "output_type": "execute_result"
    }
   ],
   "source": [
    "## search for a match\n",
    "mo = pattern.search(string)\n",
    "## check the groups\n",
    "mo.group()"
   ]
  },
  {
   "cell_type": "markdown",
   "metadata": {
    "id": "Io6KVw7NkB5F"
   },
   "source": [
    " "
   ]
  },
  {
   "cell_type": "markdown",
   "metadata": {
    "id": "-RQn0y5qkEK6"
   },
   "source": [
    "- Compile a pattern that can match with either (410)-455-1000 or 455-1000"
   ]
  },
  {
   "cell_type": "code",
   "execution_count": 86,
   "metadata": {
    "id": "_8BIgGP3kBYr"
   },
   "outputs": [],
   "source": [
    "## your answer here\n",
    "\n",
    "pattern = re.compile(r'(\\(\\d\\d\\d\\)-)?(\\d\\d\\d-\\d\\d\\d\\d)')"
   ]
  },
  {
   "cell_type": "code",
   "execution_count": 87,
   "metadata": {
    "colab": {
     "base_uri": "https://localhost:8080/",
     "height": 36
    },
    "id": "iXniNG3dkK-K",
    "outputId": "b1c26248-5e2b-41c8-d040-63f1ea156319"
   },
   "outputs": [
    {
     "data": {
      "text/plain": [
       "'455-1000'"
      ]
     },
     "execution_count": 87,
     "metadata": {},
     "output_type": "execute_result"
    }
   ],
   "source": [
    "string1= '(410)-455-1000'\n",
    "string2 = '455-1000'\n",
    "string3 = '-455-1000'\n",
    "\n",
    "mo = pattern.search(string3)\n",
    "\n",
    "mo.group()"
   ]
  },
  {
   "cell_type": "code",
   "execution_count": 90,
   "metadata": {
    "colab": {
     "base_uri": "https://localhost:8080/",
     "height": 208
    },
    "id": "HFptraO_lZN6",
    "outputId": "2db86e49-c2d0-4aec-a46a-28e508291324"
   },
   "outputs": [
    {
     "ename": "AttributeError",
     "evalue": "'NoneType' object has no attribute 'group'",
     "output_type": "error",
     "traceback": [
      "\u001b[0;31m---------------------------------------------------------------------------\u001b[0m",
      "\u001b[0;31mAttributeError\u001b[0m                            Traceback (most recent call last)",
      "\u001b[0;32m<ipython-input-90-b896dbb36e3b>\u001b[0m in \u001b[0;36m<module>\u001b[0;34m\u001b[0m\n\u001b[1;32m      4\u001b[0m \u001b[0mmo\u001b[0m \u001b[0;34m=\u001b[0m \u001b[0mpattern\u001b[0m\u001b[0;34m.\u001b[0m\u001b[0msearch\u001b[0m\u001b[0;34m(\u001b[0m\u001b[0;34m'1--2'\u001b[0m\u001b[0;34m)\u001b[0m\u001b[0;34m\u001b[0m\u001b[0;34m\u001b[0m\u001b[0m\n\u001b[1;32m      5\u001b[0m \u001b[0;34m\u001b[0m\u001b[0m\n\u001b[0;32m----> 6\u001b[0;31m \u001b[0mmo\u001b[0m\u001b[0;34m.\u001b[0m\u001b[0mgroup\u001b[0m\u001b[0;34m(\u001b[0m\u001b[0;34m)\u001b[0m\u001b[0;34m\u001b[0m\u001b[0;34m\u001b[0m\u001b[0m\n\u001b[0m",
      "\u001b[0;31mAttributeError\u001b[0m: 'NoneType' object has no attribute 'group'"
     ]
    }
   ],
   "source": [
    "## Note that ? catches at most one char\n",
    "pattern = re.compile(r'\\d-?\\d')\n",
    "\n",
    "mo = pattern.search('1--2')\n",
    "\n",
    "mo.group()"
   ]
  },
  {
   "cell_type": "markdown",
   "metadata": {
    "id": "ORiWzHBKkPpK"
   },
   "source": [
    "## Matching zero or more - Use of `*` symbol"
   ]
  },
  {
   "cell_type": "code",
   "execution_count": null,
   "metadata": {
    "id": "_eckRBprkWjq"
   },
   "outputs": [],
   "source": [
    "## compile a pattern for mathing 410-455-1000\n"
   ]
  },
  {
   "cell_type": "code",
   "execution_count": 91,
   "metadata": {
    "id": "-CnsPHdv8vif"
   },
   "outputs": [],
   "source": [
    "string = '410-455-1000'"
   ]
  },
  {
   "cell_type": "code",
   "execution_count": 92,
   "metadata": {
    "id": "67be52_x8xul"
   },
   "outputs": [],
   "source": [
    "## match pattern\n",
    "\n",
    "pattern = re.compile(r'\\d*-\\d*-\\d*')\n",
    "\n"
   ]
  },
  {
   "cell_type": "code",
   "execution_count": 93,
   "metadata": {
    "colab": {
     "base_uri": "https://localhost:8080/",
     "height": 36
    },
    "id": "WkjyO8dVmgo_",
    "outputId": "fb408617-cfed-49d4-e651-76347536f931"
   },
   "outputs": [
    {
     "data": {
      "text/plain": [
       "'410-455-1000'"
      ]
     },
     "execution_count": 93,
     "metadata": {},
     "output_type": "execute_result"
    }
   ],
   "source": [
    "string = '410-455-1000'\n",
    "\n",
    "mo = pattern.search(string)\n",
    "mo.group()"
   ]
  },
  {
   "cell_type": "code",
   "execution_count": 96,
   "metadata": {
    "colab": {
     "base_uri": "https://localhost:8080/",
     "height": 36
    },
    "id": "sLd7JC029NAm",
    "outputId": "28862c46-8f58-40a6-9193-74d0c6b0fe72"
   },
   "outputs": [
    {
     "data": {
      "text/plain": [
       "'41--10000'"
      ]
     },
     "execution_count": 96,
     "metadata": {},
     "output_type": "execute_result"
    }
   ],
   "source": [
    "## what migth go wrong here\n",
    "import re\n",
    "string2 = '41--10000'\n",
    "pattern = re.compile(r'(\\d*)-(\\d*)-(\\d*)')\n",
    "mo = pattern.search(string2)\n",
    "mo.group()"
   ]
  },
  {
   "cell_type": "markdown",
   "metadata": {
    "id": "52-CEFluoyZ3"
   },
   "source": [
    "## Match One or More"
   ]
  },
  {
   "cell_type": "code",
   "execution_count": 97,
   "metadata": {
    "id": "z9Zm3pAbo3mH"
   },
   "outputs": [],
   "source": [
    "## compile a pattern for mathing 410-455-1000\n",
    "pattern = re.compile(r'\\d+-\\d+-\\d+')\n",
    "\n"
   ]
  },
  {
   "cell_type": "code",
   "execution_count": 98,
   "metadata": {
    "id": "hgNSk0qO9eG7"
   },
   "outputs": [],
   "source": [
    "string = '410-455-1000'"
   ]
  },
  {
   "cell_type": "code",
   "execution_count": 99,
   "metadata": {
    "colab": {
     "base_uri": "https://localhost:8080/"
    },
    "id": "-D6ncDHq9hz4",
    "outputId": "02b675f4-1e1e-4a06-b5cb-b9713aa4982c"
   },
   "outputs": [
    {
     "data": {
      "text/plain": [
       "<re.Match object; span=(0, 12), match='410-455-1000'>"
      ]
     },
     "execution_count": 99,
     "metadata": {},
     "output_type": "execute_result"
    }
   ],
   "source": [
    "## match the pattern\n",
    "\n",
    "re.search(pattern, string)"
   ]
  },
  {
   "cell_type": "code",
   "execution_count": 100,
   "metadata": {
    "colab": {
     "base_uri": "https://localhost:8080/"
    },
    "id": "H5dQDLrJ9ke_",
    "outputId": "56fc2efa-c0ec-4a24-ef5d-6eaae4a4ca33"
   },
   "outputs": [
    {
     "data": {
      "text/plain": [
       "<re.Match object; span=(0, 39), match='100000000-1020202020202-102020202020202'>"
      ]
     },
     "execution_count": 100,
     "metadata": {},
     "output_type": "execute_result"
    }
   ],
   "source": [
    "## what might go wrong\n",
    "\n",
    "string2 = '41--10000'\n",
    "re.search(pattern, string2)\n",
    "\n",
    "## another case? Try to find a case where this might not be an ideal pattern for phone number matching\n",
    "\n",
    "string3 = '100000000-1020202020202-102020202020202'\n",
    "\n",
    "re.search(pattern, string3)\n"
   ]
  },
  {
   "cell_type": "markdown",
   "metadata": {
    "id": "zzJLOrXeo9W5"
   },
   "source": [
    "## Matching a Fixed Amount of Repetition - use of `{}`"
   ]
  },
  {
   "cell_type": "code",
   "execution_count": 101,
   "metadata": {
    "id": "jmJbikq692iv"
   },
   "outputs": [],
   "source": [
    "## compile a pattern for mathing 410-455-1000\n",
    "\n",
    "pattern = re.compile(r'\\d{3}-\\d{3}-\\d{4}')"
   ]
  },
  {
   "cell_type": "code",
   "execution_count": 102,
   "metadata": {
    "id": "mBNOOF6D98wd"
   },
   "outputs": [],
   "source": [
    "string = '410-455-1000'"
   ]
  },
  {
   "cell_type": "code",
   "execution_count": 103,
   "metadata": {
    "colab": {
     "base_uri": "https://localhost:8080/"
    },
    "id": "THf2LMWi-DJF",
    "outputId": "13e21d65-acf9-4798-b705-bb8340b8e513"
   },
   "outputs": [
    {
     "data": {
      "text/plain": [
       "<re.Match object; span=(0, 12), match='410-455-1000'>"
      ]
     },
     "execution_count": 103,
     "metadata": {},
     "output_type": "execute_result"
    }
   ],
   "source": [
    "## match the pattern \n",
    "re.search(pattern, string)\n"
   ]
  },
  {
   "cell_type": "code",
   "execution_count": 104,
   "metadata": {
    "id": "9mX5_ZtYpdxR"
   },
   "outputs": [],
   "source": [
    "string2 = '1201212-121212-121'\n",
    "re.search(pattern, string2)\n"
   ]
  },
  {
   "cell_type": "markdown",
   "metadata": {
    "id": "TnGZqH3r-NL2"
   },
   "source": [
    "\n",
    "- Compile a pattern that matches with webaddresses. i.e. `www.sometext.com`"
   ]
  },
  {
   "cell_type": "code",
   "execution_count": 105,
   "metadata": {
    "id": "w_laVrMnpHW0"
   },
   "outputs": [
    {
     "data": {
      "text/plain": [
       "<re.Match object; span=(32, 44), match='www.umbc.edu'>"
      ]
     },
     "execution_count": 105,
     "metadata": {},
     "output_type": "execute_result"
    }
   ],
   "source": [
    "## compile a pattern to match www.sometext.com\n",
    "pattern = re.compile(r'w{3}\\.\\w+(\\.\\w+)+')\n",
    "\n",
    "pattern.search('the information can be found at www.umbc.edu')"
   ]
  },
  {
   "cell_type": "markdown",
   "metadata": {
    "id": "jtdN0-ihpxw4"
   },
   "source": [
    "__Use of `{i, j}}`__\n"
   ]
  },
  {
   "cell_type": "code",
   "execution_count": 106,
   "metadata": {
    "id": "iwIkss_C-tA5"
   },
   "outputs": [],
   "source": [
    "## Suppose each address in united states start with a number with 2 to 7 numbers\n",
    "## i.e. 10117 west street, Baltimore, MD or 13 Elm Street, Baltimore, MD\n",
    "\n",
    "## compile a pattern that catches the street number\n",
    "pattern = re.compile(r'\\d{2,7}')"
   ]
  },
  {
   "cell_type": "code",
   "execution_count": 107,
   "metadata": {
    "id": "tCP-C82b_c3-"
   },
   "outputs": [
    {
     "data": {
      "text/plain": [
       "<re.Match object; span=(0, 4), match='1000'>"
      ]
     },
     "execution_count": 107,
     "metadata": {},
     "output_type": "execute_result"
    }
   ],
   "source": [
    "umbc = \"1000 Hilltop Circle Baltimore, MD 21250\"\n",
    "re.search(pattern, umbc)"
   ]
  },
  {
   "cell_type": "code",
   "execution_count": 108,
   "metadata": {
    "id": "J75Lv6PQ_nux"
   },
   "outputs": [],
   "source": [
    "loc = '101 Independence Ave SE'"
   ]
  },
  {
   "cell_type": "code",
   "execution_count": 113,
   "metadata": {
    "colab": {
     "base_uri": "https://localhost:8080/"
    },
    "id": "e9z0RWnh_rE-",
    "outputId": "f54bfed4-cffd-479f-a88d-bb1d631eaeab"
   },
   "outputs": [
    {
     "data": {
      "text/plain": [
       "<re.Match object; span=(0, 3), match='101'>"
      ]
     },
     "execution_count": 113,
     "metadata": {},
     "output_type": "execute_result"
    }
   ],
   "source": [
    "re.search(pattern, loc)\n"
   ]
  },
  {
   "cell_type": "markdown",
   "metadata": {
    "id": "VOqVkbRLw9si"
   },
   "source": [
    "## Greedy vs NonGreedy Match "
   ]
  },
  {
   "cell_type": "code",
   "execution_count": 115,
   "metadata": {
    "id": "LsBhhr5AxUbS"
   },
   "outputs": [
    {
     "data": {
      "text/plain": [
       "<re.Match object; span=(0, 3), match='100'>"
      ]
     },
     "execution_count": 115,
     "metadata": {},
     "output_type": "execute_result"
    }
   ],
   "source": [
    "## compile a pattern to match exactly 3 to 5 integers in a nongreedy fashion\n",
    "\n",
    "## note that we can also use re.search method without compiling the pattern\n",
    "\n",
    "# re.search(r'\\d{3,5}', umbc) # greedy\n",
    "\n",
    "re.search(r'\\d{3,5}?', umbc) # lazy"
   ]
  },
  {
   "cell_type": "markdown",
   "metadata": {
    "id": "2diOFERR1efa"
   },
   "source": [
    "## Findall"
   ]
  },
  {
   "cell_type": "code",
   "execution_count": 117,
   "metadata": {
    "id": "cXpdv4uXBdJa"
   },
   "outputs": [],
   "source": [
    "email = \"\"\"\n",
    "from : mehmet.sarica@umbc.edu\n",
    "to : datascience_umbc@umbc.edu\n",
    "cc: group@gmail.com.tr\n",
    "subject: 'Hello World!'\n",
    "body: \"hello hello hello\"\n",
    "\"\"\""
   ]
  },
  {
   "cell_type": "code",
   "execution_count": 118,
   "metadata": {
    "id": "3eqxb3abBT2g"
   },
   "outputs": [
    {
     "data": {
      "text/plain": [
       "['mehmet.sarica@umbc.edu', 'datascience_umbc@umbc.edu', 'group@gmail.com.tr']"
      ]
     },
     "execution_count": 118,
     "metadata": {},
     "output_type": "execute_result"
    }
   ],
   "source": [
    "## note that sometimes we might want to catch more than one cases\n",
    "\n",
    "re.findall(r'([a-zA-Z0-9_.+-]+@[a-zA-Z0-9-]+\\.[a-zA-Z0-9-.]+)', email)"
   ]
  },
  {
   "cell_type": "markdown",
   "metadata": {
    "id": "GppHXX1s1i8u"
   },
   "source": [
    "## Character Classes"
   ]
  },
  {
   "cell_type": "markdown",
   "metadata": {
    "id": "vx1YJCfV9Xfo"
   },
   "source": [
    "![Screen Shot 2021-10-21 at 1.45.33 PM.png](data:image/png;base64,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)"
   ]
  },
  {
   "cell_type": "markdown",
   "metadata": {
    "id": "UITXWhx6D1Xl"
   },
   "source": [
    "## Caret `^` and `$` symbols"
   ]
  },
  {
   "cell_type": "markdown",
   "metadata": {
    "id": "DbLQxq6VEJm9"
   },
   "source": [
    "- use the caret symbol (^) at the start of a regex to indicate that\n",
    "a match must occur at the beginning of the searched text. \n",
    "- Use a dollar sign ($) at the end of the regex to indicate the string must end\n",
    "with this regex pattern."
   ]
  },
  {
   "cell_type": "code",
   "execution_count": 119,
   "metadata": {
    "colab": {
     "base_uri": "https://localhost:8080/"
    },
    "id": "rZ5NbhuEEJJa",
    "outputId": "95611c73-c782-4694-959c-8da5e726cadb"
   },
   "outputs": [
    {
     "data": {
      "text/plain": [
       "<re.Match object; span=(0, 5), match='Hello'>"
      ]
     },
     "execution_count": 119,
     "metadata": {},
     "output_type": "execute_result"
    }
   ],
   "source": [
    "## let's take a look at 'hello world!\n",
    "\n",
    "beginsWithHello = re.compile(r'^Hello')\n",
    "beginsWithHello.search('Hello world!')"
   ]
  },
  {
   "cell_type": "code",
   "execution_count": 120,
   "metadata": {
    "colab": {
     "base_uri": "https://localhost:8080/"
    },
    "id": "ej-mQCx3EZVZ",
    "outputId": "4338dd55-2531-4842-a0b7-dbd1b43a8c54"
   },
   "outputs": [
    {
     "data": {
      "text/plain": [
       "True"
      ]
     },
     "execution_count": 120,
     "metadata": {},
     "output_type": "execute_result"
    }
   ],
   "source": [
    "## note that there is no match in the following case\n",
    "beginsWithHello.search('He said Hello.') == None"
   ]
  },
  {
   "cell_type": "code",
   "execution_count": 124,
   "metadata": {
    "colab": {
     "base_uri": "https://localhost:8080/"
    },
    "id": "iNKW274tEs4A",
    "outputId": "6bf20c6f-c65a-42bf-a068-ecc5e11f8aad"
   },
   "outputs": [
    {
     "data": {
      "text/plain": [
       "<re.Match object; span=(13, 14), match='3'>"
      ]
     },
     "execution_count": 124,
     "metadata": {},
     "output_type": "execute_result"
    }
   ],
   "source": [
    "## similarly let's use $ symbol\n",
    "endsWithNumber = re.compile(r'\\d$')\n",
    "\n",
    "endsWithNumber.search('Your number 13') "
   ]
  },
  {
   "cell_type": "markdown",
   "metadata": {
    "id": "pRJ9gFwA97tZ"
   },
   "source": [
    "\n",
    "### Case-Insensitive\n",
    "\n",
    "https://docs.python.org/3/library/re.html\n",
    "\n",
    "(?aiLmsux)\n",
    "(One or more letters from the set 'a', 'i', 'L', 'm', 's', 'u', 'x'.) The group matches the empty string; the letters set the corresponding flags: re.A (ASCII-only matching), re.I (ignore case), re.L (locale dependent), re.M (multi-line), re.S (dot matches all), re.U (Unicode matching), and re.X (verbose), for the entire regular expression. (The flags are described in Module Contents.) This is useful if you wish to include the flags as part of the regular expression, instead of passing a flag argument to the re.compile() function. Flags should be used first in the expression string."
   ]
  },
  {
   "cell_type": "code",
   "execution_count": 125,
   "metadata": {
    "colab": {
     "base_uri": "https://localhost:8080/",
     "height": 36
    },
    "id": "ohTFDZ_oFCXp",
    "outputId": "e62f5cfa-13b8-4094-8718-49985038ed1c"
   },
   "outputs": [
    {
     "data": {
      "text/plain": [
       "'RoboCop'"
      ]
     },
     "execution_count": 125,
     "metadata": {},
     "output_type": "execute_result"
    }
   ],
   "source": [
    "## note that we can also use flags to case-insensitive matches\n",
    "robocop = re.compile(r'robocop', re.I)\n",
    "robocop.search('RoboCop is part man, part machine, all cop.').group()"
   ]
  },
  {
   "cell_type": "markdown",
   "metadata": {
    "id": "rB3dWw1JAQDb"
   },
   "source": [
    "# Lab"
   ]
  },
  {
   "cell_type": "code",
   "execution_count": null,
   "metadata": {},
   "outputs": [],
   "source": []
  }
 ],
 "metadata": {
  "colab": {
   "collapsed_sections": [
    "xSx8tysKLOrx",
    "_Vp10G1Y3Cgx",
    "kPtJbYoaYCro",
    "VOqVkbRLw9si",
    "2diOFERR1efa",
    "GppHXX1s1i8u",
    "UITXWhx6D1Xl",
    "pRJ9gFwA97tZ",
    "rB3dWw1JAQDb"
   ],
   "name": "Fall21_WorkingWithStrings_StudentCopy_After.ipynb",
   "provenance": []
  },
  "kernelspec": {
   "display_name": "Python 3",
   "language": "python",
   "name": "python3"
  },
  "language_info": {
   "codemirror_mode": {
    "name": "ipython",
    "version": 3
   },
   "file_extension": ".py",
   "mimetype": "text/x-python",
   "name": "python",
   "nbconvert_exporter": "python",
   "pygments_lexer": "ipython3",
   "version": "3.8.8"
  },
  "toc": {
   "base_numbering": 1,
   "nav_menu": {},
   "number_sections": true,
   "sideBar": true,
   "skip_h1_title": false,
   "title_cell": "Table of Contents",
   "title_sidebar": "Contents",
   "toc_cell": false,
   "toc_position": {},
   "toc_section_display": true,
   "toc_window_display": false
  }
 },
 "nbformat": 4,
 "nbformat_minor": 1
}
